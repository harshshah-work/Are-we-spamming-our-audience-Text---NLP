{
  "nbformat": 4,
  "nbformat_minor": 0,
  "metadata": {
    "colab": {
      "name": "AlumniSubjectAnalysis.ipynb",
      "provenance": [],
      "collapsed_sections": [
        "wNHdfwebRuT-",
        "prQRr8zERzZm",
        "jcxcCi13Xtl_",
        "dFPd2sxCllnq",
        "jLxuuFH3g9I_",
        "pLHBRKuz_xGy",
        "K4o3hN9DKg-A",
        "X9rgPDNbKVnj",
        "GplI0K6GjaVs",
        "Tk6Kd0SmN09N",
        "uGmGp5rscrr6",
        "qvwQA_zT0ZDH",
        "P5E0QQcP0iQv"
      ]
    },
    "kernelspec": {
      "name": "python3",
      "display_name": "Python 3"
    },
    "accelerator": "GPU"
  },
  "cells": [
    {
      "cell_type": "markdown",
      "metadata": {
        "id": "wNHdfwebRuT-",
        "colab_type": "text"
      },
      "source": [
        "#Import Libraries\n"
      ]
    },
    {
      "cell_type": "code",
      "metadata": {
        "id": "tZJriWL0RHQJ",
        "colab_type": "code",
        "outputId": "ed4fa822-722c-419f-b845-0d46adbb5035",
        "colab": {
          "base_uri": "https://localhost:8080/",
          "height": 139
        }
      },
      "source": [
        "#@title\n",
        "from google.colab import drive\n",
        "drive.mount('/gdrive')\n",
        "%cd /gdrive"
      ],
      "execution_count": 0,
      "outputs": [
        {
          "output_type": "stream",
          "text": [
            "Go to this URL in a browser: https://accounts.google.com/o/oauth2/auth?client_id=947318989803-6bn6qk8qdgf4n4g3pfee6491hc0brc4i.apps.googleusercontent.com&redirect_uri=urn%3aietf%3awg%3aoauth%3a2.0%3aoob&response_type=code&scope=email%20https%3a%2f%2fwww.googleapis.com%2fauth%2fdocs.test%20https%3a%2f%2fwww.googleapis.com%2fauth%2fdrive%20https%3a%2f%2fwww.googleapis.com%2fauth%2fdrive.photos.readonly%20https%3a%2f%2fwww.googleapis.com%2fauth%2fpeopleapi.readonly\n",
            "\n",
            "Enter your authorization code:\n",
            "··········\n",
            "Mounted at /gdrive\n",
            "/gdrive\n"
          ],
          "name": "stdout"
        }
      ]
    },
    {
      "cell_type": "code",
      "metadata": {
        "id": "IuzXbnpoRmKl",
        "colab_type": "code",
        "colab": {}
      },
      "source": [
        "#@title\n",
        "!wget http://mallet.cs.umass.edu/dist/mallet-2.0.8.zip\n",
        "!unzip mallet-2.0.8.zip"
      ],
      "execution_count": 0,
      "outputs": []
    },
    {
      "cell_type": "code",
      "metadata": {
        "id": "C75U2qMLRn_U",
        "colab_type": "code",
        "colab": {}
      },
      "source": [
        "#@title\n",
        "#installion requirements for GENSIM\n",
        "import os\n",
        "!pip install --upgrade gensim\n",
        "\n",
        "def install_java():\n",
        "  !apt-get install -y openjdk-8-jdk-headless -qq > /dev/null      #install openjdk\n",
        "  os.environ[\"JAVA_HOME\"] = \"/usr/lib/jvm/java-8-openjdk-amd64\"   #set environment variable\n",
        "  !java -version      #check java version\n",
        "install_java()\n",
        "\n",
        "import nltk\n",
        "nltk.download('stopwords')\n",
        "from nltk.corpus import stopwords\n",
        "stop_words = stopwords.words('english')\n",
        "stop_words.extend(['from','subject','re','edu','use','test','%%subject%%','be','dd'])\n",
        "#re\n",
        "import re\n",
        "import numpy as np\n",
        "import pandas as pd\n",
        "from pprint import pprint\n",
        "\n",
        "\n",
        "#gensim\n",
        "import gensim\n",
        "import gensim.corpora as corpora\n",
        "import gensim.utils as simple_preprocess\n",
        "from gensim.models import CoherenceModel\n",
        "from gensim.models.wrappers import LdaMallet\n",
        "from gensim.test.utils import datapath\n",
        "\n",
        "\n",
        "#spacy \n",
        "!pip install spacy\n",
        "import spacy\n",
        "!python -m spacy download en_core_web_lg\n",
        "\n",
        "\n",
        "#plotting tools\n",
        "!pip install pyLDAvis\n",
        "import pyLDAvis\n",
        "import pyLDAvis.gensim\n",
        "import matplotlib.pyplot as plt\n",
        "%matplotlib inline\n",
        "\n",
        "import warnings\n",
        "warnings.filterwarnings('ignore', category = DeprecationWarning)\n",
        "\n",
        "import os.path\n",
        "os.environ['MALLET_HOME'] = '/content/mallet-2.0.8'\n",
        "mallet_path = '/content/mallet-2.0.8/bin/mallet' "
      ],
      "execution_count": 0,
      "outputs": []
    },
    {
      "cell_type": "markdown",
      "metadata": {
        "id": "prQRr8zERzZm",
        "colab_type": "text"
      },
      "source": [
        "# Import Dataset"
      ]
    },
    {
      "cell_type": "code",
      "metadata": {
        "id": "PhSSBb3tRqK-",
        "colab_type": "code",
        "colab": {}
      },
      "source": [
        "data_df = pd.read_csv(r'/gdrive/My Drive/KAEMH/EmailSpamAnalysis/All_Email_Campaigns_02042020.csv')\n",
        "df_sample=data_df.sample(frac=0.10)"
      ],
      "execution_count": 0,
      "outputs": []
    },
    {
      "cell_type": "code",
      "metadata": {
        "id": "uY7pzBtmR5Wa",
        "colab_type": "code",
        "colab": {}
      },
      "source": [
        "def display_all(df):\n",
        "  \"\"\" Function to display the whole dataframe\"\"\"\n",
        "  with pd.option_context(\"display.max_rows\",1000):\n",
        "    with pd.option_context(\"display.max_columns\",1000):\n",
        "      display(df)"
      ],
      "execution_count": 0,
      "outputs": []
    },
    {
      "cell_type": "code",
      "metadata": {
        "id": "4qHEgkTbR9OV",
        "colab_type": "code",
        "colab": {}
      },
      "source": [
        "display_all(data_df)"
      ],
      "execution_count": 0,
      "outputs": []
    },
    {
      "cell_type": "code",
      "metadata": {
        "id": "ri0GZ3l2VNSm",
        "colab_type": "code",
        "colab": {}
      },
      "source": [
        "data_df['FromName'].unique()"
      ],
      "execution_count": 0,
      "outputs": []
    },
    {
      "cell_type": "markdown",
      "metadata": {
        "id": "jcxcCi13Xtl_",
        "colab_type": "text"
      },
      "source": [
        "#Filter by Alumni and Enterprise marketing hub communication"
      ]
    },
    {
      "cell_type": "code",
      "metadata": {
        "id": "oJ_zRqMKXpWT",
        "colab_type": "code",
        "colab": {}
      },
      "source": [
        "def FilterByString(stringlist, substrfilter):\n",
        "\n",
        "  \"\"\"Filter string by substring\"\"\"\n",
        "\n",
        "  return[string for string in stringlist if\n",
        "          any(substring in string for substring in substrfilter)]        "
      ],
      "execution_count": 0,
      "outputs": []
    },
    {
      "cell_type": "code",
      "metadata": {
        "id": "xJtPrHqObzgu",
        "colab_type": "code",
        "colab": {}
      },
      "source": [
        "data_df.dtypes"
      ],
      "execution_count": 0,
      "outputs": []
    },
    {
      "cell_type": "code",
      "metadata": {
        "id": "qVmYBBUJYzro",
        "colab_type": "code",
        "colab": {}
      },
      "source": [
        "SubStringFilter=['alumni','marketing']\n",
        "\n",
        "Filtered_df=pd.DataFrame(data_df[data_df['FromName'].str.lower().str.contains('|'.join(SubStringFilter),na=False)])\n",
        "Filtered_df"
      ],
      "execution_count": 0,
      "outputs": []
    },
    {
      "cell_type": "code",
      "metadata": {
        "id": "Ggac90FG1CxA",
        "colab_type": "code",
        "colab": {}
      },
      "source": [
        "Filtered_df[Filtered_df['DimBusinessUnitId']==87]"
      ],
      "execution_count": 0,
      "outputs": []
    },
    {
      "cell_type": "code",
      "metadata": {
        "id": "VaJikTAOjjnU",
        "colab_type": "code",
        "colab": {}
      },
      "source": [
        "Filtered_df['FromName'].unique()"
      ],
      "execution_count": 0,
      "outputs": []
    },
    {
      "cell_type": "code",
      "metadata": {
        "id": "cWp3YKFdQlM-",
        "colab_type": "code",
        "colab": {}
      },
      "source": [
        "businessId_list=Filtered_df['DimBusinessUnitId'].unique()\n",
        "filter_filter_df =pd.DataFrame(Filtered_df [['DimCampaignId','DimBusinessUnitId','Subject','FromName','Name']])\n",
        "filter_filter_df"
      ],
      "execution_count": 0,
      "outputs": []
    },
    {
      "cell_type": "markdown",
      "metadata": {
        "id": "dFPd2sxCllnq",
        "colab_type": "text"
      },
      "source": [
        "#Data Pre-Processing with Spacy and Gensim"
      ]
    },
    {
      "cell_type": "code",
      "metadata": {
        "id": "LAVBOx_rlnoL",
        "colab_type": "code",
        "colab": {}
      },
      "source": [
        "#convert the data to a list(SAMPLE)\n",
        "\n",
        "data_list_sample = Filtered_df['Subject']\n",
        "\n",
        "data_list_sample\n"
      ],
      "execution_count": 0,
      "outputs": []
    },
    {
      "cell_type": "code",
      "metadata": {
        "id": "_jcI6SEllnxL",
        "colab_type": "code",
        "colab": {}
      },
      "source": [
        "data_list = Filtered_df['Subject'].dropna()\n",
        "data_list=data_list.values.tolist()\n",
        "data_list"
      ],
      "execution_count": 0,
      "outputs": []
    },
    {
      "cell_type": "code",
      "metadata": {
        "id": "a2BPGMczdZj0",
        "colab_type": "code",
        "colab": {}
      },
      "source": [
        "# Remove Emails\n",
        "data_list = [re.sub('\\S*@\\S*\\s?', '', sent) for sent in data_list]\n",
        "\n",
        "# Remove new line characters\n",
        "data_list = [re.sub('\\s+', ' ', sent) for sent in data_list]\n",
        "\n",
        "# Remove distracting single quotes\n",
        "data_list = [re.sub(\"\\'\", \"\", sent) for sent in data_list]\n",
        "\n",
        "#digits\n",
        "data_list = [re.sub(\"^\\d+\\s|\\s\\d+\\s|\\s\\d+$\", \" \", s) for sent in data_list]\n",
        "data_list"
      ],
      "execution_count": 0,
      "outputs": []
    },
    {
      "cell_type": "code",
      "metadata": {
        "id": "n5jNquzST8da",
        "colab_type": "code",
        "colab": {}
      },
      "source": [
        "#preprocess for the subject lines\n",
        "\n",
        "def custom_cleaner(doc):\n",
        "\n",
        "  tokens= [token.lemma_.lower()\n",
        "              for token in doc \n",
        "                  if (\n",
        "                    \n",
        "                    len(token) >=2 and\n",
        "                    token.pos_ in ['NOUN', 'ADJ', 'VERB', 'ADV'] and\n",
        "                    token.text in nlp.vocab and\n",
        "                    not token.like_url and\n",
        "                    not token.like_num and\n",
        "                    not token.is_digit and\n",
        "                    not token.is_punct and\n",
        "                    not token.is_space and\n",
        "                    not token.is_stop    \n",
        "                  )      \n",
        "          ] \n",
        "  return ' '.join(tokens)"
      ],
      "execution_count": 0,
      "outputs": []
    },
    {
      "cell_type": "code",
      "metadata": {
        "id": "sCtCgWJ9aZh7",
        "colab_type": "code",
        "colab": {}
      },
      "source": [
        "nlp = spacy.load('en_core_web_lg',disable=['parser','ner'])\n",
        "\n",
        "nlp.add_pipe(custom_cleaner,name='cleaner',last=True)\n",
        "\n",
        "clean_corpus = list(nlp.pipe(data_list))\n",
        "clean_corpus_list= [i.split() for i in clean_corpus]\n",
        "clean_corpus_list"
      ],
      "execution_count": 0,
      "outputs": []
    },
    {
      "cell_type": "code",
      "metadata": {
        "id": "4sd0SeBSpDhW",
        "colab_type": "code",
        "colab": {}
      },
      "source": [
        "# using gensim simple_preprocess - Additional preprocessing \n",
        "\n",
        "def sample_prepro(data):\n",
        "  for sent in data:\n",
        "      yield(gensim.utils.simple_preprocess(sent,deacc= True))\n",
        "\n",
        "data_words = list(sample_prepro(clean_corpus))\n",
        "data_words"
      ],
      "execution_count": 0,
      "outputs": []
    },
    {
      "cell_type": "code",
      "metadata": {
        "id": "ODxnYq-DSgZT",
        "colab_type": "code",
        "outputId": "b8d73250-f649-43cb-dad8-842a393f6922",
        "colab": {
          "base_uri": "https://localhost:8080/",
          "height": 71
        }
      },
      "source": [
        "\n",
        "\n",
        "bigram = gensim.models.Phrases(data_words,min_count=2 ,threshold=20)\n",
        "trigram= gensim.models.Phrases(bigram[data_words],threshold=20)\n",
        "\n",
        "#use the above mdoels to come up with the phrases\n",
        "\n",
        "bigram_list=gensim.models.phrases.Phraser(bigram)\n",
        "trigram_list = gensim.models.phrases.Phraser(trigram)\n",
        "\n",
        "#printing the bigram and trigram\n",
        "\n",
        "print(list(bigram_list[data_words]))\n",
        "print(list(trigram_list[bigram_list[data_words[0]]]))"
      ],
      "execution_count": 0,
      "outputs": [
        {
          "output_type": "stream",
          "text": [
            "[['reward', 'summer', 'flash_sale', 'inside', 'secret_word'], ['save', 'auto_insurance'], [], ['share', 'thought', 'chance', 'win'], ['thought', 'chance', 'win'], ['highlight_web', 'communication_camp'], ['highlight_web', 'communication_camp'], ['highlight_web', 'communication_camp'], ['highlight_web', 'communication_camp'], ['highlight_web', 'communication_camp'], ['highlight_web', 'communication_camp'], ['save_hundred'], [], ['ready', 'tailgate'], ['ready', 'tailgate'], ['ready', 'tailgate'], ['ready', 'tailgate'], ['boat', 'football', 'information'], ['professional_development', 'opportunity'], ['professional_development', 'opportunity'], ['invite', 'enjoy_delicious', 'brunch'], ['invite', 'enjoy_delicious', 'brunch'], ['invite', 'enjoy_delicious', 'brunch'], [], ['professional_development', 'opportunity'], ['professional_development', 'opportunity'], ['special', 'offer', 'celebrate', 'graduation'], ['invite', 'enjoy_delicious', 'brunch'], ['update', 'involve_fall'], ['update', 'involve_fall'], [], ['invite', 'enjoy_delicious', 'brunch'], [], ['soon_plan', 'homecoming', 'brunch'], ['soon_plan', 'homecoming', 'brunch'], ['invite', 'enjoy_delicious', 'brunch'], ['invite', 'enjoy_delicious', 'brunch'], ['good', 'football', 'pregame_party'], ['tailgate', 'time_bust'], ['tailgate', 'time_bust'], ['back'], ['tailgate', 'time_bust'], ['tailgate', 'time_bust'], ['ready', 'score_great', 'memorabilia'], ['ready', 'score_great', 'memorabilia'], ['ready', 'score_great', 'memorabilia'], ['tailgate', 'time_bust'], ['test'], ['back'], ['ready', 'score_great', 'memorabilia'], ['ready', 'score_great', 'memorabilia'], ['ready', 'score_great', 'memorabilia'], ['ready', 'score_great', 'memorabilia'], ['set', 'set', 'set'], ['big_idea', 'worth'], ['ready', 'score_great', 'memorabilia'], ['ready', 'score_great', 'memorabilia'], ['set', 'set', 'set'], ['invite', 'enjoy_delicious', 'brunch'], ['invite', 'enjoy_delicious', 'brunch'], ['sincere_thank', 'reminder'], ['sincere_thank', 'reminder'], ['let_beat'], [], ['train'], [], ['update', 'mentor', 'year', 'freshman'], ['chapter'], [], [], ['devil', 'ready_boot', 'buff'], ['news'], ['train'], ['news'], [], [], [], [], ['event'], ['free', 'ticket'], [], [], ['free', 'ticket'], ['free', 'ticket'], [], ['free', 'ticket'], [], ['free', 'ticket'], ['free', 'ticket', 'campus'], ['day'], ['answer', 'alumnus', 'question', 'travel'], ['answer', 'alumnus', 'question', 'travel'], ['answer', 'alumnus', 'question', 'travel'], [], ['event'], ['event'], [], [], [], ['engineering_update', 'discover_entrepreneurial', 'mindset_sign', 'kid', 'summer', 'camp'], [], [], ['register'], ['register'], ['answer', 'alumnus', 'question', 'travel'], [], [], [], [], [], ['answer', 'alumnus', 'question', 'travel'], ['answer', 'alumnus', 'question', 'travel'], ['event'], ['event'], ['academic_accomplishment'], ['academic_accomplishment'], [], [], ['school'], ['school'], ['academic_accomplishment'], [], ['alum', 'ticket'], ['alumnus', 'news'], ['exclusive', 'offer', 'grad'], ['alumnus', 'website'], ['special', 'offer', 'celebrate', 'graduation'], ['postgrad_life'], ['earn_provide', 'feedback_website'], ['test', 'invitation'], ['test', 'invitation'], ['test', 'invitation'], ['alumnus', 'news'], ['special', 'offer', 'celebrate', 'graduation'], ['earn_provide', 'feedback_website'], ['special', 'offer', 'celebrate', 'graduation'], ['special', 'offer', 'celebrate', 'graduation'], ['special', 'offer', 'celebrate', 'graduation'], ['special', 'offer', 'celebrate', 'graduation'], ['special', 'offer', 'celebrate', 'graduation'], ['come'], [], [], ['share', 'thought', 'chance', 'win'], [], ['reward', 'summer', 'flash_sale', 'inside', 'secret_word'], ['reward', 'summer', 'flash_sale', 'inside', 'secret_word'], ['reward', 'summer', 'flash_sale', 'inside', 'secret_word'], ['save_hundred'], ['special', 'offer', 'celebrate', 'graduation'], ['special', 'offer', 'celebrate', 'graduation'], ['thought', 'chance', 'win'], ['highlight_web', 'communication_camp'], ['highlight_web', 'communication_camp'], ['highlight_web', 'communication_camp'], ['highlight_web', 'communication_camp'], [], [], ['special', 'offer', 'celebrate', 'graduation'], ['special', 'offer', 'celebrate', 'graduation'], ['invite', 'enjoy_delicious', 'brunch'], ['special', 'offer', 'celebrate', 'graduation'], [], ['invite', 'enjoy_delicious', 'brunch'], [], ['boat', 'football', 'information'], ['boat', 'football', 'information'], ['soon_plan', 'homecoming', 'brunch'], ['invite', 'enjoy_delicious', 'brunch'], ['back_fight'], ['back'], ['set', 'set', 'set'], ['set', 'set', 'set'], ['set', 'set', 'set'], ['tailgate', 'time_bust'], ['tailgate', 'time_bust'], ['ready', 'score_great', 'memorabilia'], ['ready', 'score_great', 'memorabilia'], ['ready', 'score_great', 'memorabilia'], ['ready', 'score_great', 'memorabilia'], ['save_hundred'], ['tailgate', 'time_bust'], ['ready', 'score_great', 'memorabilia'], ['big_idea', 'worth'], ['tailgate', 'time_bust'], [], ['sincere_thank', 'reminder'], ['let_beat'], [], ['news', 'legacy_available', 'ask_tour', 'travel'], ['news', 'legacy_available', 'ask_tour', 'travel'], ['chapter'], ['news', 'legacy_available', 'ask_tour', 'travel'], ['basketball', 'game'], ['alumnus', 'news', 'legacy_available', 'ask_tour', 'travel'], ['alumnus', 'news', 'legacy_available', 'ask_tour', 'travel'], ['basketball', 'game'], ['basketball', 'game'], [], [], ['free', 'ticket'], ['free', 'ticket'], [], [], ['join', 'basketball', 'game'], ['join', 'basketball', 'game'], [], [], [], ['free', 'ticket'], ['free', 'ticket'], [], ['free', 'ticket', 'campus'], [], ['upcoming', 'event'], [], [], [], ['answer', 'alumnus', 'question', 'travel'], ['day'], ['answer', 'alumnus', 'question', 'travel'], [], ['event'], ['upcoming', 'event'], ['learn', 'upcoming', 'event'], ['answer', 'alumnus', 'question', 'travel'], [], [], [], [], [], [], ['answer', 'alumnus', 'question', 'travel'], ['answer', 'alumnus', 'question', 'travel'], ['answer', 'alumnus', 'question', 'travel'], ['answer', 'alumnus', 'question', 'travel'], ['learn', 'upcoming', 'event'], [], ['answer', 'alumnus', 'question', 'travel'], ['event'], ['update', 'welcome', 'incoming_president', 'new', 'online'], ['update', 'welcome', 'incoming_president', 'new', 'online'], [], ['incoming', 'student', 'want_hear'], ['event'], ['event'], ['chapter', 'event'], [], ['alumnus', 'news'], ['earn_provide', 'feedback_website'], ['test', 'invitation'], ['share', 'thought', 'chance', 'win'], ['special', 'offer', 'celebrate', 'graduation'], [], [], [], ['share', 'thought', 'chance', 'win'], ['highlight_web', 'communication_camp'], ['thought', 'chance', 'win'], ['soon_plan', 'homecoming', 'brunch'], ['soon_plan', 'homecoming', 'brunch'], ['ready', 'tailgate'], ['ready', 'tailgate'], ['professional_development', 'opportunity'], [], ['invite', 'enjoy_delicious', 'brunch'], [], ['professional_development', 'opportunity'], ['professional_development', 'opportunity'], ['invite', 'enjoy_delicious', 'brunch'], ['professional_development', 'opportunity'], ['special', 'offer', 'celebrate', 'graduation'], ['invite', 'enjoy_delicious', 'brunch'], [], ['boat', 'football', 'information'], ['invite', 'enjoy_delicious', 'brunch'], ['good', 'football', 'pregame_party'], ['earn_provide', 'feedback_website'], ['tailgate', 'season'], ['time', 'football', 'kick'], ['upcoming', 'event'], ['tailgate', 'season'], [], [], [], ['tailgate', 'time_bust'], ['set', 'set', 'set'], ['ready', 'score_great', 'memorabilia'], ['tailgate', 'time_bust'], ['tailgate', 'time_bust'], ['tailgate', 'time_bust'], ['ready', 'score_great', 'memorabilia'], ['big_idea', 'worth'], ['ready', 'score_great', 'memorabilia'], ['big_idea', 'worth'], ['set', 'set', 'set'], ['set', 'set', 'set'], ['big_idea', 'worth'], ['set', 'set', 'set'], ['sincere_thank', 'reminder'], ['sincere_thank', 'reminder'], ['save_hundred'], ['train'], ['let_beat'], ['chapter'], [], ['train'], [], [], ['train'], ['train'], [], ['train'], ['chapter'], ['earn_provide', 'feedback_website', 'app'], ['event'], [], ['free', 'ticket'], [], [], ['save', 'date'], [], [], [], [], [], [], [], [], ['membership', 'expire'], [], [], [], [], ['free', 'ticket'], ['free', 'ticket'], [], ['renew', 'membership'], ['alum', 'special', 'offer'], ['alumnus', 'news', 'legacy_available', 'ask_tour', 'travel'], ['answer', 'alumnus', 'question', 'travel'], ['day'], [], ['answer', 'alumnus', 'question', 'travel'], ['answer', 'alumnus', 'question', 'travel'], [], [], ['day'], ['upcoming', 'event'], ['upcoming', 'event'], [], ['answer', 'alumnus', 'question', 'travel'], ['answer', 'alumnus', 'question', 'travel'], ['engineering_update', 'discover_entrepreneurial', 'mindset_sign', 'kid', 'summer', 'camp'], [], [], [], [], ['answer', 'alumnus', 'question', 'travel'], ['answer', 'alumnus', 'question', 'travel'], ['answer', 'alumnus', 'question', 'travel'], ['answer', 'alumnus', 'question', 'travel'], [], ['register'], ['answer', 'alumnus', 'question', 'travel'], ['answer', 'alumnus', 'question', 'travel'], [], [], [], ['day'], ['congratulation', 'academic_accomplishment'], ['incoming', 'student', 'want_hear'], ['send'], ['welcome', 'new', 'student', 'family'], ['event'], ['send', 'off'], ['engineering_update', 'welcome', 'incoming_president', 'new', 'online'], ['chapter', 'event'], ['upcoming', 'chapter', 'event'], ['upcoming', 'chapter', 'event'], [], ['test', 'invitation'], ['test', 'invitation'], ['alumnus', 'news'], ['special', 'offer', 'celebrate', 'graduation'], ['special', 'offer', 'celebrate', 'graduation'], ['alumnus', 'news'], ['special', 'offer', 'celebrate', 'graduation'], ['offer'], [], [], [], [], ['test'], ['test'], [], [], [], [], [], ['reason_save'], ['reason_save'], ['reason_save'], ['new', 'football', 'season', 'pregame_party'], [], ['invite', 'enjoy_delicious', 'brunch'], ['tailgate', 'season'], [], [], [], ['devil', 'boat', 'football', 'information'], ['ready', 'tailgate'], ['engineering_update', 'involve_fall'], ['tailgate', 'season'], ['new', 'football', 'season', 'pregame_party'], ['new', 'football', 'season', 'pregame_party'], ['tailgate', 'season'], ['hot', 'new', 'reward', 'secret_word', 'new', 'school', 'year', 'start', 'right'], ['tailgate', 'season'], ['new', 'football', 'season', 'pregame_party'], ['new', 'football', 'season', 'pregame_party'], ['go', 'miss', 'tailgate', 'celebration'], ['tailgate', 'season'], ['new', 'football', 'season', 'pregame_party'], ['new', 'football', 'season', 'pregame_party'], ['grandiosity_touchdown', 'tailgate'], ['grandiosity_touchdown', 'tailgate'], ['grandiosity_touchdown', 'tailgate'], ['new', 'football', 'season', 'pregame_party'], ['tailgate', 'season'], ['new', 'football', 'season', 'pregame_party'], ['tailgate', 'season'], ['touchdown', 'tailgate'], [], ['connect'], ['thank', 'attend'], [], [], ['kick', 'new', 'football', 'season', 'pregame_party'], ['celebrate', 'tailgate', 'season'], ['celebrate', 'tailgate', 'season'], ['go', 'miss', 'tailgate', 'celebration'], [], ['touchdown', 'tailgate'], ['news'], ['news'], ['news'], ['news'], ['news'], ['news'], ['news'], ['news'], ['news'], ['news'], ['let_social', 'know_hot', 'reward'], ['news'], ['news'], ['let_social', 'know_hot', 'reward'], [], [], ['news'], ['news'], ['news'], ['news'], [], [], ['news'], [], [], ['news'], ['news'], [], [], ['train'], [], [], [], [], [], ['news'], [], [], ['news'], [], ['news'], ['devil', 'ready_boot', 'buff'], ['devil', 'ready_boot', 'buff'], [], ['news'], [], ['earn_provide', 'feedback_website', 'app'], ['earn_provide', 'feedback_website', 'app'], ['lunch_date'], ['register'], ['big', 'lunch_date'], ['interested_urban', 'planning_design', 'business_philanthropy'], ['interested_urban', 'design_business', 'philanthropy'], ['invite', 'alumnus', 'attend'], [], ['alum', 'inside_scoop', 'find_dream', 'job_launch', 'business_build', 'network'], ['alum', 'inside_scoop', 'find_dream', 'job_launch', 'business_build', 'network'], ['alum', 'inside_scoop', 'find_dream', 'job_launch', 'business_build', 'network'], ['alum', 'inside_scoop', 'find_dream', 'job_launch', 'business_build', 'network'], ['alum', 'inside_scoop', 'find_dream', 'job_launch', 'business_build', 'network'], ['alum', 'inside_scoop', 'find_dream', 'job_launch', 'business_build', 'network'], [], ['history'], [], [], ['need'], ['ready'], ['earn_provide', 'feedback_website', 'app'], ['continue', 'support', 'renew', 'today'], ['membership', 'expire'], ['woman', 'basketball'], ['earn_provide', 'feedback_website', 'app'], ['day'], [], ['academic_accomplishment'], ['claim', 'free', 'graduation', 'regalia'], ['share', 'thought', 'chance', 'win'], ['claim', 'free', 'graduation', 'regalia'], [], ['event'], [], ['event'], ['end', 'update'], [], ['talent', 'upcoming', 'event'], ['area', 'community'], ['share', 'thought', 'chance', 'win'], ['thank_express', 'interest_participate', 'research'], [], ['sunset_cruise', 'send'], ['special', 'offer', 'celebrate', 'graduation'], ['enjoy', 'special', 'offer', 'celebrate', 'graduation'], ['send'], ['sunset_cruise', 'send'], [], ['happen', 'summer'], ['thank_express', 'interest_participate', 'research'], [], [], ['special', 'offer', 'celebrate', 'graduation'], ['offer'], [], ['test'], ['test'], ['test'], ['test'], [], ['test'], ['graduate_reason', 'save'], ['reason_save'], [], ['available'], ['engineering_update', 'let_social'], ['available'], [], ['new', 'football', 'season', 'pregame_party'], ['new', 'football', 'season', 'pregame_party'], ['tailgate', 'season'], ['new', 'football', 'season', 'pregame_party'], [], [], [], ['tailgate', 'season'], ['new', 'football', 'season', 'pregame_party'], ['go', 'miss', 'tailgate', 'celebration'], ['go', 'miss', 'tailgate', 'celebration'], ['new', 'football', 'season', 'pregame_party'], ['new', 'football', 'season', 'pregame_party'], ['new', 'football', 'season', 'pregame_party'], [], [], ['tailgate', 'season'], ['soon_plan', 'homecoming', 'brunch'], ['grandiosity_touchdown', 'tailgate'], ['grandiosity_touchdown', 'tailgate'], ['new', 'football', 'season', 'pregame_party'], ['tailgate', 'season'], ['new', 'football', 'season', 'pregame_party'], ['new', 'football', 'season', 'pregame_party'], ['new', 'football', 'season', 'pregame_party'], [], ['attend'], [], ['attend'], ['touchdown', 'tailgate'], ['touchdown', 'tailgate'], ['go', 'miss', 'tailgate', 'celebration'], ['pregame', 'touchdown', 'tailgate'], [], ['news'], ['legendary_champ'], ['news'], ['news'], ['news'], ['let_social', 'know_hot', 'reward'], ['let_social', 'know_hot', 'reward'], ['news'], ['let_beat'], ['let_beat'], ['devil', 'ready_boot', 'buff'], ['devil', 'ready_boot', 'buff'], ['chapter'], [], ['devil', 'ready_boot', 'buff'], ['news'], ['news'], [], ['news'], ['train'], ['news'], ['news'], ['news'], ['news'], ['news'], ['news'], [], [], ['engineering_update', 'mentor', 'year', 'freshman'], [], ['devil', 'ready_boot', 'buff'], ['devil', 'ready_boot', 'buff'], [], [], [], ['news'], [], ['devil', 'ready_boot', 'buff'], [], ['news'], [], ['news'], ['news'], ['weekend_bounce'], [], ['news'], [], ['lunch_date'], ['lunch_date'], ['open', 'run', 'country'], ['continue', 'support', 'renew', 'today'], ['alum', 'special', 'offer'], ['alum', 'special', 'offer'], ['alum', 'special', 'offer'], ['alum', 'special', 'offer'], ['free', 'ticket', 'campus'], ['alumnus', 'news', 'legacy_available', 'ask_tour', 'travel'], [], [], ['invite', 'attend'], [], [], ['alum', 'inside_scoop', 'find_dream', 'job_launch', 'business_build', 'network'], ['invite', 'alumnus', 'attend'], ['alum', 'inside_scoop', 'find_dream', 'job_launch', 'business_build', 'network'], ['alum', 'inside_scoop', 'find_dream', 'job_launch', 'business_build', 'network'], ['need'], [], [], ['ready'], ['woman', 'basketball'], [], ['event'], ['academic_accomplishment'], ['include'], ['include'], [], ['day'], ['day'], ['day'], ['local', 'alumnus', 'chapter'], ['talent', 'upcoming', 'event'], ['offer'], ['offer'], ['offer'], ['offer'], ['special', 'offer', 'celebrate', 'graduation'], ['special', 'offer', 'celebrate', 'graduation'], ['invite', 'attend', 'career', 'fair'], ['send'], ['invite', 'attend', 'career', 'fair'], ['offer'], ['offer'], ['happen', 'summer'], ['happen', 'summer'], ['invite', 'attend', 'career', 'fair'], ['happen', 'summer'], [], ['join', 'sunset_cruise', 'send'], ['join', 'sunset_cruise', 'send'], ['happen', 'summer'], ['send'], [], ['thank_express', 'interest_participate', 'research'], ['school'], ['thank_express', 'interest_participate', 'research'], ['earn_provide', 'feedback_website'], ['enjoy', 'special', 'offer', 'celebrate', 'graduation'], ['test'], [], ['request', 'sponsor'], [], ['available'], ['engineering_update', 'let_social'], ['reason_save'], ['golf', 'challenge'], ['tailgate', 'season'], ['tailgate', 'season'], ['new', 'football', 'season', 'pregame_party'], ['new', 'football', 'season', 'pregame_party'], ['new', 'football', 'season', 'pregame_party'], ['go', 'miss', 'tailgate', 'celebration'], ['go', 'miss', 'tailgate', 'celebration'], ['go', 'miss', 'tailgate', 'celebration'], [], ['tailgate', 'season'], ['new', 'football', 'season', 'pregame_party'], ['thrive', 'upcoming', 'event'], ['grandiosity_touchdown', 'tailgate'], ['grandiosity_touchdown', 'tailgate'], ['grandiosity_touchdown', 'tailgate'], ['tailgate', 'season'], ['tailgate', 'season'], ['new', 'football', 'season', 'pregame_party'], ['new', 'football', 'season', 'pregame_party'], ['go', 'miss', 'tailgate', 'celebration'], ['pregame', 'touchdown', 'tailgate'], ['grandiosity_touchdown', 'tailgate'], [], [], ['day', 'way_catch', 'devil'], [], ['kick', 'new', 'football', 'season', 'pregame_party'], ['grandiosity_touchdown', 'tailgate'], [], ['news'], ['news'], ['news'], ['news'], ['news'], ['news'], ['news'], ['news'], ['news'], ['news'], [], ['let_social', 'know_hot', 'reward'], [], [], ['news'], ['news'], ['legendary_champ'], [], [], ['news'], [], ['news'], [], ['join'], [], ['news'], [], ['news'], ['devil', 'ready_boot', 'buff'], ['devil', 'ready_boot', 'buff'], ['devil', 'ready_boot', 'buff'], ['devil', 'ready_boot', 'buff'], [], [], ['news'], [], [], [], ['news'], ['weekend_bounce'], ['news'], ['news'], [], [], [], [], [], ['care', 'community'], ['register'], ['register'], ['date'], ['interested_urban', 'planning_design', 'business_philanthropy'], ['interested_urban', 'planning_design', 'business_philanthropy'], ['interested_urban', 'design_business', 'philanthropy'], ['fan'], [], [], ['invite', 'alumnus', 'attend'], ['alum', 'inside_scoop', 'find_dream', 'job_launch', 'business_build', 'network'], ['alum', 'inside_scoop', 'find_dream', 'job_launch', 'business_build', 'network'], ['alum', 'inside_scoop', 'find_dream', 'job_launch', 'business_build', 'network'], ['alum', 'inside_scoop', 'find_dream', 'job_launch', 'business_build', 'network'], ['alum', 'inside_scoop', 'find_dream', 'job_launch', 'business_build', 'network'], ['alum', 'inside_scoop', 'find_dream', 'job_launch', 'business_build', 'network'], [], [], ['earn_provide', 'feedback_website', 'app'], ['history'], ['earn_provide', 'feedback_website', 'app'], [], ['hoop', 'game'], ['earn_provide', 'feedback_website', 'app'], ['history'], ['join'], ['join'], [], [], [], [], [], [], ['include'], ['include'], [], ['founder', 'day'], ['include'], ['local', 'alumnus', 'chapter'], ['claim', 'free', 'graduation', 'regalia'], ['answer', 'alumnus', 'question', 'travel'], [], [], ['end', 'update'], ['area', 'community'], [], ['reminder', 'claim', 'free', 'graduation', 'regalia'], ['special', 'offer', 'celebrate', 'graduation'], ['earn_provide', 'feedback_website'], ['invite', 'attend', 'career', 'fair'], [], ['invitation'], ['sunset_cruise', 'send'], ['offer'], ['send'], ['invite', 'attend', 'career', 'fair'], ['invite', 'attend', 'career', 'fair'], ['share', 'thought', 'chance', 'win'], ['sunset_cruise', 'send'], [], [], ['offer'], ['earn_provide', 'feedback_website'], ['special', 'offer', 'celebrate', 'graduation'], ['test'], ['test'], [], [], [], [], [], ['share', 'thought', 'chance', 'win'], ['email'], ['earn_provide', 'feedback_website'], ['earn_provide', 'feedback_website'], ['alumnus', 'news'], ['alumnus', 'news'], ['earn_provide', 'feedback_website'], ['alumnus', 'news'], ['alumnus', 'news'], ['alumnus', 'news'], ['alumnus', 'news'], ['alumnus', 'news'], ['news'], ['news'], ['news'], ['news'], ['news'], ['let_social', 'know_hot', 'reward'], ['news'], [], ['legendary_champ'], ['legendary_champ'], [], ['earn', 'participate', 'online', 'study'], ['day', 'way_catch', 'devil'], ['news'], ['day', 'way_catch', 'devil'], [], [], ['big', 'lunch_date'], ['date'], ['interested_urban', 'planning_design', 'business_philanthropy'], ['interested_urban', 'design_business', 'philanthropy'], ['interested_urban', 'design_business', 'philanthropy'], ['earn_provide', 'feedback_website', 'app'], [], [], ['alum', 'ticket'], ['hoop', 'woman', 'basketball'], ['history'], [], ['need'], ['ready'], ['game'], [], [], [], [], [], ['run'], [], [], ['event'], ['care', 'event'], ['care', 'event'], ['talent', 'upcoming', 'event'], ['invite', 'join', 'finger_paint'], ['interested_urban', 'design_business', 'philanthropy'], ['plan', 'attend'], [], ['area'], [], [], ['alumni', 'monthly', 'newsletter'], ['alumni', 'monthly', 'newsletter'], [], ['alumnus'], ['seek_participant'], ['seek_participant'], ['plan', 'attend'], ['alumnus', 'news'], ['alumnus', 'come', 'celebrate'], ['life'], ['spark'], ['networking_mixer'], ['networking_mixer'], ['support_local', 'chapter'], ['networking_mixer'], ['extravaganza'], ['extravaganza'], ['newsletter'], [], [], ['chapter'], ['accomplished', 'exclusive', 'offer'], ['support_local', 'chapter'], ['networking_mixer'], ['thank'], ['support_local', 'chapter'], ['support_local', 'chapter'], ['devil'], ['golf', 'networking_mixer'], ['join', 'extravaganza'], ['thank'], ['thank'], ['support_local', 'chapter'], ['newsletter'], ['invite'], ['dinner', 'devil'], ['summer', 'event'], [], ['event'], ['go', 'go', 'ticket', 'nearly_sell'], ['go', 'go', 'ticket', 'nearly_sell'], [], ['go', 'go', 'ticket', 'nearly_sell'], ['class_style'], ['know_universitys', 'impressive_spring', 'graduate'], [], ['networking'], ['networking'], [], ['alumnus', 'news'], ['engineering_update', 'new', 'graduate_embark', 'journey'], ['engineering_update', 'new', 'graduate_embark', 'journey'], ['know_universitys', 'impressive_spring', 'graduate'], ['event'], [], ['networking'], ['networking'], ['networking'], ['save'], ['connect'], ['save'], ['alumnus', 'news'], ['alumnus', 'news'], ['application'], ['alumnus', 'news'], ['alumnus', 'news'], ['new', 'student', 'family'], ['new', 'student', 'family'], ['miss', 'come', 'soon'], ['miss', 'come', 'soon'], ['miss', 'come', 'soon'], ['country_superstar', 'concert'], ['country_superstar', 'concert'], ['country_superstar', 'concert'], ['country_superstar', 'concert'], ['postgrad_life'], ['country_superstar', 'concert'], ['postgrad_life'], ['postgrad_life'], ['postgrad_life'], ['country_superstar', 'concert'], ['welcome', 'postgrad_life'], ['want_hear'], ['join'], ['join'], ['join'], [], [], [], ['grad'], ['grad'], ['learn_craft', 'brew', 'network', 'professional'], [], ['send', 'off'], ['send', 'come', 'send', 'come'], ['earn_provide', 'feedback_website'], ['event'], [], ['want_hear'], ['new', 'student', 'family'], ['want_hear'], ['welcome', 'new', 'student', 'family'], ['thank_express', 'interest_participate', 'research'], ['share', 'thought', 'chance', 'win'], ['share', 'thought', 'chance', 'win'], ['st_scholarship', 'recipient'], ['st_scholarship', 'recipient'], ['update', 'let_social'], ['share', 'thought', 'chance', 'win'], ['st_scholarship', 'recipient'], ['st_scholarship', 'recipient'], ['st_scholarship', 'recipient'], ['design'], ['hope', 'tonight'], ['test'], ['discussion'], ['test'], ['test'], ['test'], [], [], ['thought', 'chance', 'win'], ['email'], ['email', 'test', 'send'], ['email'], ['chalk_talk', 'detail_inside'], ['chalk_talk', 'detail_inside'], ['chalk_talk', 'detail_inside'], ['reason_save'], ['alumnus', 'news'], ['available'], [], [], ['send', 'recap'], ['send', 'recap'], ['volunteering', 'event'], ['day', 'way_catch', 'devil'], ['legendary_champ'], ['legendary_champ'], ['day', 'way_catch', 'devil'], ['invite'], ['invite'], [], [], ['touchdown', 'come'], ['come'], ['touchdown', 'come'], ['come'], ['come'], ['fan'], ['interested_urban', 'design_business', 'philanthropy'], ['mens', 'basketball'], ['interested_urban', 'design_business', 'philanthropy'], ['interested_urban', 'design_business', 'philanthropy'], ['fan'], ['fan'], ['fan'], ['offer'], ['scholarship', 'opportunity', 'family'], ['scholarship', 'opportunity', 'family'], [], ['attend', 'luncheon'], ['attend', 'luncheon'], ['free', 'ticket'], ['attend', 'luncheon'], ['free', 'ticket'], ['thank', 'attend', 'luncheon'], ['alum', 'ticket'], [], ['renew', 'membership'], [], ['invitation', 'join'], ['invitation', 'join'], ['invitation', 'join'], ['invitation', 'join'], ['earn_provide', 'feedback_website', 'app'], [], [], [], ['run'], ['roll_sushi', 'style'], ['run'], [], [], [], ['event'], ['invite', 'join', 'fingerpaint_mountain'], ['invite', 'join', 'fingerpaint_mountain'], ['invite', 'join', 'fingerpaint_mountain'], ['invite', 'join', 'finger_paint'], ['area'], ['aspire', 'level', 'leader'], ['seek_participant'], [], [], ['dinner', 'devil'], ['alumnus', 'news'], ['life'], [], ['newsletter'], ['care', 'event'], [], ['exclusive', 'offer'], ['support_local', 'chapter'], ['support_local', 'chapter'], ['networking_mixer'], ['thank'], ['honor', 'fastest_grow', 'lead', 'business'], ['thank'], ['thank'], ['chapter'], ['networking_mixer'], ['networking_mixer'], ['newsletter'], ['newsletter'], [], [], [], ['devil'], [], ['join', 'extravaganza'], ['support_local', 'chapter'], ['newsletter'], [], ['invite'], ['honor', 'fastest_grow', 'lead', 'business'], ['summer', 'event'], ['summer', 'event'], [], [], [], [], [], [], [], [], [], ['know_universitys', 'impressive_spring', 'graduate'], ['know_universitys', 'impressive_spring', 'graduate'], ['networking'], ['alumnus', 'news'], ['go', 'go', 'go', 'ticket', 'nearly_sell'], ['go', 'go', 'go', 'ticket', 'nearly_sell'], [], [], ['event'], ['networking'], ['send', 'class_style'], ['send', 'class_style'], [], [], ['send', 'class_style'], ['country_superstar', 'concert'], ['alumnus', 'news'], ['alumnus', 'news'], ['alumnus', 'news'], ['alumnus', 'news'], ['new', 'student', 'family'], ['alumnus', 'news'], ['alumnus', 'news'], ['miss', 'come', 'soon'], ['miss', 'come', 'soon'], ['new', 'student', 'family'], ['welcome', 'new', 'student', 'family'], ['country_superstar', 'concert'], ['postgrad_life'], ['postgrad_life'], ['postgrad_life'], ['postgrad_life'], ['postgrad_life'], ['welcome', 'alumnus', 'website'], ['save', 'date', 'send'], ['save', 'date', 'send'], ['send', 'come', 'send', 'come'], ['send', 'come', 'send', 'come'], ['join'], ['join'], ['send', 'off'], [], [], [], [], ['learn_craft', 'brew', 'network', 'professional'], [], ['tomorrow'], ['join'], ['join'], ['send', 'come', 'send', 'come'], [], ['new', 'student', 'family'], ['new', 'student', 'family'], ['new', 'student', 'family'], ['want_hear'], ['worry'], ['share', 'thought', 'chance', 'win'], ['share', 'thought', 'chance', 'win'], ['available'], ['earn_provide', 'feedback_website'], ['request', 'sponsor'], ['discussion'], ['discussion'], ['join', 'discussion'], ['join', 'discussion'], [], [], ['correction', 'feedback', 'survey', 'link'], ['event'], ['event'], ['event'], ['send', 'recap'], ['send', 'recap'], ['send', 'recap'], ['send', 'recap'], ['event'], ['score', 'ultimate', 'homecoming', 'package'], ['score', 'ultimate', 'homecoming', 'package'], ['chinese', 'earn', 'giftcard'], [], [], ['share', 'thought', 'chance', 'win'], ['reminder', 'share', 'thought', 'chance', 'win'], ['share', 'thought', 'chance', 'win'], ['earn_provide', 'feedback_website'], ['touchdown', 'come'], [], [], ['touchdown', 'come'], ['large'], ['large'], ['large'], [], [], [], ['share', 'thought', 'chance', 'win'], [], [], [], [], ['invite', 'ticket', 'success'], ['invite', 'ticket', 'success'], [], [], ['countdown_football'], ['set', 'set', 'set'], [], [], [], [], ['countdown_football'], ['countdown_football'], ['countdown_football'], ['miss', 'meeting'], ['miss', 'meeting'], ['miss', 'meeting'], ['miss', 'meeting'], ['share', 'thought', 'chance', 'win'], ['countdown_football'], ['countdown_football'], ['devil', 'tailgate'], ['back_fight'], ['back_fight'], ['school'], [], ['news'], ['news'], ['news', 'legacy_available', 'ask_tour', 'travel'], ['news', 'legacy_available', 'ask_tour', 'travel'], ['news', 'legacy_available', 'ask_tour', 'travel'], ['news', 'legacy_available', 'ask_tour', 'travel'], ['news', 'legacy_available', 'ask_tour', 'travel'], [], ['earn_provide', 'feedback_website', 'app'], ['save', 'date'], ['save', 'date'], ['news', 'legacy_available', 'ask_tour', 'travel'], ['news', 'legacy_available', 'ask_tour', 'travel'], [], ['news', 'legacy_available', 'ask_tour', 'travel'], ['update', 'reflect_explore', 'share', 'smile', 'year'], ['news', 'legacy_available', 'ask_tour', 'travel'], ['news', 'legacy_available', 'ask_tour', 'travel'], ['news', 'legacy_available', 'ask_tour', 'travel'], ['news', 'legacy_available', 'ask_tour', 'travel'], ['basketball', 'game'], ['basketball', 'game'], ['basketball', 'game'], ['news', 'legacy_available', 'ask_tour', 'travel'], ['news', 'legacy_available', 'ask_tour', 'travel'], ['news', 'legacy_available', 'ask_tour', 'travel'], [], ['news', 'legacy_available', 'ask_tour', 'travel'], ['news', 'legacy_available', 'ask_tour', 'travel'], ['news', 'legacy_available', 'ask_tour', 'travel'], ['news', 'legacy_available', 'ask_tour', 'travel'], [], [], ['news', 'legacy_available', 'ask_tour', 'travel'], ['news', 'legacy_available', 'ask_tour', 'travel'], ['chapter'], ['news', 'legacy_available', 'ask_tour', 'travel'], ['alumnus', 'news', 'legacy_available', 'ask_tour', 'travel'], [], [], [], ['save', 'date'], [], [], [], [], [], [], ['invite', 'alumnus', 'attend'], ['invite', 'alumnus', 'attend'], [], ['invite', 'alumnus', 'attend'], [], ['run'], ['dinner', 'greet'], ['earn_provide', 'feedback_website', 'app'], [], [], ['earn_provide', 'feedback_website', 'app'], ['test', 'click', 'thought', 'chance', 'win'], ['share', 'thought', 'chance', 'win'], [], [], ['news', 'legacy_available', 'ask_tour', 'travel'], ['news', 'legacy_available', 'ask_tour', 'travel'], ['upcoming', 'event'], [], ['update_discover', 'entrepreneurial_mindset', 'sign_kid', 'summer', 'camp'], [], ['test', 'click', 'thought', 'chance', 'win'], [], [], ['news', 'answer', 'alumnus', 'question', 'travel'], ['news', 'answer', 'alumnus', 'question', 'travel'], ['update_discover', 'entrepreneurial_mindset', 'sign_kid', 'summer', 'camp'], ['register'], ['answer', 'alumnus', 'question', 'travel'], ['answer', 'alumnus', 'question', 'travel'], ['answer', 'alumnus', 'question', 'travel'], [], [], ['win', 'prize_complete', 'alumni', 'prize_complete', 'alumni', 'survey'], ['save', 'worry'], ['test'], ['welcome', 'new', 'student', 'family'], [], ['earn_provide', 'feedback_website'], ['earn_provide', 'feedback_website'], ['paint'], ['chapter', 'event'], ['update', 'new', 'graduate_embark', 'journey'], ['event'], ['event'], ['event'], ['chapter', 'event'], ['chapter', 'event'], ['chapter', 'event'], ['chapter', 'event'], ['new', 'student', 'family'], ['send'], ['let', 'paint'], ['let', 'paint'], ['event'], [], ['event'], ['event'], ['send', 'off'], ['event'], [], [], ['engineering_update', 'welcome', 'incoming_president', 'new', 'online'], [], [], [], [], [], [], [], ['test'], ['test'], ['email'], [], ['send', 'recap'], ['share', 'thought', 'chance', 'win'], ['back'], ['chinese', 'earn', 'giftcard'], ['share', 'thought', 'chance', 'win'], ['share', 'thought', 'chance', 'win'], ['share', 'thought', 'chance', 'win'], ['reward', 'summer', 'flash_sale', 'inside', 'secret_word'], ['reward', 'summer', 'flash_sale', 'inside', 'secret_word'], ['reward', 'summer', 'flash_sale', 'inside', 'secret_word'], ['reward', 'summer', 'flash_sale', 'inside', 'secret_word'], ['save_hundred'], [], [], [], [], [], ['touchdown', 'come'], ['touchdown', 'come'], ['touchdown', 'come'], ['come'], [], ['large'], [], [], ['networking'], ['networking'], [], ['large'], ['large'], [], ['invite', 'ticket', 'success'], ['invite', 'ticket', 'success'], ['invite', 'ticket', 'success'], [], [], [], [], ['networking'], ['countdown_football'], ['countdown_football'], [], [], [], [], [], [], [], ['large'], ['countdown_football'], ['countdown_football'], ['miss', 'meeting'], ['miss', 'meeting'], ['miss', 'meeting'], ['miss', 'meeting'], ['miss', 'meeting'], ['devil', 'tailgate'], ['tailgate'], ['back_fight'], ['back_fight'], ['back_fight'], ['tailgate', 'time_bust'], ['reminder', 'share', 'thought', 'chance', 'win'], ['back'], ['tailgate', 'time_bust'], ['alum', 'ticket'], ['basketball', 'ticket'], ['basketball', 'ticket'], ['basketball', 'ticket'], [], ['test'], [], ['news'], [], ['news', 'legacy_available', 'ask_tour', 'travel'], ['news', 'legacy_available', 'ask_tour', 'travel'], ['news', 'legacy_available', 'ask_tour', 'travel'], ['earn_provide', 'feedback_website', 'app'], ['news', 'legacy_available', 'ask_tour', 'travel'], ['news', 'legacy_available', 'ask_tour', 'travel'], [], ['news', 'legacy_available', 'ask_tour', 'travel'], ['news', 'legacy_available', 'ask_tour', 'travel'], ['news', 'legacy_available', 'ask_tour', 'travel'], ['news', 'legacy_available', 'ask_tour', 'travel'], ['news', 'legacy_available', 'ask_tour', 'travel'], ['news', 'legacy_available', 'ask_tour', 'travel'], ['news', 'legacy_available', 'ask_tour', 'travel'], ['news', 'legacy_available', 'ask_tour', 'travel'], ['basketball', 'game'], ['basketball', 'game'], ['basketball', 'game'], ['event'], ['event'], [], ['news', 'legacy_available', 'ask_tour', 'travel'], ['news', 'legacy_available', 'ask_tour', 'travel'], ['news', 'legacy_available', 'ask_tour', 'travel'], ['news', 'legacy_available', 'ask_tour', 'travel'], [], ['save', 'date'], [], ['news', 'legacy_available', 'ask_tour', 'travel'], [], ['news', 'legacy_available', 'ask_tour', 'travel'], [], ['alumnus', 'news', 'legacy_available', 'ask_tour', 'travel'], ['engineering_update', 'reflect_explore', 'share', 'smile', 'year'], [], [], [], [], [], ['graduate', 'save', 'auto_insurance'], ['learn', 'roll_sushi', 'style'], [], ['test'], [], [], ['free', 'ticket'], [], ['event'], ['event'], [], [], ['news', 'legacy_available', 'ask_tour', 'travel'], ['event'], ['event'], [], [], ['upcoming', 'event'], ['upcoming', 'event'], [], [], [], ['news', 'answer', 'alumnus', 'question', 'travel'], [], ['upcoming', 'event'], ['event'], [], [], ['answer', 'alumnus', 'question', 'travel'], ['answer', 'alumnus', 'question', 'travel'], ['answer', 'alumnus', 'question', 'travel'], ['roll_sushi', 'style'], ['earn_provide', 'feedback_website'], [], ['test'], ['test'], ['test'], ['test'], ['test'], ['chance', 'score', 'ticket'], ['student', 'want_hear'], ['paint'], [], ['new', 'student', 'family'], ['new', 'student', 'family'], ['update', 'welcome', 'incoming_president', 'new', 'online'], ['new', 'student', 'family'], ['event'], ['chapter', 'event'], ['paint'], ['chapter', 'event'], [], ['email'], ['earn_provide', 'feedback_website'], ['chalk_talk', 'detail_inside'], ['chalk_talk', 'detail_inside'], ['reason_save'], ['alumnus', 'news'], ['alumnus', 'news'], ['alumnus', 'news'], ['volunteering', 'event'], ['volunteering', 'event'], ['send', 'recap'], [], [], [], ['news'], ['news'], ['legendary_champ'], ['day', 'way_catch', 'devil'], ['day', 'way_catch', 'devil'], ['legendary_champ'], ['day', 'way_catch', 'devil'], ['day', 'way_catch', 'devil'], ['legendary_champ'], ['participate', 'online', 'study'], ['day', 'way_catch', 'devil'], ['day', 'way_catch', 'devil'], ['news'], [], ['earn', 'participate', 'online', 'study'], [], ['earn', 'participate', 'online', 'study'], ['thank_express', 'interest_participate', 'research'], ['offer'], ['interested_urban', 'design_business', 'philanthropy'], ['interested_urban', 'design_business', 'philanthropy'], ['interested_urban', 'design_business', 'philanthropy'], ['interested_urban', 'design_business', 'philanthropy'], ['fan'], ['thank_express', 'interest_participate', 'research'], ['earn_provide', 'feedback_website', 'app'], ['scholarship', 'opportunity', 'family'], ['scholarship', 'opportunity', 'family'], ['scholarship', 'opportunity', 'family'], ['scholarship', 'opportunity', 'family'], ['news', 'shot', 'ticket'], ['basketball', 'ticket'], [], [], ['basketball', 'ticket'], ['basketball', 'ticket'], ['basketball', 'ticket'], [], [], [], ['invitation', 'join'], [], [], ['run'], ['invitation', 'join'], [], ['run'], [], [], ['graduate', 'save', 'auto_insurance'], ['special', 'invitation', 'join'], [], [], [], ['run'], [], ['invite', 'join', 'finger_paint'], ['finger_paint'], ['present_university', 'vision_future'], [], [], [], ['devil'], ['devil'], ['area'], [], [], ['devil'], ['devil'], ['level', 'leader'], [], ['area'], ['alumnus', 'news'], [], ['seek_participant'], ['seek_participant'], ['dinner', 'devil'], ['miss', 'spark'], ['pick', 'life'], ['pick', 'life'], ['networking_mixer'], ['support_local', 'chapter'], ['thank'], ['thank'], ['newsletter'], [], [], ['chapter'], ['include', 'exclusive', 'offer'], ['graduate_policy', 'big', 'discount'], ['support_local', 'chapter'], ['honor', 'fastest_grow', 'lead', 'business'], ['devil'], ['networking_mixer'], ['networking_mixer'], ['support_local', 'chapter'], [], ['announcement', 'devil'], ['support_local', 'chapter'], ['chapter'], ['chapter'], [], [], ['announcement', 'devil'], ['care', 'event'], ['announcement', 'devil'], ['graduate_policy', 'big', 'discount'], ['go', 'go', 'ticket', 'nearly_sell'], ['update', 'new', 'graduate_embark', 'journey'], [], ['know_universitys', 'impressive_spring', 'graduate'], ['know_universitys', 'impressive_spring', 'graduate'], [], ['save'], ['save'], ['networking'], ['event'], ['event'], ['networking'], [], ['networking'], [], [], [], [], [], ['alumnus', 'news'], ['networking'], ['send', 'class_style'], ['save'], [], [], [], [], ['save'], [], [], ['send', 'class_style'], [], ['save'], ['connect'], [], ['alumnus', 'news'], ['miss', 'come', 'soon'], ['country_superstar', 'concert'], ['postgrad_life'], ['postgrad_life'], ['ticket', 'country_superstar', 'concert'], ['craft_brew', 'network', 'professional'], ['learn_craft', 'brew', 'network', 'professional'], ['tomorrow'], ['tomorrow'], ['join'], ['join'], ['join'], ['join'], ['send', 'off'], [], ['grad'], ['grad'], ['earn_provide', 'feedback_website'], ['learn_craft', 'brew', 'network', 'professional'], ['send', 'off'], ['join'], ['send', 'off'], ['send', 'off'], [], [], ['event'], ['new', 'student', 'family'], ['new', 'student', 'family'], ['want_hear'], ['earn_provide', 'feedback_website'], ['available'], ['reminder', 'share', 'thought', 'chance', 'win'], ['welcome'], ['welcome'], ['test'], ['test'], ['test'], [], [], [], [], ['share', 'thought', 'chance', 'win'], ['alumnus', 'news'], ['alumnus', 'news'], [], ['send', 'recap'], ['event'], ['event'], ['volunteering', 'event'], ['event'], [], ['score', 'ultimate', 'homecoming', 'package'], ['send', 'recap'], ['upcoming', 'event'], ['signature', 'volunteering', 'event'], ['back'], [], [], [], ['chinese', 'earn', 'giftcard'], [], ['professional_development', 'opportunity'], [], ['touchdown', 'come'], ['come'], ['networking'], [], ['large'], [], ['earn_provide', 'feedback_website'], [], ['earn_provide', 'feedback_website'], [], [], [], [], [], ['invite', 'ticket', 'success'], [], ['share', 'thought', 'chance', 'win'], [], ['invite', 'ticket', 'success'], ['invite', 'ticket', 'success'], ['invite', 'ticket', 'success'], [], [], ['invite', 'ticket', 'success'], ['invite', 'ticket', 'success'], ['let'], [], [], [], [], ['countdown_football'], ['reminder', 'earn', 'participate', 'online', 'study'], ['set', 'set', 'set'], [], [], [], [], ['countdown_football'], ['miss', 'meeting'], ['miss', 'meeting'], [], ['miss', 'meeting'], ['miss', 'meeting'], ['miss', 'meeting'], ['miss', 'meeting'], ['miss', 'meeting'], ['countdown_football'], ['miss', 'meeting'], ['free', 'ticket'], ['attend', 'luncheon'], ['attend', 'luncheon'], ['attend', 'luncheon'], ['thank', 'attend', 'luncheon'], ['free', 'ticket'], ['alum', 'ticket'], ['basketball', 'ticket'], ['basketball', 'ticket'], [], ['earn_provide', 'feedback_website', 'app'], [], ['graduate_policy', 'big', 'discount'], ['hoop', 'basketball', 'ticket'], ['earn_provide', 'feedback_website', 'app'], [], ['news', 'ticket', 'offer'], ['news', 'legacy_available', 'ask_tour', 'travel'], ['news', 'legacy_available', 'ask_tour', 'travel'], ['news', 'legacy_available', 'ask_tour', 'travel'], ['stocking', 'bowling'], [], [], ['news', 'legacy_available', 'ask_tour', 'travel'], ['chapter'], ['news', 'legacy_available', 'ask_tour', 'travel'], [], ['update', 'reflect_explore', 'share', 'smile', 'year'], ['news', 'legacy_available', 'ask_tour', 'travel'], ['news', 'legacy_available', 'ask_tour', 'travel'], ['news', 'legacy_available', 'ask_tour', 'travel'], ['basketball', 'game'], ['event'], [], [], ['history'], ['news', 'legacy_available', 'ask_tour', 'travel'], ['news', 'legacy_available', 'ask_tour', 'travel'], ['news', 'legacy_available', 'ask_tour', 'travel'], ['news', 'legacy_available', 'ask_tour', 'travel'], [], ['news', 'legacy_available', 'ask_tour', 'travel'], ['news', 'legacy_available', 'ask_tour', 'travel'], ['alumnus', 'news', 'legacy_available', 'ask_tour', 'travel'], [], [], ['roll_sushi', 'style'], ['roll_sushi', 'style'], ['invite', 'alumnus', 'attend'], ['invite', 'alumnus', 'attend'], [], ['free', 'ticket'], ['test', 'wish', 'friendly', 'peep'], [], [], [], ['event'], [], [], ['news', 'legacy_available', 'ask_tour', 'travel'], ['news', 'legacy_available', 'ask_tour', 'travel'], [], [], ['upcoming', 'event'], ['update_discover', 'entrepreneurial_mindset', 'sign_kid', 'summer', 'camp'], ['update_discover', 'entrepreneurial_mindset', 'sign_kid', 'summer', 'camp'], [], ['news', 'answer', 'alumnus', 'question', 'travel'], ['share', 'thought', 'chance', 'win'], ['welcome', 'new', 'student', 'family'], ['worry'], ['prize_complete', 'alumni', 'survey'], ['exclusive', 'offer', 'grad'], ['school'], ['test'], ['test'], ['test'], ['earn_provide', 'feedback_website'], ['act', 'score', 'ticket'], ['student', 'want_hear'], ['send'], ['chapter', 'event'], ['send', 'off'], ['event'], ['chapter', 'event'], ['send'], ['design'], ['reminder', 'design'], ['school'], [], ['test'], ['test'], ['test'], [], ['lookout', 'devil', 'ready_boot', 'buff'], ['welcome_check', 'cool_movie', 'theater_world'], ['news'], ['news'], ['welcome_check', 'cool_movie', 'theater_world'], ['welcome_check', 'cool_movie', 'theater_world'], ['grad', 'school_help'], [], ['weekend_bounce'], ['welcome_check', 'cool_movie', 'theater_world'], [], [], [], [], [], [], [], [], [], [], [], ['grad', 'school_help'], [], [], [], [], [], [], [], ['welcome_check', 'cool_movie', 'theater_world'], ['news'], ['welcome_check', 'cool_movie', 'theater_world'], [], ['welcome_check', 'cool_movie', 'theater_world'], [], [], [], ['welcome_check', 'cool_movie', 'theater_world'], ['welcome_check', 'cool_movie', 'theater_world'], [], ['welcome_check', 'cool_movie', 'theater_world'], ['welcome_check', 'cool_movie', 'theater_world'], ['grad', 'school_help'], [], [], ['grad', 'school_help'], ['welcome_check', 'cool_movie', 'theater_world'], [], ['grad', 'school_help'], ['welcome_check', 'cool_movie', 'theater_world'], ['welcome_check', 'cool_movie', 'theater_world'], [], ['welcome_check', 'cool_movie', 'theater_world'], ['welcome_check', 'cool_movie', 'theater_world'], [], ['welcome_check', 'cool_movie', 'theater_world'], ['grad', 'school_help'], ['welcome_check', 'cool_movie', 'theater_world'], [], ['grad', 'school_help'], ['grad', 'school_help'], [], [], [], ['grad', 'school_help'], ['free', 'graduation', 'regalia'], ['free', 'graduation', 'regalia'], ['free', 'graduation', 'regalia'], ['free', 'graduation', 'regalia'], ['chance', 'enter', 'ultimate', 'homecoming', 'weekend'], ['free', 'graduation', 'regalia'], ['grad', 'school_help'], ['test'], ['free', 'graduation', 'regalia'], ['chance', 'enter', 'ultimate', 'homecoming', 'weekend'], ['chance', 'enter', 'ultimate', 'homecoming', 'weekend'], ['chance', 'enter'], ['test'], ['invite', 'rockin'], ['grad', 'school_help'], ['test'], ['invite', 'rockin'], ['welcome_check', 'cool_movie', 'theater_world'], ['apply_today'], ['test'], ['apply_today'], ['invite', 'rockin'], ['apply_today'], ['apply_today'], ['welcome_check', 'cool_movie', 'theater_world'], [], ['invite', 'rockin'], ['invite', 'rockin'], ['invite', 'rockin'], ['invite', 'rockin'], ['invite', 'rockin'], ['test'], ['consider', 'grad', 'school_help'], ['apply_today'], ['join', 'special', 'celebration', 'honor'], ['invite', 'rockin'], [], [], ['pregame_monsoon'], ['apply_today'], ['join', 'special', 'celebration', 'honor'], [], ['test'], [], ['free', 'graduation', 'regalia'], ['apply_today'], ['free', 'graduation', 'regalia'], [], [], ['test'], [], ['test'], [], ['join', 'special', 'celebration', 'honor'], ['pregame_monsoon'], ['pregame_monsoon'], ['invite', 'rockin'], ['join', 'special', 'celebration', 'honor'], ['join', 'special', 'celebration', 'honor'], ['join', 'special', 'celebration', 'honor'], [], ['welcome_check', 'cool_movie', 'theater_world'], ['join', 'special', 'celebration', 'honor'], [], ['complimentary', 'graduation', 'regalia'], ['complimentary', 'graduation', 'regalia'], [], ['complimentary', 'graduation', 'regalia'], ['join', 'special', 'celebration', 'honor'], ['serve', 'great', 'season', 'opener', 'tonight'], ['serve', 'great', 'season', 'opener', 'tonight'], ['complimentary', 'graduation', 'regalia'], ['ticket'], ['apply_today'], ['join', 'special', 'celebration', 'honor'], ['reward', 'dd'], ['join', 'special', 'celebration', 'honor'], ['complimentary', 'graduation', 'regalia'], [], ['pregame_monsoon'], [], ['join', 'special', 'celebration', 'honor'], [], ['cat'], ['ticket'], ['ticket'], [], ['complimentary', 'graduation', 'regalia'], [], [], ['cat'], [], ['dd'], [], ['complimentary', 'graduation', 'regalia'], ['complimentary', 'graduation', 'regalia'], ['pregame_monsoon'], ['cat'], ['join', 'special', 'celebration', 'honor'], ['year'], ['complimentary', 'graduation', 'regalia'], ['year'], ['test'], ['join', 'special', 'celebration', 'honor'], ['pregame_monsoon'], ['complimentary', 'graduation', 'regalia'], ['cat'], ['test'], ['year'], ['complimentary', 'graduation', 'regalia'], ['cat'], [], ['join', 'special', 'celebration', 'honor'], ['year'], ['cat'], ['luncheon', 'celebrate'], ['year'], ['invite', 'rockin'], [], ['join', 'special', 'celebration', 'honor'], ['join', 'special', 'celebration', 'honor'], [], [], [], ['cat'], [], ['join', 'special', 'celebration', 'honor'], ['cat'], ['free', 'graduation', 'regalia'], [], ['new', 'innovation_guideline'], ['new', 'innovation_guideline'], ['join', 'special', 'celebration', 'honor'], ['free', 'graduation', 'regalia'], ['free', 'graduation', 'regalia'], ['test'], ['join', 'special', 'celebration', 'honor'], [], ['free', 'graduation', 'regalia'], ['join', 'special', 'celebration', 'honor'], ['cat'], ['new', 'innovation_guideline'], ['special', 'luncheon', 'celebrate'], ['join', 'special', 'celebration', 'honor'], ['ticket'], ['free', 'graduation', 'regalia'], ['luncheon', 'celebrate'], ['new', 'innovation_guideline'], ['luncheon', 'celebrate'], ['free', 'graduation', 'regalia'], ['legendary_champ'], ['new', 'innovation_guideline'], ['luncheon', 'celebrate'], ['free', 'graduation', 'regalia'], [], ['announce'], ['new', 'innovation_guideline'], ['legendary_champ'], ['new', 'innovation_guideline'], ['legendary_champ'], ['new', 'innovation_guideline'], ['new', 'innovation_guideline'], ['new', 'innovation_guideline'], ['new', 'innovation_guideline'], ['welcome_check', 'cool_movie', 'theater_world'], ['new', 'innovation_guideline'], ['ticket'], [], ['new', 'innovation_guideline'], [], ['legendary_champ'], ['new', 'innovation_guideline'], [], ['new', 'innovation_guideline'], ['legendary_champ'], ['legendary_champ'], [], ['cat'], ['new', 'innovation_guideline'], ['legendary_champ'], ['new', 'innovation_guideline'], ['legendary_champ'], ['new', 'innovation_guideline'], ['new', 'innovation_guideline'], [], ['new', 'innovation_guideline'], ['new', 'innovation_guideline'], ['new', 'innovation_guideline'], ['sign', 'newsletter'], ['new', 'innovation_guideline'], ['new', 'innovation_guideline'], ['sign', 'newsletter'], ['come'], ['new', 'innovation_guideline'], ['claim_complimentary', 'graduation', 'regalia'], ['claim_complimentary', 'graduation', 'regalia'], ['new', 'innovation_guideline'], ['new', 'innovation_guideline'], ['ultimate', 'tailgate', 'party'], ['new', 'innovation_guideline'], ['new', 'innovation_guideline'], ['new', 'innovation_guideline'], ['claim_complimentary', 'graduation', 'regalia'], ['tailgate', 'time_bust'], ['tailgate', 'time_bust'], ['claim_complimentary', 'graduation', 'regalia'], ['new', 'innovation_guideline'], ['new', 'innovation_guideline'], ['claim_complimentary', 'graduation', 'regalia'], ['new', 'innovation_guideline'], ['legendary_champ'], [], ['day'], ['claim_complimentary', 'graduation', 'regalia'], ['day'], ['claim_complimentary', 'graduation', 'regalia'], [], ['ultimate', 'tailgate', 'party'], ['ultimate', 'tailgate', 'party'], ['reminder', 'claim_complimentary', 'graduation', 'regalia'], ['reward', 'dd'], ['day'], [], ['ultimate', 'tailgate', 'party'], [], [], ['come'], ['school'], ['come'], ['come'], [], ['cat'], [], ['come'], ['day'], [], ['test'], [], ['come'], [], ['come'], ['graduate_policy', 'big', 'discount'], ['ultimate', 'tailgate', 'party'], ['ticket'], ['day'], ['come'], ['come'], ['come'], ['join', 'ultimate', 'tailgate', 'party'], ['chance', 'enter'], ['ultimate', 'tailgate', 'party'], ['ultimate', 'tailgate', 'party'], ['ultimate', 'tailgate', 'party'], ['luncheon', 'celebrate'], ['chance', 'enter'], ['chance', 'enter'], ['come'], ['luncheon', 'celebrate'], ['luncheon', 'celebrate'], ['day'], ['day'], ['earn_provide', 'feedback_website'], ['graduate_policy', 'big', 'discount'], ['luncheon', 'celebrate'], ['luncheon', 'celebrate'], ['day'], ['winner'], ['day'], ['luncheon', 'celebrate'], ['ready', 'homecoming'], ['earn_provide', 'feedback_website'], [], [], ['ready', 'homecoming'], ['ready', 'homecoming'], [], ['flash', 'ticket'], ['bus'], [], ['reward', 'dd'], [], ['event'], ['flash', 'tix', 'game', 'catalog'], [], ['bus'], [], [], ['flash', 'ticket'], [], ['invite', 'showdown'], ['come'], ['sign', 'newsletter'], ['come'], ['come'], ['come'], ['rollover_doughnut'], ['update', 'join', 'meet', 'alum', 'advance', 'computing', 'networking', 'storage', 'system', 'world'], [], ['come'], [], ['come'], ['come'], ['come'], ['come'], [], ['ready', 'homecoming'], ['come'], [], [], ['earn_provide', 'feedback_website'], [], [], ['bus'], ['come'], [], [], [], ['day'], [], ['come'], ['come'], [], ['flash', 'ticket'], [], ['flash', 'ticket'], ['bus'], ['news'], ['invite', 'showdown'], [], ['news'], ['run'], ['bus'], ['test'], ['news'], ['news'], ['run'], ['bus'], [], ['photo', 'map'], ['bus'], ['sign', 'newsletter'], ['test'], ['test'], [], ['test'], ['news'], ['news'], ['sign', 'newsletter'], ['come'], ['test'], ['sign', 'newsletter'], ['news'], [], ['test'], ['run'], ['sign', 'newsletter'], ['bus'], ['news'], ['bus'], ['news'], ['news'], ['news'], ['news'], ['news'], ['news'], ['news'], ['news'], ['news'], ['news'], ['news'], ['news'], ['news'], ['news'], ['news'], ['news'], ['event'], ['news'], ['event'], ['news'], ['news'], ['news'], ['invite', 'showdown'], ['news'], ['news'], ['news'], ['news'], ['invite', 'showdown'], ['news'], ['news'], ['news'], ['event'], ['news'], ['news'], ['news'], ['test', 'talent'], ['news'], ['news'], ['news'], ['news'], ['news'], [], ['rollover_doughnut'], ['news'], ['reunite'], ['talent'], ['thank', 'bus'], [], ['test', 'talent'], [], ['engineering_update', 'join', 'meet', 'alum', 'advance', 'computing', 'networking', 'storage', 'system', 'world'], ['rollover_doughnut'], ['join', 'rollover_doughnut'], ['news'], ['news'], ['news'], ['news'], ['news'], ['test', 'talent'], ['news'], ['ready', 'homecoming'], [], ['rollover_doughnut'], [], ['test', 'talent'], ['news'], ['earn_provide', 'feedback_website'], ['news'], ['congratulation_nominate', 'join'], ['news'], ['congratulation_nominate', 'join'], ['ticket', 'tailgate', 'package'], ['ticket', 'tailgate', 'package'], ['congratulation_nominate', 'join'], ['congratulation_nominate', 'join'], ['ticket', 'tailgate', 'package'], [], ['news'], ['invite', 'showdown'], ['ready', 'homecoming'], [], ['congratulation_nominate', 'join'], ['congratulation_nominate', 'join'], ['earn_provide', 'feedback_website'], ['congratulation_nominate', 'join'], ['congratulation_nominate', 'join'], [], ['join', 'event'], ['congratulation_nominate', 'join'], ['invite', 'succeed_global', 'economy'], ['ticket', 'tailgate', 'package'], ['invite', 'succeed_global', 'economy'], ['ticket', 'tailgate', 'package'], ['ticket', 'tailgate', 'package'], ['tailgate', 'friend_family'], ['invite', 'succeed_global', 'economy'], ['invite', 'succeed_global', 'economy'], ['invite', 'succeed_global', 'economy'], ['score', 'ticket', 'tailgate', 'package'], ['invite', 'succeed_global', 'economy'], ['tailgate', 'friend_family'], ['invite', 'succeed_global', 'economy'], ['ticket', 'tailgate', 'package'], ['tailgate', 'friend_family'], ['tailgate', 'friend_family'], ['tailgate', 'friend_family'], ['reward', 'dd'], ['ticket', 'tailgate', 'package'], ['tailgate', 'friend_family'], ['end_tomorrow'], [], [], [], ['exclusive', 'discount', 'course'], ['tailgate', 'friend_family'], [], ['tailgate', 'friend_family'], [], [], ['tailgate', 'friend_family'], ['tailgate', 'friend_family'], ['exclusive', 'discount', 'course'], ['exclusive', 'discount', 'course'], ['homecoming', 'tailgate', 'friend_family'], ['exclusive', 'discount', 'course'], ['end_tomorrow'], ['tailgate', 'friend_family'], [], ['end_tomorrow'], ['end_tomorrow'], ['alumnus', 'discount', 'continue', 'course'], [], ['end_tomorrow'], [], ['alumnus', 'discount', 'continue', 'course'], [], ['end_tomorrow'], ['end_tomorrow'], ['professional', 'skill', 'need', 'wait'], [], [], [], [], [], [], [], [], [], ['alumnus', 'discount', 'continue', 'course'], [], ['professional', 'skill', 'need', 'wait'], [], ['rock_house'], [], [], ['rock_house'], ['rock_house'], ['rock_house'], ['rock_house'], [], [], [], [], ['chance', 'purchase_grad', 'regalia', 'online'], ['chance', 'purchase_grad', 'regalia', 'online'], ['event'], ['homecoming', 'tailgate'], ['thought', 'chance', 'win'], [], [], [], ['salute', 'service'], ['watch'], ['event'], ['watch'], ['event'], [], ['chance', 'purchase_grad', 'regalia', 'online'], ['come'], [], [], [], ['event'], ['service', 'celebrate', 'serve'], ['service', 'celebrate', 'serve'], [], ['event'], [], ['exciting_upcoming', 'native', 'event'], [], ['reward', 'dd'], [], ['salute', 'service'], [], ['chance', 'purchase_grad', 'regalia', 'online'], [], [], ['watch'], ['thought', 'chance', 'win'], [], [], [], ['come'], [], ['come'], ['watch'], [], [], ['event'], [], [], ['exciting_upcoming', 'native', 'event'], ['watch'], ['exciting_upcoming', 'native', 'event'], [], [], ['share', 'thought', 'chance', 'win'], ['watch'], [], ['exciting_upcoming', 'native', 'event'], ['watch'], [], [], ['event'], ['homecoming', 'tailgate'], [], [], ['watch'], ['exciting_upcoming', 'native', 'event'], [], [], [], ['watch'], ['special', 'alum'], ['special', 'alum'], ['special', 'alum'], ['thought', 'chance', 'win'], ['chance', 'purchase_grad', 'regalia', 'online'], ['thought', 'chance', 'win'], [], ['thought', 'chance', 'win'], ['thought', 'chance', 'win'], ['chance', 'purchase_grad', 'regalia', 'online'], ['chance', 'purchase_grad', 'regalia', 'online'], ['share', 'thought', 'chance', 'win'], ['ticket'], ['special', 'alum'], ['thought', 'chance', 'win'], ['special', 'alum'], ['thought', 'chance', 'win'], ['thought', 'chance', 'win'], ['thought', 'chance', 'win'], [], ['watch'], ['special', 'alum'], ['chance', 'purchase_grad', 'regalia', 'online'], ['thought', 'chance', 'win'], ['special', 'alum'], ['special', 'alum'], ['join', 'exciting_upcoming', 'native', 'event'], ['join'], [], [], [], [], ['event'], [], ['exciting', 'event'], [], [], ['come'], ['watch'], ['homecoming'], [], [], [], ['join', 'homecoming', 'tailgate'], ['ticket'], ['join'], [], [], ['special', 'alum'], [], [], [], [], [], [], [], [], [], ['earn_provide', 'feedback_website'], [], [], [], ['tailgate'], ['reward', 'dd'], ['chance', 'purchase_grad', 'regalia', 'online'], ['key_takeaway', 'meeting'], ['key_takeaway', 'meeting'], ['key_takeaway', 'meeting'], ['key_takeaway', 'meeting'], ['key_takeaway', 'meeting'], ['save_hundred'], ['key_takeaway', 'meeting'], ['thought', 'chance', 'win'], ['key_takeaway', 'meeting'], ['earn_provide', 'feedback_website'], ['key_takeaway', 'meeting'], ['save_hundred'], ['key_takeaway', 'meeting'], ['share', 'thought', 'chance', 'win'], [], [], ['key_takeaway', 'meeting'], [], [], [], [], ['win', 'cruise'], ['key_takeaway', 'meeting'], [], [], [], [], [], ['key_takeaway', 'meeting'], [], [], [], ['key_takeaway', 'meeting'], ['thought', 'chance', 'win'], ['adore_theme', 'holiday', 'event'], ['adore_theme', 'holiday', 'event'], [], ['adore_theme', 'holiday', 'event'], ['adore_theme', 'holiday', 'event'], ['founder', 'day', 'alum', 'honoree'], [], [], ['adore_theme', 'holiday', 'event'], ['founder', 'day', 'alum', 'honoree'], ['need', 'know', 'faculty_star'], ['share', 'thought', 'chance', 'win'], [], [], [], [], ['founder', 'day', 'alum', 'honoree'], ['founder', 'day', 'honoree'], ['adore_theme', 'holiday', 'event'], [], ['reward', 'dd'], ['free', 'regalia'], ['free', 'regalia'], ['free', 'regalia'], ['miss', 'opportunity', 'land_promotion', 'raise'], ['watch'], ['watch'], ['regular', 'season', 'party'], ['reminder', 'share', 'thought', 'chance', 'win'], ['watch'], [], ['alumnus'], [], ['regular', 'season', 'party'], ['innovation', 'year', 'run'], ['innovation', 'year', 'run'], ['free', 'regalia'], ['innovation', 'year', 'run'], [], ['save_hundred'], ['founder', 'day', 'honoree'], ['alumnus'], ['free', 'regalia'], ['regular', 'season', 'party'], ['free', 'regalia'], ['free', 'regalia'], ['innovation', 'year', 'run'], ['miss', 'exclusive_percent', 'discount', 'professional_development'], ['founder', 'day', 'honoree'], ['free', 'regalia'], ['free', 'regalia'], ['watch'], ['miss', 'opportunity', 'land_promotion', 'raise'], ['miss', 'exclusive_percent', 'discount', 'professional_development'], ['innovation', 'year', 'run'], ['care', 'holiday', 'season', 'nominate_own', 'business'], ['innovation', 'year', 'run'], ['free', 'regalia'], ['free', 'regalia'], [], [], ['care', 'holiday', 'season', 'nominate_own', 'business'], ['alumnus'], [], ['regular', 'season', 'party'], ['adore_theme', 'holiday', 'event'], [], [], ['free', 'regalia'], ['watch'], ['innovation', 'year', 'run'], ['free', 'regalia'], ['watch'], ['free', 'regalia'], ['care', 'holiday', 'season', 'nominate_own', 'business'], ['free', 'regalia'], ['miss', 'opportunity', 'land_promotion', 'raise'], ['adore_theme', 'holiday', 'event'], ['free', 'regalia'], [], ['free', 'regalia'], ['miss', 'exclusive_percent', 'discount', 'professional_development'], ['founder', 'day', 'honoree'], ['innovation', 'year', 'run'], ['need', 'know', 'faculty_star'], ['need', 'know', 'faculty_star'], ['free', 'regalia'], ['watch'], ['alumnus'], ['travel'], ['miss', 'opportunity', 'land_promotion', 'raise'], ['forget_pick', 'graduation', 'regalia'], ['forget_pick', 'graduation', 'regalia'], ['great', 'success', 'thank'], ['miss', 'opportunity', 'land_promotion', 'raise'], ['miss', 'exclusive_percent', 'discount', 'professional_development'], ['watch'], ['miss', 'exclusive_percent', 'discount', 'professional_development'], ['regular', 'season', 'party'], ['forget_pick', 'graduation', 'regalia'], ['forget_pick', 'graduation', 'regalia'], ['watch'], ['travel'], [], ['miss', 'exclusive_percent', 'discount', 'professional_development'], [], ['travel'], ['forget_pick', 'graduation', 'regalia'], [], ['great', 'success', 'thank'], ['forget_pick', 'graduation', 'regalia'], [], ['travel'], [], ['great', 'success', 'thank'], ['save', 'travel'], ['watch'], ['care', 'holiday', 'season', 'nominate_own', 'business'], ['watch'], ['watch'], ['miss', 'exclusive_percent', 'discount', 'professional_development'], ['alumnus', 'good'], ['watch'], ['luncheon', 'celebrate'], ['miss', 'opportunity', 'land_promotion', 'raise'], ['care', 'holiday', 'season', 'nominate_own', 'business'], [], ['forget_pick', 'graduation', 'regalia'], [], ['care', 'holiday', 'season', 'nominate_own', 'business'], [], ['forget_pick', 'graduation', 'regalia'], ['care', 'holiday', 'season', 'nominate_own', 'business'], ['care', 'holiday', 'season', 'nominate_own', 'business'], ['watch'], ['miss', 'opportunity', 'land_promotion', 'raise'], ['care', 'holiday', 'season', 'nominate_own', 'business'], ['adore_theme', 'holiday', 'event'], ['forget_pick', 'graduation', 'regalia'], ['miss', 'exclusive_percent', 'discount', 'professional_development'], ['watch'], ['care', 'holiday', 'season', 'nominate_own', 'business'], ['great', 'success', 'thank'], [], [], ['regular', 'season', 'party'], ['alumnus', 'good'], ['professional', 'skill', 'need', 'wait'], [], [], ['miss', 'opportunity', 'land_promotion', 'raise'], ['great', 'success', 'thank'], ['earn_provide', 'feedback_website'], ['alumnus', 'good'], ['claim', 'discount', 'boost', 'skill'], ['miss', 'opportunity', 'land_promotion', 'raise'], ['alumnus', 'good'], [], [], ['alumnus', 'good'], ['news'], ['news'], ['mixer'], ['mixer'], [], ['mixer'], ['mixer'], ['mixer'], ['mixer'], ['earn_provide', 'feedback_website'], [], [], ['news'], ['news'], [], ['news'], [], ['reward', 'dd'], ['news'], ['news'], ['news'], ['saving'], ['saving'], [], ['good', 'easy', 'place', 'shop'], ['saving'], ['exclusive', 'alumnus'], ['good', 'easy', 'place', 'shop'], [], [], [], [], [], [], [], [], [], ['scholarship', 'fundraiser'], ['share', 'thought', 'chance', 'win'], ['highlight_web', 'communication_camp'], ['miss', 'opportunity', 'land_promotion', 'raise'], ['thought', 'chance', 'win'], ['share', 'thought', 'chance', 'win'], [], ['miss', 'opportunity', 'land_promotion', 'raise'], ['saving'], [], ['holiday', 'saving'], [], ['earn_provide', 'feedback_website'], [], ['reward', 'dd'], ['earn_provide', 'feedback_website'], [], ['co_creation', 'research'], ['participate_co', 'creation_research'], ['participate_co', 'creation_research'], ['big_crowd', 'shop_catalog'], ['participate_co', 'creation_research'], ['big_crowd', 'shop_catalog'], [], ['thought', 'chance', 'win'], ['big_crowd', 'shop_catalog'], ['big_crowd', 'shop_catalog'], ['thought', 'chance', 'win'], ['free'], ['celebrate'], ['big_crowd', 'shop_catalog'], ['big_crowd', 'shop_catalog'], ['share', 'thought', 'chance', 'win'], ['big_crowd', 'shop_catalog'], ['alumnus', 'cheer_hockey', 'th'], ['free'], ['alumnus', 'cheer_hockey', 'th'], ['alumnus', 'cheer_hockey', 'th'], ['alumnus', 'cheer_hockey', 'th'], ['alumnus', 'cheer_hockey', 'th'], ['free'], ['alumnus', 'cheer_hockey', 'th'], ['alumnus', 'cheer_hockey', 'th'], ['share', 'thought', 'chance', 'win'], ['alumnus', 'cheer_hockey', 'th'], ['big_crowd', 'shop_catalog'], ['big_crowd', 'shop_catalog'], ['alumnus', 'cheer_hockey', 'th'], ['big_crowd', 'shop_catalog'], ['big_crowd', 'shop_catalog'], ['big_crowd', 'shop_catalog'], ['big_crowd', 'shop_catalog'], ['alumnus', 'cheer_hockey', 'th'], ['alumnus', 'cheer_hockey', 'th'], ['alumnus', 'cheer_hockey', 'th'], ['big_crowd', 'shop_catalog'], ['reminder', 'participate_co', 'creation_research'], ['join', 'alumnus', 'cheer_hockey', 'th'], ['free'], ['chapter'], [], ['free'], ['power'], ['reward', 'dd'], ['power'], ['exclusive', 'offer'], [], ['free'], ['reminder', 'share', 'thought', 'chance', 'win'], [], ['free'], ['update', 'season', 'spirit'], [], ['event'], [], ['open'], ['weekend', 'event', 'thank', 'scholarship', 'support'], [], [], ['weekend', 'event', 'thank', 'scholarship', 'support'], [], ['graduate_reason', 'save'], [], [], ['miss', 'meeting'], [], [], [], ['event'], ['graduate_reason', 'save'], ['event'], [], [], [], ['graduate_reason', 'save'], ['miss', 'meeting'], ['score'], ['reminder', 'participate_co', 'creation_research'], [], [], ['bowl_bind'], ['weekend', 'event', 'thank', 'scholarship', 'support'], ['reward', 'home', 'holiday'], ['weekend', 'event', 'thank', 'scholarship', 'support'], [], ['bowl_bind'], ['bowl_bind'], ['chapter'], ['chapter'], [], [], [], [], [], [], [], ['engineering_update', 'season', 'spirit'], [], [], ['weekend', 'event', 'thank', 'scholarship', 'support'], [], [], ['open'], [], ['bowl_bind'], ['power'], ['open'], ['event'], [], [], [], ['open'], ['open'], [], [], [], ['open'], ['reminder', 'participate_co', 'creation_research'], ['chapter'], ['open'], [], [], ['weekend', 'event', 'thank', 'scholarship', 'support'], ['graduate_reason', 'save'], ['marcom_score'], ['marcom_score'], ['special', 'day', 'grad', 'secret_word'], [], [], [], ['reminder', 'share', 'thought', 'chance', 'win'], [], ['reward', 'dd'], ['special', 'day', 'grad', 'secret_word'], ['reminder', 'share', 'thought', 'chance', 'win'], [], [], [], ['marcom_score'], ['marcom_score'], ['marcom_score'], ['marcom_score'], ['marcom_score'], [], [], ['marcom_score'], ['marcom_score'], ['reminder', 'share', 'thought', 'chance', 'win'], ['new', 'alumnus'], [], ['new', 'alumnus'], [], ['reward', 'dd'], [], [], [], [], [], [], [], [], ['reminder', 'share', 'thought', 'chance', 'win'], [], ['reward', 'dd'], [], ['reminder', 'share', 'thought', 'chance', 'win'], ['holiday_greeting'], [], ['holiday_greeting'], [], [], [], ['reward', 'dd'], ['holiday_greeting'], [], ['reminder', 'share', 'thought', 'chance', 'win'], [], ['perfect_gift', 'grad'], ['newsletter'], ['perfect_gift', 'grad'], ['pride_percent', 'merchandise'], ['perfect_gift', 'grad'], ['newsletter'], [], ['newsletter'], ['join'], ['newsletter'], ['miss'], ['newsletter'], ['newsletter'], ['newsletter'], ['pride_percent', 'merchandise'], ['pride_percent', 'merchandise'], ['perfect_gift', 'grad'], [], ['newsletter'], [], ['miss'], ['miss'], ['perfect_gift', 'grad'], ['alumnus', 'newsletter'], ['newsletter'], ['newsletter'], [], ['newsletter'], ['newsletter'], ['perfect_gift', 'grad'], ['newsletter'], ['newsletter'], ['newsletter'], [], ['perfect_gift', 'grad'], ['newsletter'], ['newsletter'], ['newsletter'], ['newsletter'], ['newsletter'], [], [], ['perfect_gift', 'grad'], ['newsletter'], ['newsletter'], ['newsletter'], ['newsletter'], ['newsletter'], ['networking'], ['newsletter'], ['newsletter'], ['perfect_gift', 'grad'], ['perfect_gift', 'grad'], ['pride_percent', 'merchandise'], ['networking'], ['chance'], ['chance'], ['chance'], ['networking'], ['career', 'new', 'year'], ['want', 'know', 'entrepreneur'], ['want', 'know', 'entrepreneur'], ['career', 'new', 'year'], ['career', 'new', 'year'], ['career', 'new', 'year'], ['want', 'know', 'entrepreneur'], ['want', 'know', 'entrepreneur'], ['career', 'new', 'year'], ['career', 'new', 'year'], ['postgrad_life'], ['discount', 'code'], ['career', 'new', 'year'], ['career', 'new', 'year'], ['reward', 'dd'], ['want', 'know', 'entrepreneur'], ['postgrad_life'], ['discount', 'code'], ['set'], ['set'], ['postgrad_life'], ['career', 'new', 'year'], ['set'], ['want', 'know', 'entrepreneur'], [], ['discount', 'code'], ['legacy'], ['set'], ['set'], ['discount', 'code', 'alumnus'], ['want', 'know', 'entrepreneur'], [], ['career', 'new', 'year'], ['career', 'new', 'year'], ['career', 'new', 'year'], ['healthy_wealthy', 'new'], ['career', 'new', 'year'], ['career', 'new', 'year'], ['boost_brand', 'iq'], [], ['slam_dunk', 'will_want', 'miss'], ['slam_dunk', 'will_want', 'miss'], [], ['career', 'new', 'year'], ['postgrad_life'], ['slam_dunk', 'will_want', 'miss'], ['healthy_wealthy', 'new'], ['postgrad_life'], ['postgrad_life'], ['brand_iq'], ['career', 'new', 'year'], ['set'], ['boost_brand', 'iq'], ['career', 'new', 'year'], ['postgrad_life'], [], [], ['set'], ['postgrad_life'], ['boost_brand', 'iq'], ['welcome', 'postgrad_life'], ['postgrad_life'], ['double'], ['new', 'boost_brand', 'iq'], ['boost_brand', 'iq'], ['double'], ['postgrad_life'], ['boost_brand', 'iq'], ['double'], ['boost_brand', 'iq'], ['healthy_wealthy', 'new'], ['boost_brand', 'iq'], ['boost_brand', 'iq'], ['boost_brand', 'iq'], ['double'], ['postgrad_life'], ['postgrad_life'], ['postgrad_life'], ['present_university', 'vision_future'], ['double'], ['double'], ['career', 'new', 'year'], ['news', 'shot', 'ticket'], ['kickstart', 'career', 'new', 'year'], ['career', 'new', 'year'], ['career', 'new', 'year'], ['career', 'new', 'year'], ['double'], ['double'], ['double'], ['day'], ['double'], ['double'], ['double'], [], ['double'], ['double'], ['news'], ['offer'], ['double'], ['th'], ['update', 'join', 'early_spring', 'event'], ['chapter', 'activity'], [], [], [], ['reward', 'dd'], ['merchandise_end'], ['merchandise_end'], ['reward', 'dd'], [], ['basketball_player', 'head_wine', 'care', 'support', 'scholarship'], ['merchandise_end'], ['basketball_player', 'head_wine', 'care', 'support', 'scholarship'], ['alumnus', 'chapter', 'newsletter'], ['chapter', 'activity'], ['join'], [], [], ['level_donation'], ['merchandise_end'], ['alumnus', 'chapter', 'newsletter'], [], ['join'], ['merchandise_end'], ['basketball_player', 'head_wine', 'care', 'support', 'scholarship'], ['join'], ['day', 'away'], ['merchandise_end'], ['chapter', 'activity'], ['graduate_policy', 'big', 'discount'], [], ['alumnus', 'chapter', 'newsletter'], [], ['day', 'away'], ['sparky', 'level_donation'], ['basketball_player', 'head_wine', 'care', 'support', 'scholarship'], ['sparky', 'level_donation'], [], ['day', 'away'], ['career', 'kickstart', 'summit', 'day', 'away'], ['join'], ['th'], ['th'], [], ['merchandise_end'], ['th'], ['update', 'join', 'early_spring', 'event'], ['update', 'join', 'early_spring', 'event'], [], [], ['basketball_player', 'head_wine', 'care', 'support', 'scholarship'], ['merchandise_end'], ['merchandise_end'], ['chapter', 'activity'], ['merchandise_end'], [], ['graduate_policy', 'big', 'discount'], ['update', 'join', 'early_spring', 'event'], [], [], [], ['join'], ['new', 'newsletter', 'template'], [], ['engineering_update', 'join', 'early_spring', 'event'], ['reward', 'dd'], ['fun', 'free'], ['fun', 'free'], ['join'], ['fun', 'free'], ['reward', 'dd'], ['reward', 'dd'], ['special', 'discussion_week'], ['fun', 'free'], ['special', 'discussion_week'], ['special', 'discussion_week'], ['join'], ['special', 'discussion_week'], ['special', 'discussion_week'], ['special', 'discussion_week'], ['fun', 'free'], ['special', 'discussion_week'], ['special', 'discussion_week'], ['reward', 'dd'], ['fun', 'free'], ['fun', 'free'], ['fun', 'free'], ['fun', 'free'], ['fun', 'free'], ['chance', 'want', 'know', 'entrepreneur'], ['faculty_staff', 'want', 'pitchfork'], ['news'], ['news'], ['news'], ['join'], ['faculty_staff', 'want', 'pitchfork'], ['join'], ['invite', 'event', 'will_want', 'miss'], ['news'], ['chapter'], ['news'], ['faculty_staff', 'want', 'pitchfork'], ['news'], ['faculty_staff', 'want', 'pitchfork'], ['news'], ['faculty_staff', 'want', 'pitchfork'], ['news'], ['faculty_staff', 'want', 'pitchfork'], ['faculty_staff', 'want', 'pitchfork'], ['chance', 'merchandise_end'], ['online', 'research_study'], ['participate', 'online', 'research_study'], ['event', 'will_want', 'miss'], ['reward', 'dd'], ['participate', 'online', 'research_study'], ['online', 'research_study'], ['online', 'research_study'], ['chance', 'merchandise_end'], ['faculty_staff', 'want', 'pitchfork'], ['chance', 'merchandise_end'], ['line'], ['faculty_staff', 'want', 'pitchfork'], [], ['line'], ['chance', 'merchandise_end'], ['event', 'will_want', 'miss'], [], ['line'], ['line'], ['line'], ['line'], [], [], ['line'], ['event', 'will_want', 'miss'], ['line'], ['line'], ['line'], [], ['event', 'will_want', 'miss'], ['thought', 'earn', 'tumbler', 'pitchfork'], ['line'], ['line'], ['line'], ['line'], ['chance', 'merchandise_end'], ['network', 'inspire'], ['event', 'will_want', 'miss'], ['network', 'inspire'], ['thought', 'earn', 'tumbler', 'pitchfork'], ['event', 'will_want', 'miss'], ['event', 'will_want', 'miss'], ['network', 'inspire'], [], [], [], ['event', 'will_want', 'miss'], ['participate', 'online', 'research_study'], ['congratulation', 'invite', 'day'], ['reminder', 'participate', 'online', 'research_study'], ['congratulation', 'invite', 'day'], ['happy'], [], [], ['event', 'will_want', 'miss'], [], ['network', 'inspire'], ['event', 'will_want', 'miss'], [], [], [], [], ['run'], [], [], ['day'], [], [], [], [], ['present_university', 'vision_future'], [], ['chapter', 'gear'], ['reward', 'dd'], ['chapter', 'gear'], ['chapter', 'gear'], [], ['join'], ['news'], ['chapter', 'gear'], ['ready', 'large_leadership', 'role'], ['free'], ['chapter', 'gear'], ['chapter', 'gear'], ['chapter', 'gear'], ['engage', 'network', 'inspire'], ['ready', 'large_leadership', 'role'], ['chapter'], ['ready', 'large_leadership', 'role'], ['reminder', 'share', 'thought', 'chance', 'win'], ['news'], ['news'], ['chapter'], ['run'], ['ready', 'large_leadership', 'role'], ['chapter', 'gear'], ['news'], [], ['ready', 'large_leadership', 'role'], ['chapter'], ['news'], [], ['campus'], ['share', 'thought', 'chance', 'win'], ['chapter', 'gear'], ['news'], ['campus'], ['news'], ['news'], [], [], ['join', 'run'], [], ['campus'], ['share', 'thought', 'chance', 'win'], ['ready', 'large_leadership', 'role'], [], ['invite', 'kind', 'leadership', 'program'], ['share', 'thought', 'chance', 'win'], ['door', 'ticket'], ['ticket'], ['reward', 'dd'], ['ticket'], ['graduate_policy', 'big', 'discount'], ['campus'], ['door', 'ticket'], ['miss', 'deadline'], ['miss', 'deadline'], ['free', 'campus'], ['miss'], ['miss', 'deadline'], ['share', 'thought', 'chance', 'win'], ['miss'], ['graduate_policy', 'big', 'discount'], ['reminder', 'share', 'thought', 'chance', 'win'], ['week', 'story'], ['miss'], ['miss'], ['miss'], ['miss'], [], ['new', 'boost_brand', 'iq'], [], ['new', 'boost_brand', 'iq'], ['campus'], [], [], ['miss'], ['new', 'boost_brand', 'iq'], ['free', 'campus'], ['go', 'game'], ['miss', 'deadline'], ['go', 'game'], ['go', 'game'], ['go', 'game'], ['new', 'boost_brand', 'iq'], ['go', 'game'], ['new', 'boost_brand', 'iq'], ['go', 'game'], ['join', 'campus'], ['miss'], ['free', 'campus'], ['go', 'game'], ['join', 'campus'], ['go', 'game'], ['miss'], ['go', 'game'], ['miss', 'deadline'], ['story'], ['story'], ['go', 'game'], ['miss', 'deadline'], ['campus'], ['story'], ['free', 'graduation', 'regalia'], [], ['claim_complimentary', 'graduation', 'regalia'], ['run', 'time'], ['care', 'month', 'care'], ['go', 'game'], ['go', 'game'], ['free', 'graduation', 'regalia'], ['care', 'month', 'care'], ['mark_calendar', 'marketing', 'event', 'summer'], ['claim_complimentary', 'graduation', 'regalia'], ['ready', 'large_leadership', 'role'], ['watching'], ['story'], ['watching'], ['mark_calendar', 'marketing', 'event', 'summer'], ['new', 'boost_brand', 'iq'], ['watching'], ['story'], ['mark_calendar', 'marketing', 'event', 'summer'], ['mark_calendar', 'marketing', 'event', 'summer'], ['want', 'know', 'entrepreneur'], ['mark_calendar', 'marketing', 'event', 'summer'], ['care'], ['story'], ['spring', 'engineering', 'opportunity'], ['event', 'will_want', 'miss'], ['story'], ['new', 'boost_brand', 'iq'], ['reward', 'dd'], ['miss', 'deadline'], ['chapter', 'event'], ['chapter', 'event'], ['mark_calendar', 'marketing', 'event', 'summer'], ['care'], ['mark_calendar', 'marketing', 'event', 'summer'], ['care'], ['care'], ['claim_complimentary', 'graduation', 'regalia'], ['care', 'month', 'care'], ['care', 'month', 'care'], ['care'], ['care', 'month', 'care'], ['care'], ['watching'], ['free', 'graduation', 'regalia'], ['free', 'graduation', 'regalia'], ['new', 'boost_brand', 'iq'], ['story'], ['watching'], ['go', 'game'], [], ['network', 'inspire'], ['care', 'month', 'care'], ['miss'], ['chapter', 'event'], ['run', 'time'], [], ['free', 'graduation', 'regalia'], ['free', 'graduation', 'regalia'], ['free', 'graduation', 'regalia'], ['free', 'graduation', 'regalia'], ['chapter', 'event'], ['free', 'graduation', 'regalia'], ['founder', 'day'], ['free', 'graduation', 'regalia'], ['claim', 'free', 'graduation', 'regalia'], ['run', 'time'], ['alumnus', 'news'], ['claim_complimentary', 'graduation', 'regalia'], ['claim_complimentary', 'graduation', 'regalia'], ['founder', 'day'], ['founder', 'day'], ['alumnus', 'news'], ['care'], ['care'], ['claim_complimentary', 'graduation', 'regalia'], ['claim_complimentary', 'graduation', 'regalia'], [], ['care'], ['care', 'month', 'care'], ['care'], ['alumnus', 'news'], ['check', 'spring', 'engineering', 'opportunity'], ['join', 'founder', 'day'], ['care', 'watching'], ['chapter', 'event'], ['celebrate', 'day'], ['alumnus', 'news'], ['alumnus', 'news'], ['alumnus', 'news'], ['founder', 'day'], ['alumnus', 'news'], ['alumnus', 'news'], ['news', 'let', 'know'], ['claim_complimentary', 'graduation', 'regalia'], ['alumnus', 'news'], ['alumnus', 'news'], ['alumnus', 'news'], ['reminder', 'claim_complimentary', 'graduation', 'regalia'], ['discount', 'come'], ['news', 'let', 'know'], ['news', 'let', 'know'], ['news', 'let', 'know'], ['discount', 'come'], ['alumnus', 'news'], ['news', 'let', 'know'], ['alumnus', 'news'], ['reward', 'dd'], ['news', 'let', 'know'], ['alumnus', 'news'], ['alumnus', 'news'], ['discount', 'come'], ['discount', 'come'], ['news', 'let', 'know'], ['alumnus', 'news'], [], [], ['get', 'news', 'let', 'know'], [], ['alumnus', 'news'], ['alumnus', 'news'], [], ['discount', 'come'], ['mark_calendar', 'marketing', 'event', 'summer'], ['discount', 'come'], ['mix_mingle', 'land_dream', 'job'], ['discount', 'come'], ['mix_mingle', 'land_dream', 'job'], ['mark_calendar', 'marketing', 'event', 'summer'], ['discount', 'come'], ['mark_calendar', 'marketing', 'event', 'summer'], ['discount', 'come'], [], ['discount', 'come'], ['alumnus', 'news'], ['discount', 'come'], ['discount', 'come'], ['discount', 'come'], ['discount', 'come'], ['discount', 'come'], ['let'], ['find', 'secret_word'], ['mix_mingle', 'land_dream', 'job'], ['social_know', 'hot', 'reward'], ['mix_mingle', 'land_dream', 'job'], ['easy', 'way', 'reward'], ['easy', 'way', 'reward'], ['earn', 'pitchfork_minute'], ['mix_mingle', 'land_dream', 'job'], ['care'], ['care'], ['mix_mingle', 'land_dream', 'job'], ['mix_mingle', 'land_dream', 'job'], ['mix_mingle', 'land_dream', 'job'], ['pitchfork', 'away'], ['care'], ['find', 'secret_word'], ['earn', 'pitchfork_minute'], ['pitchfork', 'tip', 'bank'], ['gift_change', 'life'], ['inside', 'way', 'earn', 'pitchfork'], ['pitchfork', 'tip', 'bank'], ['free', 'graduation', 'regalia'], [], ['reminder', 'share', 'thought', 'chance', 'win'], [], [], [], ['mix_mingle', 'land_dream', 'job'], [], [], [], ['gift_change', 'life'], ['care', 'watching'], [], ['gift_change', 'life'], ['exclusive', 'invite', 'mountain'], ['tasting'], ['get', 'ticket', 'wild'], ['reminder', 'share', 'thought', 'chance', 'win'], [], ['ready', 'large_leadership', 'role'], ['reminder', 'share', 'thought', 'chance', 'win'], ['miss', 'deadline'], ['free', 'mindfulness', 'course', 'alum'], ['invite', 'mountain'], ['campus'], ['get', 'ticket', 'wild'], ['get', 'ticket', 'wild'], [], ['watching'], ['ticket'], ['invite', 'mountain'], ['get', 'ticket', 'wild'], [], ['reward', 'dd'], [], ['get', 'ticket', 'wild'], ['get', 'ticket', 'wild'], ['care'], ['campus'], ['get', 'ticket', 'wild'], ['network', 'inspire'], ['get', 'ticket', 'wild'], ['annual_food'], ['tasting'], ['miss'], ['invite', 'mountain'], ['watching'], ['news', 'let', 'know'], ['annual_food'], ['miss'], ['annual_food'], ['get', 'ticket', 'wild'], ['fun', 'free'], ['tasting'], ['watching'], [], ['register', 'free', 'mindfulness', 'course', 'alum'], [], ['invite', 'mountain'], ['honor', 'alumnus', 'innovator_entrepreneur'], [], ['tasting'], [], [], ['reminder', 'share', 'thought', 'chance', 'win'], ['watching'], ['get', 'ticket', 'wild'], [], [], [], [], ['invite', 'mountain'], ['reward', 'dd'], ['discount'], ['test', 'sale'], ['test', 'sale'], ['gift_change', 'life'], ['gift_change', 'life'], ['power', 'network'], ['gift_change', 'life'], ['gift_change', 'life'], ['honor', 'alumnus', 'innovator_entrepreneur'], ['discount'], ['gift_change', 'life'], ['discount'], ['power', 'network'], ['power', 'network'], ['discount'], ['discount'], ['discount'], ['share', 'thought', 'chance', 'win'], ['gift_change', 'life'], ['power', 'network'], ['power', 'network'], ['reminder', 'share', 'thought', 'chance', 'win'], ['honor', 'alumnus', 'innovator_entrepreneur'], ['power', 'network'], [], [], ['harness', 'power', 'network'], ['email'], ['honor', 'alumnus', 'innovator_entrepreneur'], ['share', 'thought', 'chance', 'win'], ['end', 'soon'], ['honor', 'alumnus', 'innovator_entrepreneur'], ['register', 'celebration'], ['end', 'soon'], ['exclusive', 'offer', 'alumnus'], ['honor', 'alumnus', 'innovator_entrepreneur'], ['end', 'soon'], [], [], ['care'], [], ['event'], ['exclusive', 'offer', 'alumnus'], ['event'], [], ['register', 'celebration'], ['end', 'soon'], ['date'], [], ['event'], ['end', 'soon'], [], [], ['area'], [], ['end', 'soon'], ['share', 'thought', 'chance', 'win'], ['care'], ['end', 'soon'], [], ['run'], [], ['reward', 'dd'], ['involve', 'spring'], ['event'], [], ['give'], ['end', 'soon'], ['register', 'celebration'], ['end', 'soon'], ['event'], ['newsletter'], ['news'], ['give'], ['end', 'soon'], ['care', 'event', 'softball', 'baseball'], [], ['news'], [], ['spring_ceremony'], ['join', 'honor', 'alumnus', 'innovator_entrepreneur'], ['run'], [], ['exclusive', 'offer', 'alumnus'], ['news'], [], ['share', 'thought', 'chance', 'win'], [], [], ['share', 'thought', 'chance', 'win'], [], ['share', 'thought', 'chance', 'win'], ['difference'], [], [], [], ['difference'], [], [], [], ['area'], ['area'], ['give'], [], ['area'], [], [], [], ['difference'], ['share', 'thought', 'chance', 'win'], ['share', 'thought', 'chance', 'win'], [], ['feature_marketing', 'ace'], ['date', 'event'], ['area'], ['join', 'area'], [], [], ['event'], [], ['event'], ['event'], ['date', 'event'], ['newsletter'], ['area'], [], [], ['alumnus', 'news'], ['dinner', 'give'], ['news'], [], ['event'], ['event'], ['date'], ['care'], ['date', 'event'], ['care', 'event', 'softball', 'baseball'], ['care'], ['template'], ['care'], ['feature_marketing', 'ace'], [], [], ['date', 'event'], ['involve', 'spring'], ['difference'], ['join', 'spring_ceremony'], ['newsletter'], ['newsletter'], ['event'], ['newsletter'], ['activity'], ['care'], ['event'], ['event'], ['feature_marketing', 'ace'], ['care'], ['feature_marketing', 'ace'], ['time', 'run'], ['feature_marketing', 'ace'], ['care'], ['feature_marketing', 'ace'], ['news'], ['event'], ['feature_marketing', 'ace'], ['find_ideal', 'career', 'civilian_workforce'], ['event'], ['time', 'run'], ['feature_marketing', 'ace'], [], ['join', 'toast'], ['news'], ['feature_marketing', 'ace'], ['feature_marketing', 'ace'], ['reward', 'dd'], ['alumnus', 'news'], ['news'], ['toast'], [], ['date', 'event'], ['save', 'date', 'event'], ['event'], ['find_ideal', 'career', 'civilian_workforce'], ['care'], ['find_ideal', 'career', 'civilian_workforce'], ['feature_marketing', 'ace'], ['feature_marketing', 'ace'], [], [], ['feature_marketing', 'ace'], ['find_ideal', 'career', 'civilian_workforce'], ['event'], ['event'], ['alumnus', 'news'], ['toast'], ['find_ideal', 'career', 'civilian_workforce'], ['alumnus', 'news'], ['alumnus', 'gather_cheer', 'hockey'], ['alumnus', 'gather_cheer', 'hockey'], ['sign'], ['alumnus', 'gather_cheer', 'hockey'], ['test'], ['alumnus', 'news'], ['alumnus', 'news'], ['feature_marketing', 'ace'], ['upcoming', 'event'], [], ['feature_marketing', 'ace'], ['feature_marketing', 'ace'], ['alumnus', 'news'], ['day'], ['day'], ['day'], ['day'], ['day'], ['chance', 'purchase_grad', 'regalia', 'online'], ['chance', 'purchase_grad', 'regalia', 'online'], [], ['event'], [], ['area'], [], ['tasting'], ['free', 'mindfulness', 'course', 'alum'], [], [], [], ['give'], ['care', 'month', 'care'], ['spring_ceremony'], ['set', 'save'], [], [], ['chance', 'purchase_grad', 'regalia', 'online'], ['care'], [], [], ['newsletter'], [], ['day'], ['involve', 'spring'], ['annual_food'], [], ['set', 'save'], ['reward', 'dd'], [], ['new', 'custom_tee'], ['new', 'custom_tee'], ['know', 'reward', 'account'], ['new', 'custom_tee'], ['set', 'save'], ['chance', 'purchase_grad', 'regalia', 'online'], ['set', 'save'], ['ticket'], ['mix_mingle', 'land_dream', 'job'], ['new', 'custom_tee'], ['difference'], ['care'], ['discount', 'come'], ['set', 'save'], ['day'], ['late', 'register'], ['day'], ['set', 'save'], ['kid'], ['set', 'save'], [], ['discount', 'come'], ['honor', 'alumnus', 'innovator_entrepreneur'], ['founder', 'day'], ['register', 'celebration'], ['story'], ['ready', 'set', 'save'], ['invite', 'mountain'], ['find_ideal', 'career', 'civilian_workforce'], ['free', 'graduation', 'regalia'], ['kid'], ['register', 'celebration'], [], ['gift_change', 'life'], ['news', 'let', 'know'], ['announce', 'devil'], ['invite', 'leadership', 'program', 'info_session'], ['dig', 'kid'], ['ticket'], ['day'], ['ticket'], ['pick', 'free', 'regalia'], ['update'], [], ['thank', 'day'], ['announce', 'devil'], ['free', 'regalia'], ['share', 'thought', 'chance', 'win'], ['invite', 'leadership', 'program', 'info_session'], ['devil', 'update'], ['late', 'register'], ['announce', 'devil'], ['announce', 'devil'], [], [], ['invite', 'leadership', 'program', 'info_session'], ['alumnus', 'ticket'], ['sign'], [], ['join', 'area'], ['apology'], ['subject'], ['special', 'invitation'], ['digital', 'magazine'], ['graduate_reason', 'save'], ['graduate_reason', 'save'], ['reward', 'dd'], ['late', 'register'], ['chance', 'shirt'], ['graduate_reason', 'save'], ['share', 'thought', 'chance', 'win'], ['chance', 'miss'], ['late', 'register'], ['chance', 'miss'], ['special', 'invitation'], ['chance', 'shirt'], ['golf'], ['celebration', 'showcase', 'innovation'], ['golf'], ['special', 'invitation'], ['continue'], ['success'], ['celebration', 'showcase', 'innovation'], ['golf'], ['golf'], ['celebration', 'honor'], ['golf'], ['impression_region', 'tracking', 'test'], ['celebration', 'showcase', 'innovation'], ['continue'], ['continue'], ['learning', 'care', 'career'], ['spring_ceremony'], ['continue'], ['learning', 'care', 'career'], ['late', 'register'], ['continue'], ['continue'], ['late', 'register'], ['share', 'thought', 'chance', 'win'], ['continue'], ['continue', 'learn', 'care', 'career'], ['free', 'golf'], ['success'], ['continue'], ['humor_insight', 'creativity_find'], ['humor_insight', 'creativity_find'], ['humor_insight', 'creativity_find'], ['event'], ['pricing', 'extend', 'devil'], ['update', 'attend', 'mixer'], ['event'], ['reward', 'dd'], ['reward', 'dd'], ['lifelong_learn', 'pilot_program'], ['event'], ['share', 'thought', 'chance', 'win'], ['news'], ['event'], ['share', 'thought', 'chance', 'win'], ['thank'], ['event'], ['thought', 'chance', 'win'], ['priority_access'], ['lifelong_learn', 'pilot_program'], ['lifelong_learn', 'pilot_program'], ['priority_access'], [], [], ['lifelong_learn', 'pilot_program'], [], ['event'], ['news'], ['sign'], ['engineering_update', 'attend', 'mixer'], ['share', 'thought', 'chance', 'win'], ['early', 'pricing', 'extend', 'devil'], ['event'], ['share', 'thought', 'chance', 'win'], ['impression_region', 'tracking', 'test'], ['impression_region', 'tracking', 'test'], ['career', 'course'], ['impression_region', 'tracking', 'test'], [], [], [], [], [], ['alumnus', 'news'], ['reward', 'dd'], ['jump', 'event'], ['alumnus', 'news'], ['event'], ['alumnus', 'news'], ['alumnus', 'news'], ['skill', 'course'], ['alumnus', 'news'], ['success'], ['boost', 'career', 'wait'], ['great', 'success', 'course'], ['need', 'send', 'summer'], ['course', 'will_forever'], ['success', 'course'], ['need', 'send', 'summer'], ['great', 'success', 'course'], ['chance', 'devil'], ['mean_missed', 'opportunity'], ['need', 'send', 'summer'], ['need', 'send', 'summer'], [], ['career', 'course'], [], ['reward', 'dd'], ['priority_access'], ['skill', 'course'], ['career', 'course'], ['launch', 'career', 'course'], ['great', 'success', 'course'], ['hone', 'skill', 'course'], ['great', 'success', 'course'], ['course', 'will_forever'], ['course', 'boost', 'career', 'wait'], ['realize', 'great', 'success', 'course'], ['success', 'course'], ['secure', 'success', 'course'], ['career', 'course'], ['recap'], ['course', 'will_forever'], ['miss', 'mean_missed', 'opportunity'], ['skill', 'course'], ['set', 'success'], ['boost', 'career', 'wait'], ['great', 'success', 'course'], ['jump', 'event'], ['career', 'course'], ['event'], ['chapter', 'event'], ['golfing', 'event', 'support', 'scholarship'], [], ['devil'], ['event'], ['devil'], ['graduation'], ['need', 'send', 'summer'], ['news'], ['news'], ['host', 'need', 'send', 'summer'], ['chapter', 'event'], ['superpower'], ['chance', 'devil'], ['chapter', 'event'], ['devil'], ['superpower'], [], ['recap'], ['need', 'send', 'summer'], ['superpower'], ['news'], ['jump', 'event'], ['superpower'], ['superpower'], ['superpower'], ['host', 'need', 'send', 'summer'], ['chance', 'devil'], ['superpower'], ['news'], ['chapter', 'event'], ['steak', 'golf', 'mountain', 'support', 'scholarship'], ['special', 'day', 'grad', 'secret_word'], ['special', 'day', 'grad', 'secret_word'], ['reward', 'dd'], ['special', 'day', 'grad', 'secret_word'], ['special', 'day', 'grad', 'secret_word'], ['special', 'day', 'grad', 'secret_word'], ['earn', 'pitchfork_minute'], [], ['new', 'student', 'family'], ['new', 'student', 'family'], ['new', 'student', 'family'], ['new', 'student', 'family'], ['new', 'student', 'family'], ['new', 'student', 'family'], ['new', 'student', 'family'], ['new', 'student', 'family'], ['new', 'student', 'family'], ['new', 'student', 'family'], [], ['new', 'student', 'family'], [], ['event'], ['international', 'alumnus', 'breakfast'], ['welcome', 'new', 'student', 'family'], ['new', 'student', 'family'], ['chance', 'devil'], ['new', 'student', 'family'], [], ['news'], ['need', 'send', 'summer'], ['recap'], ['need', 'send', 'summer'], ['new', 'student', 'family'], ['jump', 'event'], ['international', 'alumnus', 'breakfast'], ['join', 'international', 'alumnus', 'breakfast'], ['graduate_policy', 'big', 'discount'], ['graduate_policy', 'big', 'discount'], ['international', 'alumnus', 'breakfast'], [], [], [], [], [], [], [], [], [], [], ['test'], [], [], ['test'], ['test'], [], [], [], [], [], [], [], [], [], [], [], ['happy_birthday'], [], [], [], [], ['co_creation', 'research'], ['meal', 'campus'], ['meal', 'campus'], ['happy_birthday'], ['happy_birthday'], ['happy_birthday'], ['service'], ['service', 'sorority'], [], ['special', 'interest', 'convocation'], ['test'], ['graduation', 'edition'], ['graduation', 'edition'], ['fall', 'highlight', 'edition'], [], [], ['team_make', 'wave_desert'], ['team_make', 'wave_desert'], ['graduation', 'edition'], ['heat'], [], [], [], [], ['join', 'microchippe_employee'], [], [], [], [], [], ['student', 'work', 'prevent', 'youth', 'suicide'], ['team_make', 'wave_desert'], ['team', 'advance', 'pitch', 'competition'], [], ['join', 'microchippe_employee'], [], [], ['correction', 'join', 'microchippe_employee'], [], ['heat'], ['correction', 'join', 'microchippe_employee'], [], ['invite'], [], [], [], [], [], ['grand', 'opening'], ['test', 'subject'], ['story', 'day'], [], ['change', 'gather', 'innovator'], ['student', 'raise', 'fund', 'scholarship'], ['celebrate'], [], [], ['wait'], [], [], [], [], [], ['participate_co', 'creation_research'], ['participate_co', 'creation_research'], ['happy_birthday'], [], ['happy_birthday'], ['happy_birthday'], [], ['dozen', 'marketing', 'dazzle'], ['woman', 'hero'], ['change'], [], [], [], [], [], [], [], [], [], [], [], [], [], ['team_make', 'wave_desert'], ['heat'], ['heat'], [], ['student', 'pay', 'forward'], [], [], [], [], [], [], [], [], [], ['change', 'gather', 'innovator'], ['outing'], ['involve'], ['event'], ['reward', 'dd'], ['happen', 'chapter'], ['update', 'meet', 'new', 'class'], ['test', 'subject'], ['test', 'subject'], ['student'], ['test', 'subject'], ['test', 'subject'], ['test', 'subject'], ['graduation', 'edition'], [], [], ['school'], [], ['test', 'subject'], ['happen', 'chapter'], ['graduate_policy', 'big', 'discount'], ['happen', 'chapter'], ['happen', 'chapter'], ['school'], ['happen', 'chapter'], ['happen', 'chapter'], ['great', 'success', 'thank'], ['happen', 'chapter'], [], ['legendary_champ'], [], ['register', 'outing'], ['invite', 'international', 'alumnus', 'networking', 'event'], ['engineering_update', 'meet', 'new', 'class'], ['involved'], ['happen', 'chapter'], ['event'], ['grad', 'exclusive', 'discount', 'product'], ['grad', 'exclusive', 'discount', 'product'], ['grad', 'exclusive', 'discount', 'product'], ['test'], ['grad', 'exclusive', 'discount', 'product'], ['headshot_resume', 'review_sale'], ['mixer', 'resume_review', 'alumnus', 'information', 'special', 'sale', 'product'], ['headshot_resume', 'review_sale'], ['reward', 'dd'], ['postgrad_life'], ['postgrad_life'], ['networking', 'headshot_resume', 'review_sale'], [], ['headshot_resume', 'review_sale'], ['headshot_resume', 'review_sale'], ['mean_missed', 'opportunity'], ['postgrad_life'], [], [], ['alumnus', 'news'], ['edition'], [], [], ['alumnus', 'news'], ['register', 'marketing', 'event', 'summer'], ['alumnus', 'news'], ['reward', 'dd'], ['welcome', 'postgrad_life'], ['miss'], ['dd'], ['welcome', 'postgrad_life'], ['miss'], [], ['register', 'marketing', 'event', 'summer'], ['mean_missed', 'opportunity'], ['dd'], ['alumnus', 'news'], ['alumnus', 'news'], [], ['dd'], ['alumnus', 'news'], ['mean_missed', 'opportunity'], ['golf'], ['mean_missed', 'opportunity'], ['register', 'marketing', 'event', 'summer'], ['alumnus', 'news'], ['alumnus', 'news'], ['alumnus', 'news'], ['mean_missed', 'opportunity'], ['invite'], ['mean_missed', 'opportunity'], ['mean_missed', 'opportunity'], ['mean_missed', 'opportunity'], ['miss', 'mean_missed', 'opportunity'], ['dd'], ['register', 'marketing', 'event', 'summer'], ['miss', 'mean_missed', 'opportunity'], ['register', 'marketing', 'event', 'summer'], ['register', 'marketing', 'event', 'summer'], ['register', 'marketing', 'event', 'summer'], ['dd'], ['register', 'marketing', 'event', 'summer'], ['register', 'marketing', 'event', 'summer'], ['dd'], ['register', 'marketing', 'event', 'summer'], ['dd'], ['test', 'school'], ['test', 'school'], ['alumnus', 'news'], ['reward', 'dd'], ['test'], ['alumnus', 'news'], ['summer', 'send', 'kid'], ['alumnus', 'news'], ['dd'], ['inspire', 'new', 'look_charter'], ['inspire', 'new', 'look_charter'], ['inspire', 'new', 'look_charter'], ['inspire', 'new', 'look_charter'], [], ['school'], ['inspire', 'new', 'look_charter'], ['inspire', 'new', 'look_charter'], ['inspire', 'new', 'look_charter'], ['inspire', 'new', 'look_charter'], ['inspire', 'new', 'look_charter'], ['inspire', 'new', 'look_charter'], ['inspire', 'new', 'look_charter'], ['inspire', 'new', 'look_charter'], ['dd'], ['feel', 'inspire', 'new', 'look_charter'], ['inspire', 'new', 'look_charter'], ['feel', 'inspire', 'new', 'look_charter'], [], [], [], [], [], ['ultimate', 'experience_ish', 'th'], ['share', 'thought', 'chance', 'win'], ['dd'], [], [], ['share', 'thought', 'chance', 'win'], ['worth', 'event', 'alumnus'], [], ['come'], [], [], [], ['share', 'thought', 'chance', 'win'], ['come', 'chapter'], [], ['come', 'chapter'], [], [], ['worth', 'event', 'alumnus'], ['share', 'thought', 'chance', 'win'], ['ultimate', 'experience_ish', 'th'], [], [], ['dd'], ['dd'], ['dd'], ['share', 'thought', 'chance', 'win'], ['alum', 'exclusive', 'access', 'day', 'sale', 'product'], ['alum', 'exclusive', 'discount', 'product'], ['alum', 'exclusive', 'access', 'day', 'sale', 'product'], ['worry'], ['dd'], ['spot', 'innovation', 'road'], ['alum', 'exclusive', 'discount', 'product'], ['support', 'foster', 'youth', 'success'], ['reward', 'dd'], ['alum', 'exclusive', 'access', 'day', 'sale', 'product'], ['alum', 'exclusive', 'discount', 'product'], ['spot', 'innovation', 'road'], ['win', 'trip'], [], ['test'], ['spot', 'innovation', 'road'], ['test'], ['win', 'trip'], ['save', 'worry'], ['win', 'trip'], ['dd'], ['share', 'thought', 'chance', 'win'], ['invite', 'special', 'celebration'], ['test'], [], ['invite', 'special', 'celebration'], ['invite', 'special', 'celebration'], ['invite', 'special', 'celebration'], ['dd'], ['reminder', 'share', 'thought', 'chance', 'win'], ['invite', 'special', 'celebration'], ['invite', 'special', 'celebration'], ['invite', 'special', 'celebration'], ['invite', 'special', 'celebration'], ['invite', 'special', 'celebration'], ['invite', 'special', 'celebration'], ['invite', 'special', 'celebration'], [], ['alum', 'exclusive', 'access', 'day', 'sale', 'product'], ['invite', 'special', 'celebration'], [], ['invite', 'special', 'celebration'], [], ['dd'], ['reminder'], [], ['invite', 'special', 'celebration'], [], ['receipt', 'level_donation'], [], [], [], [], ['invite', 'special', 'celebration'], ['grad'], ['send', 'new', 'batch', 'devil', 'style'], ['send', 'new', 'batch', 'devil', 'style'], ['grad'], [], [], [], ['send', 'new', 'batch', 'devil', 'style'], [], ['dd'], ['reminder', 'share', 'thought', 'chance', 'win'], ['dd'], ['dd'], ['reward', 'dd'], ['dd'], ['dd'], [], ['exclusive', 'offer', 'grad'], ['dd'], [], [], ['devil', 'stockyard'], [], [], ['summer', 'event'], ['update', 'meet', 'new', 'class'], ['summer', 'event'], ['devil', 'stockyard'], ['summer', 'event'], ['chapter'], ['love'], ['chapter'], ['love'], [], [], ['join', 'business', 'brew'], [], ['dd'], ['summer', 'event'], ['join', 'business', 'brew'], ['brotherly', 'love'], ['engineering_update', 'help', 'welcome', 'class'], [], ['join'], ['stockyard'], ['come', 'chapter'], ['join', 'business', 'brew'], [], ['access'], ['summer', 'event'], [], ['chapter'], [], [], [], [], ['dd'], ['join', 'business', 'brew'], ['join', 'business', 'brew'], [], ['dd'], ['dd'], [], ['dd'], ['register', 'marketing', 'event', 'summer'], ['reward', 'dd'], [], ['join', 'business', 'brew'], ['join', 'business', 'brew'], ['join'], ['reminder'], [], ['win'], ['announce', 'summer', 'camp_agenda'], ['announce', 'summer', 'camp_agenda'], ['announce', 'summer', 'camp_agenda'], ['announce', 'summer', 'camp_agenda'], ['announce', 'summer', 'camp_agenda'], ['announce', 'summer', 'camp_agenda'], ['miss', 'summer', 'camp', 'keynote_speaker'], ['dd'], ['miss', 'summer', 'camp', 'keynote_speaker'], ['miss', 'summer', 'camp', 'keynote_speaker'], ['announce', 'summer', 'camp_agenda'], ['summer', 'event'], ['devil', 'stockyard'], ['come', 'chapter'], [], ['update', 'help', 'welcome', 'class'], ['love'], ['headshot_resume', 'review_sale'], ['alumnus', 'news'], [], ['new', 'student', 'family'], [], ['worth', 'event', 'alumnus'], [], [], [], [], ['ultimate', 'experience_ish', 'th'], [], [], [], [], [], [], [], ['chapter'], ['alumnus', 'news'], ['worry'], ['dd'], ['dd'], ['alumnus', 'news'], ['alumnus', 'news'], ['alumnus', 'news'], ['alumnus', 'news'], ['dd'], ['alumnus', 'news'], ['alumnus', 'news'], ['success', 'course'], ['boost', 'career', 'wait'], ['share', 'thought', 'chance', 'win'], ['mean_missed', 'opportunity'], ['mean_missed', 'opportunity'], ['continue'], ['mean_missed', 'opportunity'], ['great', 'success', 'course'], ['success'], ['career', 'course'], ['course', 'will_forever'], ['skill', 'course'], ['learning', 'care', 'career'], ['continue'], ['alumnus', 'news'], ['dd'], ['dd'], ['dd'], ['reward', 'dd'], ['reward', 'dd'], ['reward', 'dd'], [], [], ['share', 'thought', 'chance', 'win'], ['wait', 'send'], ['share', 'thought', 'chance', 'win'], [], ['sell'], ['th'], ['spring', 'engineering', 'opportunity'], ['th'], [], ['update', 'join', 'early_spring', 'event'], ['dd'], ['basketball_player', 'head_wine', 'care', 'support', 'scholarship'], [], ['chapter', 'event'], [], [], ['chapter', 'activity'], ['watching'], ['care', 'month', 'care'], ['care'], [], ['chapter'], [], ['news'], ['share', 'thought', 'chance', 'win'], ['chapter'], ['wait', 'send'], [], [], [], ['wait', 'send'], [], [], ['sell'], ['sell'], [], [], ['wait', 'send'], [], ['come', 'chapter'], [], ['dd'], ['wait', 'send'], ['wait', 'send'], [], [], ['share', 'thought', 'chance', 'win'], [], ['dd'], [], ['dd'], ['dd'], ['dd'], ['announce', 'summer', 'camp_agenda'], ['dd'], ['update', 'help', 'welcome', 'class'], [], ['reward', 'dd'], ['update', 'help', 'welcome', 'class'], ['reminder', 'share', 'thought', 'chance', 'win'], ['alumnus', 'news'], ['news'], [], ['want', 'feedback'], [], ['join'], ['want', 'feedback'], ['join'], [], [], ['announce', 'star', 'speak', 'event'], ['dd'], [], [], [], [], [], [], ['dd'], ['peek_throwback', 'tee'], ['peek_throwback', 'tee'], ['peek_throwback', 'tee'], ['share', 'experience', 'incoming_freshman', 'area'], [], [], ['dd'], ['reminder', 'share', 'thought', 'chance', 'win'], ['want', 'feedback'], ['share', 'experience', 'incoming_freshman', 'area'], ['share', 'experience', 'incoming_freshman', 'area'], ['reminder', 'share', 'thought', 'chance', 'win'], ['dd'], ['lifelong_learn', 'pilot_program'], ['lifelong_learn', 'pilot_program'], ['lifelong_learn', 'pilot_program'], ['lifelong_learn', 'pilot_program'], ['lifelong_learn', 'pilot_program'], ['share', 'thought', 'chance', 'win', 'gift_card'], ['share', 'thought', 'chance', 'win', 'gift_card'], ['share', 'thought', 'chance', 'win', 'gift_card'], ['dd'], ['dd'], ['dd'], ['reward', 'dd'], ['reminder', 'share', 'thought', 'chance', 'win'], ['dd'], ['register'], ['fun'], ['downtown'], ['painting', 'twist', 'event'], ['share', 'thought', 'chance', 'win', 'gift_card'], ['downtown'], ['mentor'], ['graduate_reason', 'save'], ['fun'], ['fun'], ['register'], ['register'], ['register'], ['fun'], ['dd'], ['register'], ['provide', 'website', 'feedback', 'gift_card'], ['register'], ['graduate_reason', 'save'], ['register'], ['register'], ['register'], ['register'], ['dd'], ['register'], ['announce', 'new', 'work', 'partner'], ['official', 'app', 'marketing', 'summer', 'camp'], ['register'], ['dd'], ['official', 'app', 'marketing', 'summer', 'camp'], ['summer', 'fun'], ['come', 'chapter'], ['register', 'painting', 'twist', 'event'], ['call', 'mentor'], ['downtown'], ['mentor'], ['earn_provide', 'feedback_website'], ['dd'], ['dd'], ['dd'], [], ['reward', 'dd'], ['dd'], ['weekly', 'dd'], ['template'], ['marketing', 'summer', 'camp_checklist'], ['dd'], ['marketing', 'summer', 'camp_checklist'], ['template'], ['alumnus', 'template'], [], ['marketing', 'summer', 'camp_checklist'], ['marketing', 'summer', 'camp_checklist'], ['alumnus', 'news'], ['dd'], ['alumnus', 'news'], ['alumnus', 'news'], ['test', 'class', 'number'], ['alumnus', 'news'], ['dd'], ['dd'], ['dd'], ['dd'], ['register'], ['th'], ['reward', 'dd'], ['dd'], [], ['weekly', 'dd'], ['summer', 'camp', 'experience'], ['volunteering', 'event'], ['meeting'], ['send'], ['algorithm', 'inspire', 'exoplanet', 'search'], ['news'], ['chapter'], ['reminder', 'register'], ['story', 'day'], ['reminder', 'register'], ['day', 'football', 'season'], ['meeting'], ['lifelong_learn', 'pilot_program'], ['send'], ['summer', 'camp', 'experience'], ['lifelong_learner'], ['th'], ['send'], ['miss', 'join'], ['dd'], ['summer', 'camp', 'experience'], ['want', 'lifelong_learn', 'pilot_program'], ['news'], ['send'], ['news'], ['dd'], [], ['day', 'football', 'season'], ['send'], ['send'], ['chapter'], ['news'], ['send'], ['come', 'chapter'], ['news'], ['day', 'football', 'season'], ['chapter'], ['th'], ['chapter'], ['dd'], ['join'], ['upcoming', 'meeting'], ['invite', 'enjoy_delicious', 'brunch'], ['dd'], ['dd'], ['dd'], ['reward', 'dd'], ['invite', 'enjoy_delicious', 'brunch'], ['miss', 'chance', 'lifelong', 'learning', 'program'], ['invite', 'enjoy_delicious', 'brunch'], ['invite', 'enjoy_delicious', 'brunch'], ['weekly', 'dd'], ['invite', 'enjoy_delicious', 'brunch'], ['dd'], ['miss', 'chance', 'lifelong', 'learning', 'program'], ['want', 'late_info'], ['dd'], ['follow'], ['way'], ['dd'], [], [], [], [], [], [], [], [], [], ['dd'], ['invite'], ['invite'], ['lifelong_learner', 'pilot', 'group'], ['invite'], ['pilot', 'power'], ['getaway'], ['dd'], ['register', 'innovation'], ['lifelong_learner', 'pilot', 'group'], ['dd'], ['register', 'innovation'], ['thank', 'register', 'innovation'], ['dd'], ['help', 'bridge', 'gap', 'civilian', 'soldier'], ['weekly', 'dd'], ['dd'], ['reward', 'dd'], [], [], ['volunteering', 'event'], ['welcome', 'pilot', 'power'], ['th'], ['want', 'late_info'], ['want', 'late_info'], ['week', 'kick'], ['want', 'late_info'], [], ['th'], ['week', 'kick'], ['volunteering', 'event'], [], ['help_log', 'lifelong_learner', 'platform'], ['event', 'come'], ['event', 'come'], ['save_hundred'], ['dd'], ['help_log', 'lifelong_learner', 'platform'], [], [], [], [], ['help_log', 'lifelong_learner', 'platform'], ['help_log', 'lifelong_learner', 'platform'], [], ['save_hundred'], [], ['dd'], ['test', 'school', 'new', 'fall', 'alumnus', 'advantage'], [], ['week', 'kick'], [], [], [], ['nee', 'help_log', 'lifelong_learner', 'platform'], ['reminder', 'share', 'thought', 'innovation'], ['event', 'come'], ['welcome', 'pilot', 'power'], ['dd'], ['come'], ['school', 'new', 'fall', 'alumnus', 'advantage'], ['event', 'come'], [], ['come'], [], ['come'], ['test', 'school', 'new', 'fall', 'alumnus', 'advantage'], ['event', 'come'], ['come'], ['test', 'school', 'new', 'fall', 'alumnus', 'advantage'], ['come'], ['week', 'kick'], ['th'], ['annual', 'event'], ['join'], [], ['dd'], ['devil', 'come'], ['reminder', 'opt', 'info'], ['chance', 'share', 'thought', 'innovation'], ['dd'], ['dd'], ['reminder', 'time', 'log'], ['dd'], ['reward', 'dd'], ['weekly', 'dd'], ['test'], ['test'], ['test'], ['test'], ['test'], ['test'], ['test'], ['dd'], ['devilishly_close', 'kick'], ['devilishly_close', 'kick'], ['devilishly_close', 'kick'], ['online', 'calendar'], ['online', 'calendar'], ['dd'], ['devilishly_close', 'kick'], ['class'], ['dd'], ['devilishly_close', 'kick'], ['welcome', 'postgrad_life'], ['want', 'inside', 'info', 'party', 'season'], ['free', 'celebration', 'await'], ['want', 'inside', 'info', 'party', 'season'], ['devilishly_close', 'kick'], ['welcome', 'pilot', 'power'], ['chance', 'sign', 'info'], ['dd'], ['dd'], ['weekly', 'dd'], ['dd'], ['share', 'thought', 'chance', 'win'], ['dd'], ['dd'], ['reward', 'dd'], ['reminder', 'opt', 'receive', 'information', 'watch', 'party'], ['credit_learning'], ['credit_learning'], ['want', 'inside', 'info', 'party', 'season'], ['credit_learning'], ['credit_learning'], ['want', 'inside', 'info', 'party', 'season'], ['credit_learning'], ['join', 'local', 'alumnus', 'chapter'], ['want', 'inside', 'info', 'party', 'season'], ['class'], ['takeaway_picture', 'galore'], ['reward', 'dd'], ['dd'], ['takeaway_picture', 'galore'], ['dd'], ['dd'], ['football', 'giveaway'], ['takeaway_picture', 'galore'], ['takeaway_picture', 'galore'], ['football', 'giveaway'], ['football', 'giveaway'], ['dd'], ['takeaway_picture', 'galore'], ['dd'], ['dd'], ['takeaway_picture', 'galore'], ['football', 'giveaway'], ['weekly', 'dd'], ['tool', 'takeaway_picture', 'galore'], ['share', 'thought', 'chance', 'win'], ['football', 'giveaway'], ['takeaway_picture', 'galore'], ['takeaway_picture', 'galore'], [], ['alumnus', 'news'], ['alumnus', 'news'], [], ['alumnus', 'news'], [], ['alumnus', 'news'], ['alumnus', 'news'], ['party'], ['alumnus', 'news'], [], [], [], [], [], [], ['robotic', 'team', 'place', 'country'], ['student', 'service'], ['student', 'service'], ['experience_money', 'buy'], ['fun_fitness'], ['dd'], ['dd'], ['fun_fitness'], ['innovation', 'year', 'run'], ['fun_fitness'], ['dd'], ['dd'], ['fun_fitness'], ['fun_fitness'], ['experience_money', 'buy'], ['dd'], ['experience_money', 'buy'], ['fun_fitness'], ['dd'], ['innovation', 'year', 'run'], ['weekly', 'dd'], ['dd'], ['innovation', 'year', 'run'], ['innovation', 'year', 'run'], ['innovation', 'year', 'run'], ['reward', 'dd'], ['fun_fitness'], ['innovation', 'year', 'run'], ['innovation', 'year', 'run'], ['dd'], ['experience_money', 'buy'], ['dd'], ['dd'], ['experience_money', 'buy'], ['share', 'thought', 'chance', 'win'], ['innovation', 'year', 'run'], ['chapter', 'event'], ['party'], ['require', 'let', 'know', 'think', 'platform'], [], ['rank', 'innovation', 'fifth', 'straight', 'year'], ['devil', 'come'], ['rank', 'innovation', 'fifth', 'straight', 'year'], ['party'], ['test'], [], [], ['test'], ['will_want', 'miss', 'networking', 'career', 'development', 'event', 'year'], ['join'], ['test'], [], ['test'], [], ['save', 'date'], ['opt', 'receive', 'information', 'watch', 'party'], ['join', 'upcome', 'event'], ['test'], ['test'], ['signature', 'event'], ['test'], ['ticket', 'success'], ['require', 'let', 'know', 'think', 'platform'], ['ticket', 'success'], ['party'], ['ticket', 'success'], ['party'], [], ['give_priority'], ['student', 'service'], ['dd'], ['dd'], ['weekly', 'dd'], ['reward', 'dd'], ['dd'], ['dd'], ['revise', 'time', 'will_want', 'miss', 'big', 'career', 'fair'], ['graduate_reason', 'save'], ['dd'], ['dd'], [], [], ['give_priority'], ['dd'], ['dd'], ['dd'], ['dd'], ['tailgate'], [], [], ['lead', 'hackathon'], ['dd'], ['dd'], ['reward', 'dd'], ['dd'], ['weekly', 'dd'], ['escape'], ['dd'], ['escape'], ['escape'], [], ['dd'], ['dd'], ['dd'], ['sweepstake', 'come', 'way'], ['tool'], ['tool'], ['tool'], ['register', 'hand_brainstorm'], ['dd'], ['weekly', 'dd'], ['register', 'hand_brainstorm'], ['register', 'hand_brainstorm'], ['register', 'hand_brainstorm'], ['register', 'hand_brainstorm'], ['register', 'hand_brainstorm'], ['tool'], ['reward', 'dd'], ['register', 'hand_brainstorm'], ['tool'], ['online_video', 'article', 'innovation'], [], [], [], [], [], ['reminder', 'give_priority'], ['success'], ['dd'], ['sweepstake', 'come', 'way'], ['dd'], ['sweepstake', 'come', 'way'], ['sweepstake', 'come', 'way'], [], ['online_video', 'article', 'innovation'], ['online_video', 'article', 'innovation'], ['online_video', 'article', 'innovation'], ['student', 'resource'], ['dd'], ['register', 'hand_brainstorm'], ['organization', 'parent', 'student'], ['dd'], ['reward', 'dd'], ['weekly', 'dd'], ['dd'], ['history'], ['dd'], ['dd'], ['subject', 'line'], [], [], [], [], [], [], ['special', 'workshop', 'secret_word'], ['dd'], ['dd'], [], [], [], [], [], [], [], [], [], [], [], [], [], [], [], [], [], [], [], [], [], [], [], [], [], [], [], ['invite'], [], [], [], [], [], ['political_make'], ['student', 'resource'], [], ['student', 'resource'], ['connected'], ['weekly', 'dd'], ['register', 'brainstorm'], ['dd'], ['dd'], ['register', 'brainstorm'], ['dd'], ['dd'], ['dd'], ['register', 'hand_brainstorm'], ['reward', 'dd'], ['dd'], ['reward', 'dd'], ['register', 'hand_brainstorm'], ['dd'], ['register', 'brainstorm'], ['week', 'leave', 'enter', 'homecoming'], ['weekly', 'dd'], ['share', 'thought', 'chance', 'win'], ['share', 'thought', 'chance', 'win'], ['register', 'hand_brainstorm'], ['register', 'brainstorm'], ['dd'], ['dd'], ['dd'], ['dd'], ['register', 'brainstorm'], ['register', 'hand_brainstorm'], ['dd'], ['dd'], ['dd'], ['register', 'brainstorm'], ['lead', 'menstrual', 'equity', 'project'], ['dd'], ['political_make'], ['dd'], ['invite'], [], ['student', 'encourage', 'youth', 'college'], ['student', 'encourage', 'youth', 'college'], ['political_make'], ['dd'], ['dd'], ['dd'], ['share', 'thought', 'chance', 'win'], ['weekly', 'dd'], ['dd'], ['reward', 'dd'], ['reward', 'dd'], ['dd'], ['dd'], ['dd'], ['dd'], ['dd'], ['dd'], ['weekly', 'dd'], ['learning', 'care', 'career'], ['service'], ['service'], ['service'], ['service'], ['learning', 'care', 'career'], ['learning', 'care', 'career'], ['career', 'level'], ['service'], ['learning', 'care', 'career'], ['learning', 'care', 'career'], ['feedback', 'important'], ['dd'], ['feedback', 'important'], ['feedback', 'important'], ['feedback', 'important'], ['dd'], ['earn_provide', 'feedback_website'], ['reward', 'dd'], ['dd'], ['earn_provide', 'feedback_website'], ['dd'], ['dd'], ['dd'], ['share', 'thought', 'chance', 'win'], ['dd'], ['reward', 'dd'], ['weekly', 'dd'], ['share', 'thought', 'chance', 'win'], [], ['event'], ['event'], ['event'], ['opportunity'], ['event'], ['event'], [], [], ['earn_provide', 'feedback_website'], ['dd'], ['dd'], ['reminder', 'feedback', 'important'], ['dd'], [], ['dd'], ['final', 'football', 'sweep', 'season'], ['final', 'football', 'sweep', 'season'], ['dd'], ['dd'], ['leverage', 'come', 'communication_channel', 'reach_audience'], ['dd'], ['weekly', 'dd'], ['leverage', 'come', 'communication_channel', 'reach_audience'], ['reward', 'dd'], ['leverage', 'come', 'communication_channel', 'reach_audience'], ['leverage', 'come', 'communication_channel', 'reach_audience'], ['dd'], ['leverage', 'come', 'communication_channel', 'reach_audience'], ['congratulation', 'st_scholarship', 'recipient'], ['reminder', 'share', 'thought', 'chance', 'win'], ['dd'], ['reminder', 'share', 'thought', 'chance', 'win'], ['dd'], ['student', 'club', 'deaf'], ['alpha', 'omega', 'sorority', 'native', 'woman'], ['student', 'club', 'deaf'], ['dd'], ['dd'], ['dd'], ['sure_eligible', 'receive', 'reward'], [], ['sure_eligible', 'receive', 'reward'], ['sure_eligible', 'receive', 'reward'], [], ['sure_eligible', 'receive', 'reward'], ['weekly', 'dd'], ['sure_eligible', 'receive', 'reward'], ['reward', 'dd'], ['sure_eligible', 'receive', 'reward'], ['dd'], ['sure_eligible', 'receive', 'reward'], ['sure_eligible', 'receive', 'reward'], ['sure_eligible', 'receive', 'reward'], ['sure_eligible', 'receive', 'reward'], ['sure_eligible', 'receive', 'reward'], ['dd'], ['unforgettable'], ['dd'], ['dd'], ['dd'], ['dd'], ['dd'], ['dd'], ['weekly', 'dd'], ['reward', 'dd'], ['pitchfork', 'fast'], ['congratulation', 'st_scholarship', 'recipient'], ['dd'], ['pitchfork', 'fast'], [], [], ['dd'], ['dd'], ['story', 'ignite', 'change'], ['dd'], ['dd'], ['dd'], [], [], [], [], [], [], [], [], [], [], ['dd'], ['dd'], ['special', 'day', 'grad', 'secret_word'], ['dd'], ['special', 'day', 'grad', 'secret_word'], ['dd'], ['weekly', 'dd'], ['reward', 'dd'], ['special', 'day', 'grad', 'secret_word'], [], [], [], [], ['dd'], ['dd'], ['dd'], [], [], [], ['dd'], ['dd'], [], [], [], ['fall', 'graduation', 'edition'], ['dd'], ['dd'], ['special', 'day', 'grad', 'secret_word'], ['get', 'template'], ['dd'], ['dd'], ['dd'], ['dd'], ['dd'], ['dd'], ['dd'], ['chance', 'consider', 'donate', 'holiday', 'season'], ['chance', 'consider', 'donate', 'holiday', 'season'], ['fall', 'edition'], ['dd'], ['dd'], ['dd'], ['dd'], ['dd'], ['dd'], [], [], [], [], ['survey', 'chance', 'win'], ['dd'], ['dd'], ['ready', 'fun_fill', 'adventure'], ['ready', 'fun_fill', 'adventure'], ['ready', 'fun_fill', 'adventure'], ['reward', 'dd'], ['dd'], ['dd'], ['dd'], ['dd'], ['visionary', 'leadership', 'strategy'], ['dd'], ['ready', 'fun_fill', 'adventure'], ['visionary', 'leadership', 'strategy'], ['support'], ['dd'], ['final', 'support'], ['dd'], ['dd'], ['reward', 'dd'], ['weekly', 'dd'], ['dd'], [], ['dd'], ['launch', 'project'], ['reminder', 'share', 'thought', 'chance', 'win'], ['reminder', 'share', 'thought', 'chance', 'win'], ['dd'], ['dd'], ['meet', 'international_athlete', 'womens', 'basketball'], ['dd'], ['dd'], ['dd'], ['dd'], ['reward', 'dd'], ['weekly', 'dd'], ['dd'], ['dd'], ['newsletter'], [], [], ['reminder', 'share', 'thought', 'chance', 'win'], ['new'], ['new'], ['new'], ['dd'], ['dd'], ['new'], ['new'], ['new'], ['new'], ['reminder', 'share', 'thought', 'chance', 'win'], ['new'], ['dd'], ['dd'], ['newsletter'], [], [], [], [], [], ['meet', 'international_athlete', 'womens', 'basketball'], ['dd'], ['weekly', 'dd'], ['reward', 'dd'], ['congratulation', 'st_scholarship', 'recipient'], ['reminder', 'share', 'thought', 'chance', 'win'], ['dd'], ['remember', 'advocate', 'student'], ['dd'], ['free', 'celebration', 'await'], [], [], [], [], ['basketball', 'international_athlete'], ['basketball', 'international_athlete'], ['dd'], ['case', 'miss', 'new'], ['dd'], ['dd'], ['dd']]\n",
            "['reward', 'summer', 'flash_sale_inside', 'secret_word']\n"
          ],
          "name": "stdout"
        }
      ]
    },
    {
      "cell_type": "code",
      "metadata": {
        "id": "GYe607GanYmZ",
        "colab_type": "code",
        "colab": {}
      },
      "source": [
        "#remove extra stop words from the bigrams, trigrams and lemmetization\n",
        "\n",
        "\n",
        "def remove_stopwords(texts):\n",
        "  return [[word for word in gensim.utils.simple_preprocess(str(doc))if word not in stop_words]for doc in texts]\n",
        "\n",
        "def make_bigrams(texts):\n",
        "  return [bigram_list[doc] for doc in texts]\n",
        "\n",
        "def make_trigrams(texts):\n",
        "  yield ([trigram_list[doc] for doc in texts])\n",
        "\n"
      ],
      "execution_count": 0,
      "outputs": []
    },
    {
      "cell_type": "code",
      "metadata": {
        "id": "56I7AJJiocC0",
        "colab_type": "code",
        "outputId": "dd1c3c12-6141-4da7-b874-24f284b3560c",
        "colab": {
          "base_uri": "https://localhost:8080/",
          "height": 54
        }
      },
      "source": [
        "#function call for removal of additional stop_words and making bi-grams\n",
        "\n",
        "data_words = remove_stopwords(data_words)\n",
        "\n",
        "print(data_words)\n",
        "\n",
        "data_words_final = make_bigrams(data_words)"
      ],
      "execution_count": 0,
      "outputs": [
        {
          "output_type": "stream",
          "text": [
            "[['reward', 'summer', 'flash', 'sale', 'inside', 'secret', 'word'], ['save', 'auto', 'insurance'], [], ['share', 'thought', 'chance', 'win'], ['thought', 'chance', 'win'], ['highlight', 'web', 'communication', 'camp'], ['highlight', 'web', 'communication', 'camp'], ['highlight', 'web', 'communication', 'camp'], ['highlight', 'web', 'communication', 'camp'], ['highlight', 'web', 'communication', 'camp'], ['highlight', 'web', 'communication', 'camp'], ['save', 'hundred'], [], ['ready', 'tailgate'], ['ready', 'tailgate'], ['ready', 'tailgate'], ['ready', 'tailgate'], ['boat', 'football', 'information'], ['professional', 'development', 'opportunity'], ['professional', 'development', 'opportunity'], ['invite', 'enjoy', 'delicious', 'brunch'], ['invite', 'enjoy', 'delicious', 'brunch'], ['invite', 'enjoy', 'delicious', 'brunch'], [], ['professional', 'development', 'opportunity'], ['professional', 'development', 'opportunity'], ['special', 'offer', 'celebrate', 'graduation'], ['invite', 'enjoy', 'delicious', 'brunch'], ['update', 'involve', 'fall'], ['update', 'involve', 'fall'], [], ['invite', 'enjoy', 'delicious', 'brunch'], [], ['soon', 'plan', 'homecoming', 'brunch'], ['soon', 'plan', 'homecoming', 'brunch'], ['invite', 'enjoy', 'delicious', 'brunch'], ['invite', 'enjoy', 'delicious', 'brunch'], ['good', 'football', 'pregame', 'party'], ['tailgate', 'time', 'bust'], ['tailgate', 'time', 'bust'], ['back'], ['tailgate', 'time', 'bust'], ['tailgate', 'time', 'bust'], ['ready', 'score', 'great', 'memorabilia'], ['ready', 'score', 'great', 'memorabilia'], ['ready', 'score', 'great', 'memorabilia'], ['tailgate', 'time', 'bust'], [], ['back'], ['ready', 'score', 'great', 'memorabilia'], ['ready', 'score', 'great', 'memorabilia'], ['ready', 'score', 'great', 'memorabilia'], ['ready', 'score', 'great', 'memorabilia'], ['set', 'set', 'set'], ['big', 'idea', 'worth'], ['ready', 'score', 'great', 'memorabilia'], ['ready', 'score', 'great', 'memorabilia'], ['set', 'set', 'set'], ['invite', 'enjoy', 'delicious', 'brunch'], ['invite', 'enjoy', 'delicious', 'brunch'], ['sincere', 'thank', 'reminder'], ['sincere', 'thank', 'reminder'], ['let', 'beat'], [], ['train'], [], ['update', 'mentor', 'year', 'freshman'], ['chapter'], [], [], ['devil', 'ready', 'boot', 'buff'], ['news'], ['train'], ['news'], [], [], [], [], ['event'], ['free', 'ticket'], [], [], ['free', 'ticket'], ['free', 'ticket'], [], ['free', 'ticket'], [], ['free', 'ticket'], ['free', 'ticket', 'campus'], ['day'], ['answer', 'alumnus', 'question', 'travel'], ['answer', 'alumnus', 'question', 'travel'], ['answer', 'alumnus', 'question', 'travel'], [], ['event'], ['event'], [], [], [], ['engineering', 'update', 'discover', 'entrepreneurial', 'mindset', 'sign', 'kid', 'summer', 'camp'], [], [], ['register'], ['register'], ['answer', 'alumnus', 'question', 'travel'], [], [], [], [], [], ['answer', 'alumnus', 'question', 'travel'], ['answer', 'alumnus', 'question', 'travel'], ['event'], ['event'], ['academic', 'accomplishment'], ['academic', 'accomplishment'], [], [], ['school'], ['school'], ['academic', 'accomplishment'], [], ['alum', 'ticket'], ['alumnus', 'news'], ['exclusive', 'offer', 'grad'], ['alumnus', 'website'], ['special', 'offer', 'celebrate', 'graduation'], ['postgrad', 'life'], ['earn', 'provide', 'feedback', 'website'], ['invitation'], ['invitation'], ['invitation'], ['alumnus', 'news'], ['special', 'offer', 'celebrate', 'graduation'], ['earn', 'provide', 'feedback', 'website'], ['special', 'offer', 'celebrate', 'graduation'], ['special', 'offer', 'celebrate', 'graduation'], ['special', 'offer', 'celebrate', 'graduation'], ['special', 'offer', 'celebrate', 'graduation'], ['special', 'offer', 'celebrate', 'graduation'], ['come'], [], [], ['share', 'thought', 'chance', 'win'], [], ['reward', 'summer', 'flash', 'sale', 'inside', 'secret', 'word'], ['reward', 'summer', 'flash', 'sale', 'inside', 'secret', 'word'], ['reward', 'summer', 'flash', 'sale', 'inside', 'secret', 'word'], ['save', 'hundred'], ['special', 'offer', 'celebrate', 'graduation'], ['special', 'offer', 'celebrate', 'graduation'], ['thought', 'chance', 'win'], ['highlight', 'web', 'communication', 'camp'], ['highlight', 'web', 'communication', 'camp'], ['highlight', 'web', 'communication', 'camp'], ['highlight', 'web', 'communication', 'camp'], [], [], ['special', 'offer', 'celebrate', 'graduation'], ['special', 'offer', 'celebrate', 'graduation'], ['invite', 'enjoy', 'delicious', 'brunch'], ['special', 'offer', 'celebrate', 'graduation'], [], ['invite', 'enjoy', 'delicious', 'brunch'], [], ['boat', 'football', 'information'], ['boat', 'football', 'information'], ['soon', 'plan', 'homecoming', 'brunch'], ['invite', 'enjoy', 'delicious', 'brunch'], ['back', 'fight'], ['back'], ['set', 'set', 'set'], ['set', 'set', 'set'], ['set', 'set', 'set'], ['tailgate', 'time', 'bust'], ['tailgate', 'time', 'bust'], ['ready', 'score', 'great', 'memorabilia'], ['ready', 'score', 'great', 'memorabilia'], ['ready', 'score', 'great', 'memorabilia'], ['ready', 'score', 'great', 'memorabilia'], ['save', 'hundred'], ['tailgate', 'time', 'bust'], ['ready', 'score', 'great', 'memorabilia'], ['big', 'idea', 'worth'], ['tailgate', 'time', 'bust'], [], ['sincere', 'thank', 'reminder'], ['let', 'beat'], [], ['news', 'legacy', 'available', 'ask', 'tour', 'travel'], ['news', 'legacy', 'available', 'ask', 'tour', 'travel'], ['chapter'], ['news', 'legacy', 'available', 'ask', 'tour', 'travel'], ['basketball', 'game'], ['alumnus', 'news', 'legacy', 'available', 'ask', 'tour', 'travel'], ['alumnus', 'news', 'legacy', 'available', 'ask', 'tour', 'travel'], ['basketball', 'game'], ['basketball', 'game'], [], [], ['free', 'ticket'], ['free', 'ticket'], [], [], ['join', 'basketball', 'game'], ['join', 'basketball', 'game'], [], [], [], ['free', 'ticket'], ['free', 'ticket'], [], ['free', 'ticket', 'campus'], [], ['upcoming', 'event'], [], [], [], ['answer', 'alumnus', 'question', 'travel'], ['day'], ['answer', 'alumnus', 'question', 'travel'], [], ['event'], ['upcoming', 'event'], ['learn', 'upcoming', 'event'], ['answer', 'alumnus', 'question', 'travel'], [], [], [], [], [], [], ['answer', 'alumnus', 'question', 'travel'], ['answer', 'alumnus', 'question', 'travel'], ['answer', 'alumnus', 'question', 'travel'], ['answer', 'alumnus', 'question', 'travel'], ['learn', 'upcoming', 'event'], [], ['answer', 'alumnus', 'question', 'travel'], ['event'], ['update', 'welcome', 'incoming', 'president', 'new', 'online'], ['update', 'welcome', 'incoming', 'president', 'new', 'online'], [], ['incoming', 'student', 'want', 'hear'], ['event'], ['event'], ['chapter', 'event'], [], ['alumnus', 'news'], ['earn', 'provide', 'feedback', 'website'], ['invitation'], ['share', 'thought', 'chance', 'win'], ['special', 'offer', 'celebrate', 'graduation'], [], [], [], ['share', 'thought', 'chance', 'win'], ['highlight', 'web', 'communication', 'camp'], ['thought', 'chance', 'win'], ['soon', 'plan', 'homecoming', 'brunch'], ['soon', 'plan', 'homecoming', 'brunch'], ['ready', 'tailgate'], ['ready', 'tailgate'], ['professional', 'development', 'opportunity'], [], ['invite', 'enjoy', 'delicious', 'brunch'], [], ['professional', 'development', 'opportunity'], ['professional', 'development', 'opportunity'], ['invite', 'enjoy', 'delicious', 'brunch'], ['professional', 'development', 'opportunity'], ['special', 'offer', 'celebrate', 'graduation'], ['invite', 'enjoy', 'delicious', 'brunch'], [], ['boat', 'football', 'information'], ['invite', 'enjoy', 'delicious', 'brunch'], ['good', 'football', 'pregame', 'party'], ['earn', 'provide', 'feedback', 'website'], ['tailgate', 'season'], ['time', 'football', 'kick'], ['upcoming', 'event'], ['tailgate', 'season'], [], [], [], ['tailgate', 'time', 'bust'], ['set', 'set', 'set'], ['ready', 'score', 'great', 'memorabilia'], ['tailgate', 'time', 'bust'], ['tailgate', 'time', 'bust'], ['tailgate', 'time', 'bust'], ['ready', 'score', 'great', 'memorabilia'], ['big', 'idea', 'worth'], ['ready', 'score', 'great', 'memorabilia'], ['big', 'idea', 'worth'], ['set', 'set', 'set'], ['set', 'set', 'set'], ['big', 'idea', 'worth'], ['set', 'set', 'set'], ['sincere', 'thank', 'reminder'], ['sincere', 'thank', 'reminder'], ['save', 'hundred'], ['train'], ['let', 'beat'], ['chapter'], [], ['train'], [], [], ['train'], ['train'], [], ['train'], ['chapter'], ['earn', 'provide', 'feedback', 'website', 'app'], ['event'], [], ['free', 'ticket'], [], [], ['save', 'date'], [], [], [], [], [], [], [], [], ['membership', 'expire'], [], [], [], [], ['free', 'ticket'], ['free', 'ticket'], [], ['renew', 'membership'], ['alum', 'special', 'offer'], ['alumnus', 'news', 'legacy', 'available', 'ask', 'tour', 'travel'], ['answer', 'alumnus', 'question', 'travel'], ['day'], [], ['answer', 'alumnus', 'question', 'travel'], ['answer', 'alumnus', 'question', 'travel'], [], [], ['day'], ['upcoming', 'event'], ['upcoming', 'event'], [], ['answer', 'alumnus', 'question', 'travel'], ['answer', 'alumnus', 'question', 'travel'], ['engineering', 'update', 'discover', 'entrepreneurial', 'mindset', 'sign', 'kid', 'summer', 'camp'], [], [], [], [], ['answer', 'alumnus', 'question', 'travel'], ['answer', 'alumnus', 'question', 'travel'], ['answer', 'alumnus', 'question', 'travel'], ['answer', 'alumnus', 'question', 'travel'], [], ['register'], ['answer', 'alumnus', 'question', 'travel'], ['answer', 'alumnus', 'question', 'travel'], [], [], [], ['day'], ['congratulation', 'academic', 'accomplishment'], ['incoming', 'student', 'want', 'hear'], ['send'], ['welcome', 'new', 'student', 'family'], ['event'], ['send'], ['engineering', 'update', 'welcome', 'incoming', 'president', 'new', 'online'], ['chapter', 'event'], ['upcoming', 'chapter', 'event'], ['upcoming', 'chapter', 'event'], [], ['invitation'], ['invitation'], ['alumnus', 'news'], ['special', 'offer', 'celebrate', 'graduation'], ['special', 'offer', 'celebrate', 'graduation'], ['alumnus', 'news'], ['special', 'offer', 'celebrate', 'graduation'], ['offer'], [], [], [], [], [], [], [], [], [], [], [], ['reason', 'save'], ['reason', 'save'], ['reason', 'save'], ['new', 'football', 'season', 'pregame', 'party'], [], ['invite', 'enjoy', 'delicious', 'brunch'], ['tailgate', 'season'], [], [], [], ['devil', 'boat', 'football', 'information'], ['ready', 'tailgate'], ['engineering', 'update', 'involve', 'fall'], ['tailgate', 'season'], ['new', 'football', 'season', 'pregame', 'party'], ['new', 'football', 'season', 'pregame', 'party'], ['tailgate', 'season'], ['hot', 'new', 'reward', 'secret', 'word', 'new', 'school', 'year', 'start', 'right'], ['tailgate', 'season'], ['new', 'football', 'season', 'pregame', 'party'], ['new', 'football', 'season', 'pregame', 'party'], ['go', 'miss', 'tailgate', 'celebration'], ['tailgate', 'season'], ['new', 'football', 'season', 'pregame', 'party'], ['new', 'football', 'season', 'pregame', 'party'], ['grandiosity', 'touchdown', 'tailgate'], ['grandiosity', 'touchdown', 'tailgate'], ['grandiosity', 'touchdown', 'tailgate'], ['new', 'football', 'season', 'pregame', 'party'], ['tailgate', 'season'], ['new', 'football', 'season', 'pregame', 'party'], ['tailgate', 'season'], ['touchdown', 'tailgate'], [], ['connect'], ['thank', 'attend'], [], [], ['kick', 'new', 'football', 'season', 'pregame', 'party'], ['celebrate', 'tailgate', 'season'], ['celebrate', 'tailgate', 'season'], ['go', 'miss', 'tailgate', 'celebration'], [], ['touchdown', 'tailgate'], ['news'], ['news'], ['news'], ['news'], ['news'], ['news'], ['news'], ['news'], ['news'], ['news'], ['let', 'social', 'know', 'hot', 'reward'], ['news'], ['news'], ['let', 'social', 'know', 'hot', 'reward'], [], [], ['news'], ['news'], ['news'], ['news'], [], [], ['news'], [], [], ['news'], ['news'], [], [], ['train'], [], [], [], [], [], ['news'], [], [], ['news'], [], ['news'], ['devil', 'ready', 'boot', 'buff'], ['devil', 'ready', 'boot', 'buff'], [], ['news'], [], ['earn', 'provide', 'feedback', 'website', 'app'], ['earn', 'provide', 'feedback', 'website', 'app'], ['lunch', 'date'], ['register'], ['big', 'lunch', 'date'], ['interested', 'urban', 'planning', 'design', 'business', 'philanthropy'], ['interested', 'urban', 'design', 'business', 'philanthropy'], ['invite', 'alumnus', 'attend'], [], ['alum', 'inside', 'scoop', 'find', 'dream', 'job', 'launch', 'business', 'build', 'network'], ['alum', 'inside', 'scoop', 'find', 'dream', 'job', 'launch', 'business', 'build', 'network'], ['alum', 'inside', 'scoop', 'find', 'dream', 'job', 'launch', 'business', 'build', 'network'], ['alum', 'inside', 'scoop', 'find', 'dream', 'job', 'launch', 'business', 'build', 'network'], ['alum', 'inside', 'scoop', 'find', 'dream', 'job', 'launch', 'business', 'build', 'network'], ['alum', 'inside', 'scoop', 'find', 'dream', 'job', 'launch', 'business', 'build', 'network'], [], ['history'], [], [], ['need'], ['ready'], ['earn', 'provide', 'feedback', 'website', 'app'], ['continue', 'support', 'renew', 'today'], ['membership', 'expire'], ['woman', 'basketball'], ['earn', 'provide', 'feedback', 'website', 'app'], ['day'], [], ['academic', 'accomplishment'], ['claim', 'free', 'graduation', 'regalia'], ['share', 'thought', 'chance', 'win'], ['claim', 'free', 'graduation', 'regalia'], [], ['event'], [], ['event'], ['end', 'update'], [], ['talent', 'upcoming', 'event'], ['area', 'community'], ['share', 'thought', 'chance', 'win'], ['thank', 'express', 'interest', 'participate', 'research'], [], ['sunset', 'cruise', 'send'], ['special', 'offer', 'celebrate', 'graduation'], ['enjoy', 'special', 'offer', 'celebrate', 'graduation'], ['send'], ['sunset', 'cruise', 'send'], [], ['happen', 'summer'], ['thank', 'express', 'interest', 'participate', 'research'], [], [], ['special', 'offer', 'celebrate', 'graduation'], ['offer'], [], [], [], [], [], [], [], ['graduate', 'reason', 'save'], ['reason', 'save'], [], ['available'], ['engineering', 'update', 'let', 'social'], ['available'], [], ['new', 'football', 'season', 'pregame', 'party'], ['new', 'football', 'season', 'pregame', 'party'], ['tailgate', 'season'], ['new', 'football', 'season', 'pregame', 'party'], [], [], [], ['tailgate', 'season'], ['new', 'football', 'season', 'pregame', 'party'], ['go', 'miss', 'tailgate', 'celebration'], ['go', 'miss', 'tailgate', 'celebration'], ['new', 'football', 'season', 'pregame', 'party'], ['new', 'football', 'season', 'pregame', 'party'], ['new', 'football', 'season', 'pregame', 'party'], [], [], ['tailgate', 'season'], ['soon', 'plan', 'homecoming', 'brunch'], ['grandiosity', 'touchdown', 'tailgate'], ['grandiosity', 'touchdown', 'tailgate'], ['new', 'football', 'season', 'pregame', 'party'], ['tailgate', 'season'], ['new', 'football', 'season', 'pregame', 'party'], ['new', 'football', 'season', 'pregame', 'party'], ['new', 'football', 'season', 'pregame', 'party'], [], ['attend'], [], ['attend'], ['touchdown', 'tailgate'], ['touchdown', 'tailgate'], ['go', 'miss', 'tailgate', 'celebration'], ['pregame', 'touchdown', 'tailgate'], [], ['news'], ['legendary', 'champ'], ['news'], ['news'], ['news'], ['let', 'social', 'know', 'hot', 'reward'], ['let', 'social', 'know', 'hot', 'reward'], ['news'], ['let', 'beat'], ['let', 'beat'], ['devil', 'ready', 'boot', 'buff'], ['devil', 'ready', 'boot', 'buff'], ['chapter'], [], ['devil', 'ready', 'boot', 'buff'], ['news'], ['news'], [], ['news'], ['train'], ['news'], ['news'], ['news'], ['news'], ['news'], ['news'], [], [], ['engineering', 'update', 'mentor', 'year', 'freshman'], [], ['devil', 'ready', 'boot', 'buff'], ['devil', 'ready', 'boot', 'buff'], [], [], [], ['news'], [], ['devil', 'ready', 'boot', 'buff'], [], ['news'], [], ['news'], ['news'], ['weekend', 'bounce'], [], ['news'], [], ['lunch', 'date'], ['lunch', 'date'], ['open', 'run', 'country'], ['continue', 'support', 'renew', 'today'], ['alum', 'special', 'offer'], ['alum', 'special', 'offer'], ['alum', 'special', 'offer'], ['alum', 'special', 'offer'], ['free', 'ticket', 'campus'], ['alumnus', 'news', 'legacy', 'available', 'ask', 'tour', 'travel'], [], [], ['invite', 'attend'], [], [], ['alum', 'inside', 'scoop', 'find', 'dream', 'job', 'launch', 'business', 'build', 'network'], ['invite', 'alumnus', 'attend'], ['alum', 'inside', 'scoop', 'find', 'dream', 'job', 'launch', 'business', 'build', 'network'], ['alum', 'inside', 'scoop', 'find', 'dream', 'job', 'launch', 'business', 'build', 'network'], ['need'], [], [], ['ready'], ['woman', 'basketball'], [], ['event'], ['academic', 'accomplishment'], ['include'], ['include'], [], ['day'], ['day'], ['day'], ['local', 'alumnus', 'chapter'], ['talent', 'upcoming', 'event'], ['offer'], ['offer'], ['offer'], ['offer'], ['special', 'offer', 'celebrate', 'graduation'], ['special', 'offer', 'celebrate', 'graduation'], ['invite', 'attend', 'career', 'fair'], ['send'], ['invite', 'attend', 'career', 'fair'], ['offer'], ['offer'], ['happen', 'summer'], ['happen', 'summer'], ['invite', 'attend', 'career', 'fair'], ['happen', 'summer'], [], ['join', 'sunset', 'cruise', 'send'], ['join', 'sunset', 'cruise', 'send'], ['happen', 'summer'], ['send'], [], ['thank', 'express', 'interest', 'participate', 'research'], ['school'], ['thank', 'express', 'interest', 'participate', 'research'], ['earn', 'provide', 'feedback', 'website'], ['enjoy', 'special', 'offer', 'celebrate', 'graduation'], [], [], ['request', 'sponsor'], [], ['available'], ['engineering', 'update', 'let', 'social'], ['reason', 'save'], ['golf', 'challenge'], ['tailgate', 'season'], ['tailgate', 'season'], ['new', 'football', 'season', 'pregame', 'party'], ['new', 'football', 'season', 'pregame', 'party'], ['new', 'football', 'season', 'pregame', 'party'], ['go', 'miss', 'tailgate', 'celebration'], ['go', 'miss', 'tailgate', 'celebration'], ['go', 'miss', 'tailgate', 'celebration'], [], ['tailgate', 'season'], ['new', 'football', 'season', 'pregame', 'party'], ['thrive', 'upcoming', 'event'], ['grandiosity', 'touchdown', 'tailgate'], ['grandiosity', 'touchdown', 'tailgate'], ['grandiosity', 'touchdown', 'tailgate'], ['tailgate', 'season'], ['tailgate', 'season'], ['new', 'football', 'season', 'pregame', 'party'], ['new', 'football', 'season', 'pregame', 'party'], ['go', 'miss', 'tailgate', 'celebration'], ['pregame', 'touchdown', 'tailgate'], ['grandiosity', 'touchdown', 'tailgate'], [], [], ['day', 'way', 'catch', 'devil'], [], ['kick', 'new', 'football', 'season', 'pregame', 'party'], ['grandiosity', 'touchdown', 'tailgate'], [], ['news'], ['news'], ['news'], ['news'], ['news'], ['news'], ['news'], ['news'], ['news'], ['news'], [], ['let', 'social', 'know', 'hot', 'reward'], [], [], ['news'], ['news'], ['legendary', 'champ'], [], [], ['news'], [], ['news'], [], ['join'], [], ['news'], [], ['news'], ['devil', 'ready', 'boot', 'buff'], ['devil', 'ready', 'boot', 'buff'], ['devil', 'ready', 'boot', 'buff'], ['devil', 'ready', 'boot', 'buff'], [], [], ['news'], [], [], [], ['news'], ['weekend', 'bounce'], ['news'], ['news'], [], [], [], [], [], ['care', 'community'], ['register'], ['register'], ['date'], ['interested', 'urban', 'planning', 'design', 'business', 'philanthropy'], ['interested', 'urban', 'planning', 'design', 'business', 'philanthropy'], ['interested', 'urban', 'design', 'business', 'philanthropy'], ['fan'], [], [], ['invite', 'alumnus', 'attend'], ['alum', 'inside', 'scoop', 'find', 'dream', 'job', 'launch', 'business', 'build', 'network'], ['alum', 'inside', 'scoop', 'find', 'dream', 'job', 'launch', 'business', 'build', 'network'], ['alum', 'inside', 'scoop', 'find', 'dream', 'job', 'launch', 'business', 'build', 'network'], ['alum', 'inside', 'scoop', 'find', 'dream', 'job', 'launch', 'business', 'build', 'network'], ['alum', 'inside', 'scoop', 'find', 'dream', 'job', 'launch', 'business', 'build', 'network'], ['alum', 'inside', 'scoop', 'find', 'dream', 'job', 'launch', 'business', 'build', 'network'], [], [], ['earn', 'provide', 'feedback', 'website', 'app'], ['history'], ['earn', 'provide', 'feedback', 'website', 'app'], [], ['hoop', 'game'], ['earn', 'provide', 'feedback', 'website', 'app'], ['history'], ['join'], ['join'], [], [], [], [], [], [], ['include'], ['include'], [], ['founder', 'day'], ['include'], ['local', 'alumnus', 'chapter'], ['claim', 'free', 'graduation', 'regalia'], ['answer', 'alumnus', 'question', 'travel'], [], [], ['end', 'update'], ['area', 'community'], [], ['reminder', 'claim', 'free', 'graduation', 'regalia'], ['special', 'offer', 'celebrate', 'graduation'], ['earn', 'provide', 'feedback', 'website'], ['invite', 'attend', 'career', 'fair'], [], ['invitation'], ['sunset', 'cruise', 'send'], ['offer'], ['send'], ['invite', 'attend', 'career', 'fair'], ['invite', 'attend', 'career', 'fair'], ['share', 'thought', 'chance', 'win'], ['sunset', 'cruise', 'send'], [], [], ['offer'], ['earn', 'provide', 'feedback', 'website'], ['special', 'offer', 'celebrate', 'graduation'], [], [], [], [], [], [], [], ['share', 'thought', 'chance', 'win'], ['email'], ['earn', 'provide', 'feedback', 'website'], ['earn', 'provide', 'feedback', 'website'], ['alumnus', 'news'], ['alumnus', 'news'], ['earn', 'provide', 'feedback', 'website'], ['alumnus', 'news'], ['alumnus', 'news'], ['alumnus', 'news'], ['alumnus', 'news'], ['alumnus', 'news'], ['news'], ['news'], ['news'], ['news'], ['news'], ['let', 'social', 'know', 'hot', 'reward'], ['news'], [], ['legendary', 'champ'], ['legendary', 'champ'], [], ['earn', 'participate', 'online', 'study'], ['day', 'way', 'catch', 'devil'], ['news'], ['day', 'way', 'catch', 'devil'], [], [], ['big', 'lunch', 'date'], ['date'], ['interested', 'urban', 'planning', 'design', 'business', 'philanthropy'], ['interested', 'urban', 'design', 'business', 'philanthropy'], ['interested', 'urban', 'design', 'business', 'philanthropy'], ['earn', 'provide', 'feedback', 'website', 'app'], [], [], ['alum', 'ticket'], ['hoop', 'woman', 'basketball'], ['history'], [], ['need'], ['ready'], ['game'], [], [], [], [], [], ['run'], [], [], ['event'], ['care', 'event'], ['care', 'event'], ['talent', 'upcoming', 'event'], ['invite', 'join', 'finger', 'paint'], ['interested', 'urban', 'design', 'business', 'philanthropy'], ['plan', 'attend'], [], ['area'], [], [], ['alumni', 'monthly', 'newsletter'], ['alumni', 'monthly', 'newsletter'], [], ['alumnus'], ['seek', 'participant'], ['seek', 'participant'], ['plan', 'attend'], ['alumnus', 'news'], ['alumnus', 'come', 'celebrate'], ['life'], ['spark'], ['networking', 'mixer'], ['networking', 'mixer'], ['support', 'local', 'chapter'], ['networking', 'mixer'], ['extravaganza'], ['extravaganza'], ['newsletter'], [], [], ['chapter'], ['accomplished', 'exclusive', 'offer'], ['support', 'local', 'chapter'], ['networking', 'mixer'], ['thank'], ['support', 'local', 'chapter'], ['support', 'local', 'chapter'], ['devil'], ['golf', 'networking', 'mixer'], ['join', 'extravaganza'], ['thank'], ['thank'], ['support', 'local', 'chapter'], ['newsletter'], ['invite'], ['dinner', 'devil'], ['summer', 'event'], [], ['event'], ['go', 'go', 'ticket', 'nearly', 'sell'], ['go', 'go', 'ticket', 'nearly', 'sell'], [], ['go', 'go', 'ticket', 'nearly', 'sell'], ['class', 'style'], ['know', 'universitys', 'impressive', 'spring', 'graduate'], [], ['networking'], ['networking'], [], ['alumnus', 'news'], ['engineering', 'update', 'new', 'graduate', 'embark', 'journey'], ['engineering', 'update', 'new', 'graduate', 'embark', 'journey'], ['know', 'universitys', 'impressive', 'spring', 'graduate'], ['event'], [], ['networking'], ['networking'], ['networking'], ['save'], ['connect'], ['save'], ['alumnus', 'news'], ['alumnus', 'news'], ['application'], ['alumnus', 'news'], ['alumnus', 'news'], ['new', 'student', 'family'], ['new', 'student', 'family'], ['miss', 'come', 'soon'], ['miss', 'come', 'soon'], ['miss', 'come', 'soon'], ['country', 'superstar', 'concert'], ['country', 'superstar', 'concert'], ['country', 'superstar', 'concert'], ['country', 'superstar', 'concert'], ['postgrad', 'life'], ['country', 'superstar', 'concert'], ['postgrad', 'life'], ['postgrad', 'life'], ['postgrad', 'life'], ['country', 'superstar', 'concert'], ['welcome', 'postgrad', 'life'], ['want', 'hear'], ['join'], ['join'], ['join'], [], [], [], ['grad'], ['grad'], ['learn', 'craft', 'brew', 'network', 'professional'], [], ['send'], ['send', 'come', 'send', 'come'], ['earn', 'provide', 'feedback', 'website'], ['event'], [], ['want', 'hear'], ['new', 'student', 'family'], ['want', 'hear'], ['welcome', 'new', 'student', 'family'], ['thank', 'express', 'interest', 'participate', 'research'], ['share', 'thought', 'chance', 'win'], ['share', 'thought', 'chance', 'win'], ['st', 'scholarship', 'recipient'], ['st', 'scholarship', 'recipient'], ['update', 'let', 'social'], ['share', 'thought', 'chance', 'win'], ['st', 'scholarship', 'recipient'], ['st', 'scholarship', 'recipient'], ['st', 'scholarship', 'recipient'], ['design'], ['hope', 'tonight'], [], ['discussion'], [], [], [], [], [], ['thought', 'chance', 'win'], ['email'], ['email', 'send'], ['email'], ['chalk', 'talk', 'detail', 'inside'], ['chalk', 'talk', 'detail', 'inside'], ['chalk', 'talk', 'detail', 'inside'], ['reason', 'save'], ['alumnus', 'news'], ['available'], [], [], ['send', 'recap'], ['send', 'recap'], ['volunteering', 'event'], ['day', 'way', 'catch', 'devil'], ['legendary', 'champ'], ['legendary', 'champ'], ['day', 'way', 'catch', 'devil'], ['invite'], ['invite'], [], [], ['touchdown', 'come'], ['come'], ['touchdown', 'come'], ['come'], ['come'], ['fan'], ['interested', 'urban', 'design', 'business', 'philanthropy'], ['mens', 'basketball'], ['interested', 'urban', 'design', 'business', 'philanthropy'], ['interested', 'urban', 'design', 'business', 'philanthropy'], ['fan'], ['fan'], ['fan'], ['offer'], ['scholarship', 'opportunity', 'family'], ['scholarship', 'opportunity', 'family'], [], ['attend', 'luncheon'], ['attend', 'luncheon'], ['free', 'ticket'], ['attend', 'luncheon'], ['free', 'ticket'], ['thank', 'attend', 'luncheon'], ['alum', 'ticket'], [], ['renew', 'membership'], [], ['invitation', 'join'], ['invitation', 'join'], ['invitation', 'join'], ['invitation', 'join'], ['earn', 'provide', 'feedback', 'website', 'app'], [], [], [], ['run'], ['roll', 'sushi', 'style'], ['run'], [], [], [], ['event'], ['invite', 'join', 'fingerpaint', 'mountain'], ['invite', 'join', 'fingerpaint', 'mountain'], ['invite', 'join', 'fingerpaint', 'mountain'], ['invite', 'join', 'finger', 'paint'], ['area'], ['aspire', 'level', 'leader'], ['seek', 'participant'], [], [], ['dinner', 'devil'], ['alumnus', 'news'], ['life'], [], ['newsletter'], ['care', 'event'], [], ['exclusive', 'offer'], ['support', 'local', 'chapter'], ['support', 'local', 'chapter'], ['networking', 'mixer'], ['thank'], ['honor', 'fastest', 'grow', 'lead', 'business'], ['thank'], ['thank'], ['chapter'], ['networking', 'mixer'], ['networking', 'mixer'], ['newsletter'], ['newsletter'], [], [], [], ['devil'], [], ['join', 'extravaganza'], ['support', 'local', 'chapter'], ['newsletter'], [], ['invite'], ['honor', 'fastest', 'grow', 'lead', 'business'], ['summer', 'event'], ['summer', 'event'], [], [], [], [], [], [], [], [], [], ['know', 'universitys', 'impressive', 'spring', 'graduate'], ['know', 'universitys', 'impressive', 'spring', 'graduate'], ['networking'], ['alumnus', 'news'], ['go', 'go', 'go', 'ticket', 'nearly', 'sell'], ['go', 'go', 'go', 'ticket', 'nearly', 'sell'], [], [], ['event'], ['networking'], ['send', 'class', 'style'], ['send', 'class', 'style'], [], [], ['send', 'class', 'style'], ['country', 'superstar', 'concert'], ['alumnus', 'news'], ['alumnus', 'news'], ['alumnus', 'news'], ['alumnus', 'news'], ['new', 'student', 'family'], ['alumnus', 'news'], ['alumnus', 'news'], ['miss', 'come', 'soon'], ['miss', 'come', 'soon'], ['new', 'student', 'family'], ['welcome', 'new', 'student', 'family'], ['country', 'superstar', 'concert'], ['postgrad', 'life'], ['postgrad', 'life'], ['postgrad', 'life'], ['postgrad', 'life'], ['postgrad', 'life'], ['welcome', 'alumnus', 'website'], ['save', 'date', 'send'], ['save', 'date', 'send'], ['send', 'come', 'send', 'come'], ['send', 'come', 'send', 'come'], ['join'], ['join'], ['send'], [], [], [], [], ['learn', 'craft', 'brew', 'network', 'professional'], [], ['tomorrow'], ['join'], ['join'], ['send', 'come', 'send', 'come'], [], ['new', 'student', 'family'], ['new', 'student', 'family'], ['new', 'student', 'family'], ['want', 'hear'], ['worry'], ['share', 'thought', 'chance', 'win'], ['share', 'thought', 'chance', 'win'], ['available'], ['earn', 'provide', 'feedback', 'website'], ['request', 'sponsor'], ['discussion'], ['discussion'], ['join', 'discussion'], ['join', 'discussion'], [], [], ['correction', 'feedback', 'survey', 'link'], ['event'], ['event'], ['event'], ['send', 'recap'], ['send', 'recap'], ['send', 'recap'], ['send', 'recap'], ['event'], ['score', 'ultimate', 'homecoming', 'package'], ['score', 'ultimate', 'homecoming', 'package'], ['chinese', 'earn', 'giftcard'], [], [], ['share', 'thought', 'chance', 'win'], ['reminder', 'share', 'thought', 'chance', 'win'], ['share', 'thought', 'chance', 'win'], ['earn', 'provide', 'feedback', 'website'], ['touchdown', 'come'], [], [], ['touchdown', 'come'], ['large'], ['large'], ['large'], [], [], [], ['share', 'thought', 'chance', 'win'], [], [], [], [], ['invite', 'ticket', 'success'], ['invite', 'ticket', 'success'], [], [], ['countdown', 'football'], ['set', 'set', 'set'], [], [], [], [], ['countdown', 'football'], ['countdown', 'football'], ['countdown', 'football'], ['miss', 'meeting'], ['miss', 'meeting'], ['miss', 'meeting'], ['miss', 'meeting'], ['share', 'thought', 'chance', 'win'], ['countdown', 'football'], ['countdown', 'football'], ['devil', 'tailgate'], ['back', 'fight'], ['back', 'fight'], ['school'], [], ['news'], ['news'], ['news', 'legacy', 'available', 'ask', 'tour', 'travel'], ['news', 'legacy', 'available', 'ask', 'tour', 'travel'], ['news', 'legacy', 'available', 'ask', 'tour', 'travel'], ['news', 'legacy', 'available', 'ask', 'tour', 'travel'], ['news', 'legacy', 'available', 'ask', 'tour', 'travel'], [], ['earn', 'provide', 'feedback', 'website', 'app'], ['save', 'date'], ['save', 'date'], ['news', 'legacy', 'available', 'ask', 'tour', 'travel'], ['news', 'legacy', 'available', 'ask', 'tour', 'travel'], [], ['news', 'legacy', 'available', 'ask', 'tour', 'travel'], ['update', 'reflect', 'explore', 'share', 'smile', 'year'], ['news', 'legacy', 'available', 'ask', 'tour', 'travel'], ['news', 'legacy', 'available', 'ask', 'tour', 'travel'], ['news', 'legacy', 'available', 'ask', 'tour', 'travel'], ['news', 'legacy', 'available', 'ask', 'tour', 'travel'], ['basketball', 'game'], ['basketball', 'game'], ['basketball', 'game'], ['news', 'legacy', 'available', 'ask', 'tour', 'travel'], ['news', 'legacy', 'available', 'ask', 'tour', 'travel'], ['news', 'legacy', 'available', 'ask', 'tour', 'travel'], [], ['news', 'legacy', 'available', 'ask', 'tour', 'travel'], ['news', 'legacy', 'available', 'ask', 'tour', 'travel'], ['news', 'legacy', 'available', 'ask', 'tour', 'travel'], ['news', 'legacy', 'available', 'ask', 'tour', 'travel'], [], [], ['news', 'legacy', 'available', 'ask', 'tour', 'travel'], ['news', 'legacy', 'available', 'ask', 'tour', 'travel'], ['chapter'], ['news', 'legacy', 'available', 'ask', 'tour', 'travel'], ['alumnus', 'news', 'legacy', 'available', 'ask', 'tour', 'travel'], [], [], [], ['save', 'date'], [], [], [], [], [], [], ['invite', 'alumnus', 'attend'], ['invite', 'alumnus', 'attend'], [], ['invite', 'alumnus', 'attend'], [], ['run'], ['dinner', 'greet'], ['earn', 'provide', 'feedback', 'website', 'app'], [], [], ['earn', 'provide', 'feedback', 'website', 'app'], ['click', 'thought', 'chance', 'win'], ['share', 'thought', 'chance', 'win'], [], [], ['news', 'legacy', 'available', 'ask', 'tour', 'travel'], ['news', 'legacy', 'available', 'ask', 'tour', 'travel'], ['upcoming', 'event'], [], ['update', 'discover', 'entrepreneurial', 'mindset', 'sign', 'kid', 'summer', 'camp'], [], ['click', 'thought', 'chance', 'win'], [], [], ['news', 'answer', 'alumnus', 'question', 'travel'], ['news', 'answer', 'alumnus', 'question', 'travel'], ['update', 'discover', 'entrepreneurial', 'mindset', 'sign', 'kid', 'summer', 'camp'], ['register'], ['answer', 'alumnus', 'question', 'travel'], ['answer', 'alumnus', 'question', 'travel'], ['answer', 'alumnus', 'question', 'travel'], [], [], ['win', 'prize', 'complete', 'alumni', 'prize', 'complete', 'alumni', 'survey'], ['save', 'worry'], [], ['welcome', 'new', 'student', 'family'], [], ['earn', 'provide', 'feedback', 'website'], ['earn', 'provide', 'feedback', 'website'], ['paint'], ['chapter', 'event'], ['update', 'new', 'graduate', 'embark', 'journey'], ['event'], ['event'], ['event'], ['chapter', 'event'], ['chapter', 'event'], ['chapter', 'event'], ['chapter', 'event'], ['new', 'student', 'family'], ['send'], ['let', 'paint'], ['let', 'paint'], ['event'], [], ['event'], ['event'], ['send'], ['event'], [], [], ['engineering', 'update', 'welcome', 'incoming', 'president', 'new', 'online'], [], [], [], [], [], [], [], [], [], ['email'], [], ['send', 'recap'], ['share', 'thought', 'chance', 'win'], ['back'], ['chinese', 'earn', 'giftcard'], ['share', 'thought', 'chance', 'win'], ['share', 'thought', 'chance', 'win'], ['share', 'thought', 'chance', 'win'], ['reward', 'summer', 'flash', 'sale', 'inside', 'secret', 'word'], ['reward', 'summer', 'flash', 'sale', 'inside', 'secret', 'word'], ['reward', 'summer', 'flash', 'sale', 'inside', 'secret', 'word'], ['reward', 'summer', 'flash', 'sale', 'inside', 'secret', 'word'], ['save', 'hundred'], [], [], [], [], [], ['touchdown', 'come'], ['touchdown', 'come'], ['touchdown', 'come'], ['come'], [], ['large'], [], [], ['networking'], ['networking'], [], ['large'], ['large'], [], ['invite', 'ticket', 'success'], ['invite', 'ticket', 'success'], ['invite', 'ticket', 'success'], [], [], [], [], ['networking'], ['countdown', 'football'], ['countdown', 'football'], [], [], [], [], [], [], [], ['large'], ['countdown', 'football'], ['countdown', 'football'], ['miss', 'meeting'], ['miss', 'meeting'], ['miss', 'meeting'], ['miss', 'meeting'], ['miss', 'meeting'], ['devil', 'tailgate'], ['tailgate'], ['back', 'fight'], ['back', 'fight'], ['back', 'fight'], ['tailgate', 'time', 'bust'], ['reminder', 'share', 'thought', 'chance', 'win'], ['back'], ['tailgate', 'time', 'bust'], ['alum', 'ticket'], ['basketball', 'ticket'], ['basketball', 'ticket'], ['basketball', 'ticket'], [], [], [], ['news'], [], ['news', 'legacy', 'available', 'ask', 'tour', 'travel'], ['news', 'legacy', 'available', 'ask', 'tour', 'travel'], ['news', 'legacy', 'available', 'ask', 'tour', 'travel'], ['earn', 'provide', 'feedback', 'website', 'app'], ['news', 'legacy', 'available', 'ask', 'tour', 'travel'], ['news', 'legacy', 'available', 'ask', 'tour', 'travel'], [], ['news', 'legacy', 'available', 'ask', 'tour', 'travel'], ['news', 'legacy', 'available', 'ask', 'tour', 'travel'], ['news', 'legacy', 'available', 'ask', 'tour', 'travel'], ['news', 'legacy', 'available', 'ask', 'tour', 'travel'], ['news', 'legacy', 'available', 'ask', 'tour', 'travel'], ['news', 'legacy', 'available', 'ask', 'tour', 'travel'], ['news', 'legacy', 'available', 'ask', 'tour', 'travel'], ['news', 'legacy', 'available', 'ask', 'tour', 'travel'], ['basketball', 'game'], ['basketball', 'game'], ['basketball', 'game'], ['event'], ['event'], [], ['news', 'legacy', 'available', 'ask', 'tour', 'travel'], ['news', 'legacy', 'available', 'ask', 'tour', 'travel'], ['news', 'legacy', 'available', 'ask', 'tour', 'travel'], ['news', 'legacy', 'available', 'ask', 'tour', 'travel'], [], ['save', 'date'], [], ['news', 'legacy', 'available', 'ask', 'tour', 'travel'], [], ['news', 'legacy', 'available', 'ask', 'tour', 'travel'], [], ['alumnus', 'news', 'legacy', 'available', 'ask', 'tour', 'travel'], ['engineering', 'update', 'reflect', 'explore', 'share', 'smile', 'year'], [], [], [], [], [], ['graduate', 'save', 'auto', 'insurance'], ['learn', 'roll', 'sushi', 'style'], [], [], [], [], ['free', 'ticket'], [], ['event'], ['event'], [], [], ['news', 'legacy', 'available', 'ask', 'tour', 'travel'], ['event'], ['event'], [], [], ['upcoming', 'event'], ['upcoming', 'event'], [], [], [], ['news', 'answer', 'alumnus', 'question', 'travel'], [], ['upcoming', 'event'], ['event'], [], [], ['answer', 'alumnus', 'question', 'travel'], ['answer', 'alumnus', 'question', 'travel'], ['answer', 'alumnus', 'question', 'travel'], ['roll', 'sushi', 'style'], ['earn', 'provide', 'feedback', 'website'], [], [], [], [], [], [], ['chance', 'score', 'ticket'], ['student', 'want', 'hear'], ['paint'], [], ['new', 'student', 'family'], ['new', 'student', 'family'], ['update', 'welcome', 'incoming', 'president', 'new', 'online'], ['new', 'student', 'family'], ['event'], ['chapter', 'event'], ['paint'], ['chapter', 'event'], [], ['email'], ['earn', 'provide', 'feedback', 'website'], ['chalk', 'talk', 'detail', 'inside'], ['chalk', 'talk', 'detail', 'inside'], ['reason', 'save'], ['alumnus', 'news'], ['alumnus', 'news'], ['alumnus', 'news'], ['volunteering', 'event'], ['volunteering', 'event'], ['send', 'recap'], [], [], [], ['news'], ['news'], ['legendary', 'champ'], ['day', 'way', 'catch', 'devil'], ['day', 'way', 'catch', 'devil'], ['legendary', 'champ'], ['day', 'way', 'catch', 'devil'], ['day', 'way', 'catch', 'devil'], ['legendary', 'champ'], ['participate', 'online', 'study'], ['day', 'way', 'catch', 'devil'], ['day', 'way', 'catch', 'devil'], ['news'], [], ['earn', 'participate', 'online', 'study'], [], ['earn', 'participate', 'online', 'study'], ['thank', 'express', 'interest', 'participate', 'research'], ['offer'], ['interested', 'urban', 'design', 'business', 'philanthropy'], ['interested', 'urban', 'design', 'business', 'philanthropy'], ['interested', 'urban', 'design', 'business', 'philanthropy'], ['interested', 'urban', 'design', 'business', 'philanthropy'], ['fan'], ['thank', 'express', 'interest', 'participate', 'research'], ['earn', 'provide', 'feedback', 'website', 'app'], ['scholarship', 'opportunity', 'family'], ['scholarship', 'opportunity', 'family'], ['scholarship', 'opportunity', 'family'], ['scholarship', 'opportunity', 'family'], ['news', 'shot', 'ticket'], ['basketball', 'ticket'], [], [], ['basketball', 'ticket'], ['basketball', 'ticket'], ['basketball', 'ticket'], [], [], [], ['invitation', 'join'], [], [], ['run'], ['invitation', 'join'], [], ['run'], [], [], ['graduate', 'save', 'auto', 'insurance'], ['special', 'invitation', 'join'], [], [], [], ['run'], [], ['invite', 'join', 'finger', 'paint'], ['finger', 'paint'], ['present', 'university', 'vision', 'future'], [], [], [], ['devil'], ['devil'], ['area'], [], [], ['devil'], ['devil'], ['level', 'leader'], [], ['area'], ['alumnus', 'news'], [], ['seek', 'participant'], ['seek', 'participant'], ['dinner', 'devil'], ['miss', 'spark'], ['pick', 'life'], ['pick', 'life'], ['networking', 'mixer'], ['support', 'local', 'chapter'], ['thank'], ['thank'], ['newsletter'], [], [], ['chapter'], ['include', 'exclusive', 'offer'], ['graduate', 'policy', 'big', 'discount'], ['support', 'local', 'chapter'], ['honor', 'fastest', 'grow', 'lead', 'business'], ['devil'], ['networking', 'mixer'], ['networking', 'mixer'], ['support', 'local', 'chapter'], [], ['announcement', 'devil'], ['support', 'local', 'chapter'], ['chapter'], ['chapter'], [], [], ['announcement', 'devil'], ['care', 'event'], ['announcement', 'devil'], ['graduate', 'policy', 'big', 'discount'], ['go', 'go', 'ticket', 'nearly', 'sell'], ['update', 'new', 'graduate', 'embark', 'journey'], [], ['know', 'universitys', 'impressive', 'spring', 'graduate'], ['know', 'universitys', 'impressive', 'spring', 'graduate'], [], ['save'], ['save'], ['networking'], ['event'], ['event'], ['networking'], [], ['networking'], [], [], [], [], [], ['alumnus', 'news'], ['networking'], ['send', 'class', 'style'], ['save'], [], [], [], [], ['save'], [], [], ['send', 'class', 'style'], [], ['save'], ['connect'], [], ['alumnus', 'news'], ['miss', 'come', 'soon'], ['country', 'superstar', 'concert'], ['postgrad', 'life'], ['postgrad', 'life'], ['ticket', 'country', 'superstar', 'concert'], ['craft', 'brew', 'network', 'professional'], ['learn', 'craft', 'brew', 'network', 'professional'], ['tomorrow'], ['tomorrow'], ['join'], ['join'], ['join'], ['join'], ['send'], [], ['grad'], ['grad'], ['earn', 'provide', 'feedback', 'website'], ['learn', 'craft', 'brew', 'network', 'professional'], ['send'], ['join'], ['send'], ['send'], [], [], ['event'], ['new', 'student', 'family'], ['new', 'student', 'family'], ['want', 'hear'], ['earn', 'provide', 'feedback', 'website'], ['available'], ['reminder', 'share', 'thought', 'chance', 'win'], ['welcome'], ['welcome'], [], [], [], [], [], [], [], ['share', 'thought', 'chance', 'win'], ['alumnus', 'news'], ['alumnus', 'news'], [], ['send', 'recap'], ['event'], ['event'], ['volunteering', 'event'], ['event'], [], ['score', 'ultimate', 'homecoming', 'package'], ['send', 'recap'], ['upcoming', 'event'], ['signature', 'volunteering', 'event'], ['back'], [], [], [], ['chinese', 'earn', 'giftcard'], [], ['professional', 'development', 'opportunity'], [], ['touchdown', 'come'], ['come'], ['networking'], [], ['large'], [], ['earn', 'provide', 'feedback', 'website'], [], ['earn', 'provide', 'feedback', 'website'], [], [], [], [], [], ['invite', 'ticket', 'success'], [], ['share', 'thought', 'chance', 'win'], [], ['invite', 'ticket', 'success'], ['invite', 'ticket', 'success'], ['invite', 'ticket', 'success'], [], [], ['invite', 'ticket', 'success'], ['invite', 'ticket', 'success'], ['let'], [], [], [], [], ['countdown', 'football'], ['reminder', 'earn', 'participate', 'online', 'study'], ['set', 'set', 'set'], [], [], [], [], ['countdown', 'football'], ['miss', 'meeting'], ['miss', 'meeting'], [], ['miss', 'meeting'], ['miss', 'meeting'], ['miss', 'meeting'], ['miss', 'meeting'], ['miss', 'meeting'], ['countdown', 'football'], ['miss', 'meeting'], ['free', 'ticket'], ['attend', 'luncheon'], ['attend', 'luncheon'], ['attend', 'luncheon'], ['thank', 'attend', 'luncheon'], ['free', 'ticket'], ['alum', 'ticket'], ['basketball', 'ticket'], ['basketball', 'ticket'], [], ['earn', 'provide', 'feedback', 'website', 'app'], [], ['graduate', 'policy', 'big', 'discount'], ['hoop', 'basketball', 'ticket'], ['earn', 'provide', 'feedback', 'website', 'app'], [], ['news', 'ticket', 'offer'], ['news', 'legacy', 'available', 'ask', 'tour', 'travel'], ['news', 'legacy', 'available', 'ask', 'tour', 'travel'], ['news', 'legacy', 'available', 'ask', 'tour', 'travel'], ['stocking', 'bowling'], [], [], ['news', 'legacy', 'available', 'ask', 'tour', 'travel'], ['chapter'], ['news', 'legacy', 'available', 'ask', 'tour', 'travel'], [], ['update', 'reflect', 'explore', 'share', 'smile', 'year'], ['news', 'legacy', 'available', 'ask', 'tour', 'travel'], ['news', 'legacy', 'available', 'ask', 'tour', 'travel'], ['news', 'legacy', 'available', 'ask', 'tour', 'travel'], ['basketball', 'game'], ['event'], [], [], ['history'], ['news', 'legacy', 'available', 'ask', 'tour', 'travel'], ['news', 'legacy', 'available', 'ask', 'tour', 'travel'], ['news', 'legacy', 'available', 'ask', 'tour', 'travel'], ['news', 'legacy', 'available', 'ask', 'tour', 'travel'], [], ['news', 'legacy', 'available', 'ask', 'tour', 'travel'], ['news', 'legacy', 'available', 'ask', 'tour', 'travel'], ['alumnus', 'news', 'legacy', 'available', 'ask', 'tour', 'travel'], [], [], ['roll', 'sushi', 'style'], ['roll', 'sushi', 'style'], ['invite', 'alumnus', 'attend'], ['invite', 'alumnus', 'attend'], [], ['free', 'ticket'], ['wish', 'friendly', 'peep'], [], [], [], ['event'], [], [], ['news', 'legacy', 'available', 'ask', 'tour', 'travel'], ['news', 'legacy', 'available', 'ask', 'tour', 'travel'], [], [], ['upcoming', 'event'], ['update', 'discover', 'entrepreneurial', 'mindset', 'sign', 'kid', 'summer', 'camp'], ['update', 'discover', 'entrepreneurial', 'mindset', 'sign', 'kid', 'summer', 'camp'], [], ['news', 'answer', 'alumnus', 'question', 'travel'], ['share', 'thought', 'chance', 'win'], ['welcome', 'new', 'student', 'family'], ['worry'], ['prize', 'complete', 'alumni', 'survey'], ['exclusive', 'offer', 'grad'], ['school'], [], [], [], ['earn', 'provide', 'feedback', 'website'], ['act', 'score', 'ticket'], ['student', 'want', 'hear'], ['send'], ['chapter', 'event'], ['send'], ['event'], ['chapter', 'event'], ['send'], ['design'], ['reminder', 'design'], ['school'], [], [], [], [], [], ['lookout', 'devil', 'ready', 'boot', 'buff'], ['welcome', 'check', 'cool', 'movie', 'theater', 'world'], ['news'], ['news'], ['welcome', 'check', 'cool', 'movie', 'theater', 'world'], ['welcome', 'check', 'cool', 'movie', 'theater', 'world'], ['grad', 'school', 'help'], [], ['weekend', 'bounce'], ['welcome', 'check', 'cool', 'movie', 'theater', 'world'], [], [], [], [], [], [], [], [], [], [], [], ['grad', 'school', 'help'], [], [], [], [], [], [], [], ['welcome', 'check', 'cool', 'movie', 'theater', 'world'], ['news'], ['welcome', 'check', 'cool', 'movie', 'theater', 'world'], [], ['welcome', 'check', 'cool', 'movie', 'theater', 'world'], [], [], [], ['welcome', 'check', 'cool', 'movie', 'theater', 'world'], ['welcome', 'check', 'cool', 'movie', 'theater', 'world'], [], ['welcome', 'check', 'cool', 'movie', 'theater', 'world'], ['welcome', 'check', 'cool', 'movie', 'theater', 'world'], ['grad', 'school', 'help'], [], [], ['grad', 'school', 'help'], ['welcome', 'check', 'cool', 'movie', 'theater', 'world'], [], ['grad', 'school', 'help'], ['welcome', 'check', 'cool', 'movie', 'theater', 'world'], ['welcome', 'check', 'cool', 'movie', 'theater', 'world'], [], ['welcome', 'check', 'cool', 'movie', 'theater', 'world'], ['welcome', 'check', 'cool', 'movie', 'theater', 'world'], [], ['welcome', 'check', 'cool', 'movie', 'theater', 'world'], ['grad', 'school', 'help'], ['welcome', 'check', 'cool', 'movie', 'theater', 'world'], [], ['grad', 'school', 'help'], ['grad', 'school', 'help'], [], [], [], ['grad', 'school', 'help'], ['free', 'graduation', 'regalia'], ['free', 'graduation', 'regalia'], ['free', 'graduation', 'regalia'], ['free', 'graduation', 'regalia'], ['chance', 'enter', 'ultimate', 'homecoming', 'weekend'], ['free', 'graduation', 'regalia'], ['grad', 'school', 'help'], [], ['free', 'graduation', 'regalia'], ['chance', 'enter', 'ultimate', 'homecoming', 'weekend'], ['chance', 'enter', 'ultimate', 'homecoming', 'weekend'], ['chance', 'enter'], [], ['invite', 'rockin'], ['grad', 'school', 'help'], [], ['invite', 'rockin'], ['welcome', 'check', 'cool', 'movie', 'theater', 'world'], ['apply', 'today'], [], ['apply', 'today'], ['invite', 'rockin'], ['apply', 'today'], ['apply', 'today'], ['welcome', 'check', 'cool', 'movie', 'theater', 'world'], [], ['invite', 'rockin'], ['invite', 'rockin'], ['invite', 'rockin'], ['invite', 'rockin'], ['invite', 'rockin'], [], ['consider', 'grad', 'school', 'help'], ['apply', 'today'], ['join', 'special', 'celebration', 'honor'], ['invite', 'rockin'], [], [], ['pregame', 'monsoon'], ['apply', 'today'], ['join', 'special', 'celebration', 'honor'], [], [], [], ['free', 'graduation', 'regalia'], ['apply', 'today'], ['free', 'graduation', 'regalia'], [], [], [], [], [], [], ['join', 'special', 'celebration', 'honor'], ['pregame', 'monsoon'], ['pregame', 'monsoon'], ['invite', 'rockin'], ['join', 'special', 'celebration', 'honor'], ['join', 'special', 'celebration', 'honor'], ['join', 'special', 'celebration', 'honor'], [], ['welcome', 'check', 'cool', 'movie', 'theater', 'world'], ['join', 'special', 'celebration', 'honor'], [], ['complimentary', 'graduation', 'regalia'], ['complimentary', 'graduation', 'regalia'], [], ['complimentary', 'graduation', 'regalia'], ['join', 'special', 'celebration', 'honor'], ['serve', 'great', 'season', 'opener', 'tonight'], ['serve', 'great', 'season', 'opener', 'tonight'], ['complimentary', 'graduation', 'regalia'], ['ticket'], ['apply', 'today'], ['join', 'special', 'celebration', 'honor'], ['reward'], ['join', 'special', 'celebration', 'honor'], ['complimentary', 'graduation', 'regalia'], [], ['pregame', 'monsoon'], [], ['join', 'special', 'celebration', 'honor'], [], ['cat'], ['ticket'], ['ticket'], [], ['complimentary', 'graduation', 'regalia'], [], [], ['cat'], [], [], [], ['complimentary', 'graduation', 'regalia'], ['complimentary', 'graduation', 'regalia'], ['pregame', 'monsoon'], ['cat'], ['join', 'special', 'celebration', 'honor'], ['year'], ['complimentary', 'graduation', 'regalia'], ['year'], [], ['join', 'special', 'celebration', 'honor'], ['pregame', 'monsoon'], ['complimentary', 'graduation', 'regalia'], ['cat'], [], ['year'], ['complimentary', 'graduation', 'regalia'], ['cat'], [], ['join', 'special', 'celebration', 'honor'], ['year'], ['cat'], ['luncheon', 'celebrate'], ['year'], ['invite', 'rockin'], [], ['join', 'special', 'celebration', 'honor'], ['join', 'special', 'celebration', 'honor'], [], [], [], ['cat'], [], ['join', 'special', 'celebration', 'honor'], ['cat'], ['free', 'graduation', 'regalia'], [], ['new', 'innovation', 'guideline'], ['new', 'innovation', 'guideline'], ['join', 'special', 'celebration', 'honor'], ['free', 'graduation', 'regalia'], ['free', 'graduation', 'regalia'], [], ['join', 'special', 'celebration', 'honor'], [], ['free', 'graduation', 'regalia'], ['join', 'special', 'celebration', 'honor'], ['cat'], ['new', 'innovation', 'guideline'], ['special', 'luncheon', 'celebrate'], ['join', 'special', 'celebration', 'honor'], ['ticket'], ['free', 'graduation', 'regalia'], ['luncheon', 'celebrate'], ['new', 'innovation', 'guideline'], ['luncheon', 'celebrate'], ['free', 'graduation', 'regalia'], ['legendary', 'champ'], ['new', 'innovation', 'guideline'], ['luncheon', 'celebrate'], ['free', 'graduation', 'regalia'], [], ['announce'], ['new', 'innovation', 'guideline'], ['legendary', 'champ'], ['new', 'innovation', 'guideline'], ['legendary', 'champ'], ['new', 'innovation', 'guideline'], ['new', 'innovation', 'guideline'], ['new', 'innovation', 'guideline'], ['new', 'innovation', 'guideline'], ['welcome', 'check', 'cool', 'movie', 'theater', 'world'], ['new', 'innovation', 'guideline'], ['ticket'], [], ['new', 'innovation', 'guideline'], [], ['legendary', 'champ'], ['new', 'innovation', 'guideline'], [], ['new', 'innovation', 'guideline'], ['legendary', 'champ'], ['legendary', 'champ'], [], ['cat'], ['new', 'innovation', 'guideline'], ['legendary', 'champ'], ['new', 'innovation', 'guideline'], ['legendary', 'champ'], ['new', 'innovation', 'guideline'], ['new', 'innovation', 'guideline'], [], ['new', 'innovation', 'guideline'], ['new', 'innovation', 'guideline'], ['new', 'innovation', 'guideline'], ['sign', 'newsletter'], ['new', 'innovation', 'guideline'], ['new', 'innovation', 'guideline'], ['sign', 'newsletter'], ['come'], ['new', 'innovation', 'guideline'], ['claim', 'complimentary', 'graduation', 'regalia'], ['claim', 'complimentary', 'graduation', 'regalia'], ['new', 'innovation', 'guideline'], ['new', 'innovation', 'guideline'], ['ultimate', 'tailgate', 'party'], ['new', 'innovation', 'guideline'], ['new', 'innovation', 'guideline'], ['new', 'innovation', 'guideline'], ['claim', 'complimentary', 'graduation', 'regalia'], ['tailgate', 'time', 'bust'], ['tailgate', 'time', 'bust'], ['claim', 'complimentary', 'graduation', 'regalia'], ['new', 'innovation', 'guideline'], ['new', 'innovation', 'guideline'], ['claim', 'complimentary', 'graduation', 'regalia'], ['new', 'innovation', 'guideline'], ['legendary', 'champ'], [], ['day'], ['claim', 'complimentary', 'graduation', 'regalia'], ['day'], ['claim', 'complimentary', 'graduation', 'regalia'], [], ['ultimate', 'tailgate', 'party'], ['ultimate', 'tailgate', 'party'], ['reminder', 'claim', 'complimentary', 'graduation', 'regalia'], ['reward'], ['day'], [], ['ultimate', 'tailgate', 'party'], [], [], ['come'], ['school'], ['come'], ['come'], [], ['cat'], [], ['come'], ['day'], [], [], [], ['come'], [], ['come'], ['graduate', 'policy', 'big', 'discount'], ['ultimate', 'tailgate', 'party'], ['ticket'], ['day'], ['come'], ['come'], ['come'], ['join', 'ultimate', 'tailgate', 'party'], ['chance', 'enter'], ['ultimate', 'tailgate', 'party'], ['ultimate', 'tailgate', 'party'], ['ultimate', 'tailgate', 'party'], ['luncheon', 'celebrate'], ['chance', 'enter'], ['chance', 'enter'], ['come'], ['luncheon', 'celebrate'], ['luncheon', 'celebrate'], ['day'], ['day'], ['earn', 'provide', 'feedback', 'website'], ['graduate', 'policy', 'big', 'discount'], ['luncheon', 'celebrate'], ['luncheon', 'celebrate'], ['day'], ['winner'], ['day'], ['luncheon', 'celebrate'], ['ready', 'homecoming'], ['earn', 'provide', 'feedback', 'website'], [], [], ['ready', 'homecoming'], ['ready', 'homecoming'], [], ['flash', 'ticket'], ['bus'], [], ['reward'], [], ['event'], ['flash', 'tix', 'game', 'catalog'], [], ['bus'], [], [], ['flash', 'ticket'], [], ['invite', 'showdown'], ['come'], ['sign', 'newsletter'], ['come'], ['come'], ['come'], ['rollover', 'doughnut'], ['update', 'join', 'meet', 'alum', 'advance', 'computing', 'networking', 'storage', 'system', 'world'], [], ['come'], [], ['come'], ['come'], ['come'], ['come'], [], ['ready', 'homecoming'], ['come'], [], [], ['earn', 'provide', 'feedback', 'website'], [], [], ['bus'], ['come'], [], [], [], ['day'], [], ['come'], ['come'], [], ['flash', 'ticket'], [], ['flash', 'ticket'], ['bus'], ['news'], ['invite', 'showdown'], [], ['news'], ['run'], ['bus'], [], ['news'], ['news'], ['run'], ['bus'], [], ['photo', 'map'], ['bus'], ['sign', 'newsletter'], [], [], [], [], ['news'], ['news'], ['sign', 'newsletter'], ['come'], [], ['sign', 'newsletter'], ['news'], [], [], ['run'], ['sign', 'newsletter'], ['bus'], ['news'], ['bus'], ['news'], ['news'], ['news'], ['news'], ['news'], ['news'], ['news'], ['news'], ['news'], ['news'], ['news'], ['news'], ['news'], ['news'], ['news'], ['news'], ['event'], ['news'], ['event'], ['news'], ['news'], ['news'], ['invite', 'showdown'], ['news'], ['news'], ['news'], ['news'], ['invite', 'showdown'], ['news'], ['news'], ['news'], ['event'], ['news'], ['news'], ['news'], ['talent'], ['news'], ['news'], ['news'], ['news'], ['news'], [], ['rollover', 'doughnut'], ['news'], ['reunite'], ['talent'], ['thank', 'bus'], [], ['talent'], [], ['engineering', 'update', 'join', 'meet', 'alum', 'advance', 'computing', 'networking', 'storage', 'system', 'world'], ['rollover', 'doughnut'], ['join', 'rollover', 'doughnut'], ['news'], ['news'], ['news'], ['news'], ['news'], ['talent'], ['news'], ['ready', 'homecoming'], [], ['rollover', 'doughnut'], [], ['talent'], ['news'], ['earn', 'provide', 'feedback', 'website'], ['news'], ['congratulation', 'nominate', 'join'], ['news'], ['congratulation', 'nominate', 'join'], ['ticket', 'tailgate', 'package'], ['ticket', 'tailgate', 'package'], ['congratulation', 'nominate', 'join'], ['congratulation', 'nominate', 'join'], ['ticket', 'tailgate', 'package'], [], ['news'], ['invite', 'showdown'], ['ready', 'homecoming'], [], ['congratulation', 'nominate', 'join'], ['congratulation', 'nominate', 'join'], ['earn', 'provide', 'feedback', 'website'], ['congratulation', 'nominate', 'join'], ['congratulation', 'nominate', 'join'], [], ['join', 'event'], ['congratulation', 'nominate', 'join'], ['invite', 'succeed', 'global', 'economy'], ['ticket', 'tailgate', 'package'], ['invite', 'succeed', 'global', 'economy'], ['ticket', 'tailgate', 'package'], ['ticket', 'tailgate', 'package'], ['tailgate', 'friend', 'family'], ['invite', 'succeed', 'global', 'economy'], ['invite', 'succeed', 'global', 'economy'], ['invite', 'succeed', 'global', 'economy'], ['score', 'ticket', 'tailgate', 'package'], ['invite', 'succeed', 'global', 'economy'], ['tailgate', 'friend', 'family'], ['invite', 'succeed', 'global', 'economy'], ['ticket', 'tailgate', 'package'], ['tailgate', 'friend', 'family'], ['tailgate', 'friend', 'family'], ['tailgate', 'friend', 'family'], ['reward'], ['ticket', 'tailgate', 'package'], ['tailgate', 'friend', 'family'], ['end', 'tomorrow'], [], [], [], ['exclusive', 'discount', 'course'], ['tailgate', 'friend', 'family'], [], ['tailgate', 'friend', 'family'], [], [], ['tailgate', 'friend', 'family'], ['tailgate', 'friend', 'family'], ['exclusive', 'discount', 'course'], ['exclusive', 'discount', 'course'], ['homecoming', 'tailgate', 'friend', 'family'], ['exclusive', 'discount', 'course'], ['end', 'tomorrow'], ['tailgate', 'friend', 'family'], [], ['end', 'tomorrow'], ['end', 'tomorrow'], ['alumnus', 'discount', 'continue', 'course'], [], ['end', 'tomorrow'], [], ['alumnus', 'discount', 'continue', 'course'], [], ['end', 'tomorrow'], ['end', 'tomorrow'], ['professional', 'skill', 'need', 'wait'], [], [], [], [], [], [], [], [], [], ['alumnus', 'discount', 'continue', 'course'], [], ['professional', 'skill', 'need', 'wait'], [], ['rock', 'house'], [], [], ['rock', 'house'], ['rock', 'house'], ['rock', 'house'], ['rock', 'house'], [], [], [], [], ['chance', 'purchase', 'grad', 'regalia', 'online'], ['chance', 'purchase', 'grad', 'regalia', 'online'], ['event'], ['homecoming', 'tailgate'], ['thought', 'chance', 'win'], [], [], [], ['salute', 'service'], ['watch'], ['event'], ['watch'], ['event'], [], ['chance', 'purchase', 'grad', 'regalia', 'online'], ['come'], [], [], [], ['event'], ['service', 'celebrate', 'serve'], ['service', 'celebrate', 'serve'], [], ['event'], [], ['exciting', 'upcoming', 'native', 'event'], [], ['reward'], [], ['salute', 'service'], [], ['chance', 'purchase', 'grad', 'regalia', 'online'], [], [], ['watch'], ['thought', 'chance', 'win'], [], [], [], ['come'], [], ['come'], ['watch'], [], [], ['event'], [], [], ['exciting', 'upcoming', 'native', 'event'], ['watch'], ['exciting', 'upcoming', 'native', 'event'], [], [], ['share', 'thought', 'chance', 'win'], ['watch'], [], ['exciting', 'upcoming', 'native', 'event'], ['watch'], [], [], ['event'], ['homecoming', 'tailgate'], [], [], ['watch'], ['exciting', 'upcoming', 'native', 'event'], [], [], [], ['watch'], ['special', 'alum'], ['special', 'alum'], ['special', 'alum'], ['thought', 'chance', 'win'], ['chance', 'purchase', 'grad', 'regalia', 'online'], ['thought', 'chance', 'win'], [], ['thought', 'chance', 'win'], ['thought', 'chance', 'win'], ['chance', 'purchase', 'grad', 'regalia', 'online'], ['chance', 'purchase', 'grad', 'regalia', 'online'], ['share', 'thought', 'chance', 'win'], ['ticket'], ['special', 'alum'], ['thought', 'chance', 'win'], ['special', 'alum'], ['thought', 'chance', 'win'], ['thought', 'chance', 'win'], ['thought', 'chance', 'win'], [], ['watch'], ['special', 'alum'], ['chance', 'purchase', 'grad', 'regalia', 'online'], ['thought', 'chance', 'win'], ['special', 'alum'], ['special', 'alum'], ['join', 'exciting', 'upcoming', 'native', 'event'], ['join'], [], [], [], [], ['event'], [], ['exciting', 'event'], [], [], ['come'], ['watch'], ['homecoming'], [], [], [], ['join', 'homecoming', 'tailgate'], ['ticket'], ['join'], [], [], ['special', 'alum'], [], [], [], [], [], [], [], [], [], ['earn', 'provide', 'feedback', 'website'], [], [], [], ['tailgate'], ['reward'], ['chance', 'purchase', 'grad', 'regalia', 'online'], ['key', 'takeaway', 'meeting'], ['key', 'takeaway', 'meeting'], ['key', 'takeaway', 'meeting'], ['key', 'takeaway', 'meeting'], ['key', 'takeaway', 'meeting'], ['save', 'hundred'], ['key', 'takeaway', 'meeting'], ['thought', 'chance', 'win'], ['key', 'takeaway', 'meeting'], ['earn', 'provide', 'feedback', 'website'], ['key', 'takeaway', 'meeting'], ['save', 'hundred'], ['key', 'takeaway', 'meeting'], ['share', 'thought', 'chance', 'win'], [], [], ['key', 'takeaway', 'meeting'], [], [], [], [], ['win', 'cruise'], ['key', 'takeaway', 'meeting'], [], [], [], [], [], ['key', 'takeaway', 'meeting'], [], [], [], ['key', 'takeaway', 'meeting'], ['thought', 'chance', 'win'], ['adore', 'theme', 'holiday', 'event'], ['adore', 'theme', 'holiday', 'event'], [], ['adore', 'theme', 'holiday', 'event'], ['adore', 'theme', 'holiday', 'event'], ['founder', 'day', 'alum', 'honoree'], [], [], ['adore', 'theme', 'holiday', 'event'], ['founder', 'day', 'alum', 'honoree'], ['need', 'know', 'faculty', 'star'], ['share', 'thought', 'chance', 'win'], [], [], [], [], ['founder', 'day', 'alum', 'honoree'], ['founder', 'day', 'honoree'], ['adore', 'theme', 'holiday', 'event'], [], ['reward'], ['free', 'regalia'], ['free', 'regalia'], ['free', 'regalia'], ['miss', 'opportunity', 'land', 'promotion', 'raise'], ['watch'], ['watch'], ['regular', 'season', 'party'], ['reminder', 'share', 'thought', 'chance', 'win'], ['watch'], [], ['alumnus'], [], ['regular', 'season', 'party'], ['innovation', 'year', 'run'], ['innovation', 'year', 'run'], ['free', 'regalia'], ['innovation', 'year', 'run'], [], ['save', 'hundred'], ['founder', 'day', 'honoree'], ['alumnus'], ['free', 'regalia'], ['regular', 'season', 'party'], ['free', 'regalia'], ['free', 'regalia'], ['innovation', 'year', 'run'], ['miss', 'exclusive', 'percent', 'discount', 'professional', 'development'], ['founder', 'day', 'honoree'], ['free', 'regalia'], ['free', 'regalia'], ['watch'], ['miss', 'opportunity', 'land', 'promotion', 'raise'], ['miss', 'exclusive', 'percent', 'discount', 'professional', 'development'], ['innovation', 'year', 'run'], ['care', 'holiday', 'season', 'nominate', 'business'], ['innovation', 'year', 'run'], ['free', 'regalia'], ['free', 'regalia'], [], [], ['care', 'holiday', 'season', 'nominate', 'business'], ['alumnus'], [], ['regular', 'season', 'party'], ['adore', 'theme', 'holiday', 'event'], [], [], ['free', 'regalia'], ['watch'], ['innovation', 'year', 'run'], ['free', 'regalia'], ['watch'], ['free', 'regalia'], ['care', 'holiday', 'season', 'nominate', 'business'], ['free', 'regalia'], ['miss', 'opportunity', 'land', 'promotion', 'raise'], ['adore', 'theme', 'holiday', 'event'], ['free', 'regalia'], [], ['free', 'regalia'], ['miss', 'exclusive', 'percent', 'discount', 'professional', 'development'], ['founder', 'day', 'honoree'], ['innovation', 'year', 'run'], ['need', 'know', 'faculty', 'star'], ['need', 'know', 'faculty', 'star'], ['free', 'regalia'], ['watch'], ['alumnus'], ['travel'], ['miss', 'opportunity', 'land', 'promotion', 'raise'], ['forget', 'pick', 'graduation', 'regalia'], ['forget', 'pick', 'graduation', 'regalia'], ['great', 'success', 'thank'], ['miss', 'opportunity', 'land', 'promotion', 'raise'], ['miss', 'exclusive', 'percent', 'discount', 'professional', 'development'], ['watch'], ['miss', 'exclusive', 'percent', 'discount', 'professional', 'development'], ['regular', 'season', 'party'], ['forget', 'pick', 'graduation', 'regalia'], ['forget', 'pick', 'graduation', 'regalia'], ['watch'], ['travel'], [], ['miss', 'exclusive', 'percent', 'discount', 'professional', 'development'], [], ['travel'], ['forget', 'pick', 'graduation', 'regalia'], [], ['great', 'success', 'thank'], ['forget', 'pick', 'graduation', 'regalia'], [], ['travel'], [], ['great', 'success', 'thank'], ['save', 'travel'], ['watch'], ['care', 'holiday', 'season', 'nominate', 'business'], ['watch'], ['watch'], ['miss', 'exclusive', 'percent', 'discount', 'professional', 'development'], ['alumnus', 'good'], ['watch'], ['luncheon', 'celebrate'], ['miss', 'opportunity', 'land', 'promotion', 'raise'], ['care', 'holiday', 'season', 'nominate', 'business'], [], ['forget', 'pick', 'graduation', 'regalia'], [], ['care', 'holiday', 'season', 'nominate', 'business'], [], ['forget', 'pick', 'graduation', 'regalia'], ['care', 'holiday', 'season', 'nominate', 'business'], ['care', 'holiday', 'season', 'nominate', 'business'], ['watch'], ['miss', 'opportunity', 'land', 'promotion', 'raise'], ['care', 'holiday', 'season', 'nominate', 'business'], ['adore', 'theme', 'holiday', 'event'], ['forget', 'pick', 'graduation', 'regalia'], ['miss', 'exclusive', 'percent', 'discount', 'professional', 'development'], ['watch'], ['care', 'holiday', 'season', 'nominate', 'business'], ['great', 'success', 'thank'], [], [], ['regular', 'season', 'party'], ['alumnus', 'good'], ['professional', 'skill', 'need', 'wait'], [], [], ['miss', 'opportunity', 'land', 'promotion', 'raise'], ['great', 'success', 'thank'], ['earn', 'provide', 'feedback', 'website'], ['alumnus', 'good'], ['claim', 'discount', 'boost', 'skill'], ['miss', 'opportunity', 'land', 'promotion', 'raise'], ['alumnus', 'good'], [], [], ['alumnus', 'good'], ['news'], ['news'], ['mixer'], ['mixer'], [], ['mixer'], ['mixer'], ['mixer'], ['mixer'], ['earn', 'provide', 'feedback', 'website'], [], [], ['news'], ['news'], [], ['news'], [], ['reward'], ['news'], ['news'], ['news'], ['saving'], ['saving'], [], ['good', 'easy', 'place', 'shop'], ['saving'], ['exclusive', 'alumnus'], ['good', 'easy', 'place', 'shop'], [], [], [], [], [], [], [], [], [], ['scholarship', 'fundraiser'], ['share', 'thought', 'chance', 'win'], ['highlight', 'web', 'communication', 'camp'], ['miss', 'opportunity', 'land', 'promotion', 'raise'], ['thought', 'chance', 'win'], ['share', 'thought', 'chance', 'win'], [], ['miss', 'opportunity', 'land', 'promotion', 'raise'], ['saving'], [], ['holiday', 'saving'], [], ['earn', 'provide', 'feedback', 'website'], [], ['reward'], ['earn', 'provide', 'feedback', 'website'], [], ['co', 'creation', 'research'], ['participate', 'co', 'creation', 'research'], ['participate', 'co', 'creation', 'research'], ['big', 'crowd', 'shop', 'catalog'], ['participate', 'co', 'creation', 'research'], ['big', 'crowd', 'shop', 'catalog'], [], ['thought', 'chance', 'win'], ['big', 'crowd', 'shop', 'catalog'], ['big', 'crowd', 'shop', 'catalog'], ['thought', 'chance', 'win'], ['free'], ['celebrate'], ['big', 'crowd', 'shop', 'catalog'], ['big', 'crowd', 'shop', 'catalog'], ['share', 'thought', 'chance', 'win'], ['big', 'crowd', 'shop', 'catalog'], ['alumnus', 'cheer', 'hockey', 'th'], ['free'], ['alumnus', 'cheer', 'hockey', 'th'], ['alumnus', 'cheer', 'hockey', 'th'], ['alumnus', 'cheer', 'hockey', 'th'], ['alumnus', 'cheer', 'hockey', 'th'], ['free'], ['alumnus', 'cheer', 'hockey', 'th'], ['alumnus', 'cheer', 'hockey', 'th'], ['share', 'thought', 'chance', 'win'], ['alumnus', 'cheer', 'hockey', 'th'], ['big', 'crowd', 'shop', 'catalog'], ['big', 'crowd', 'shop', 'catalog'], ['alumnus', 'cheer', 'hockey', 'th'], ['big', 'crowd', 'shop', 'catalog'], ['big', 'crowd', 'shop', 'catalog'], ['big', 'crowd', 'shop', 'catalog'], ['big', 'crowd', 'shop', 'catalog'], ['alumnus', 'cheer', 'hockey', 'th'], ['alumnus', 'cheer', 'hockey', 'th'], ['alumnus', 'cheer', 'hockey', 'th'], ['big', 'crowd', 'shop', 'catalog'], ['reminder', 'participate', 'co', 'creation', 'research'], ['join', 'alumnus', 'cheer', 'hockey', 'th'], ['free'], ['chapter'], [], ['free'], ['power'], ['reward'], ['power'], ['exclusive', 'offer'], [], ['free'], ['reminder', 'share', 'thought', 'chance', 'win'], [], ['free'], ['update', 'season', 'spirit'], [], ['event'], [], ['open'], ['weekend', 'event', 'thank', 'scholarship', 'support'], [], [], ['weekend', 'event', 'thank', 'scholarship', 'support'], [], ['graduate', 'reason', 'save'], [], [], ['miss', 'meeting'], [], [], [], ['event'], ['graduate', 'reason', 'save'], ['event'], [], [], [], ['graduate', 'reason', 'save'], ['miss', 'meeting'], ['score'], ['reminder', 'participate', 'co', 'creation', 'research'], [], [], ['bowl', 'bind'], ['weekend', 'event', 'thank', 'scholarship', 'support'], ['reward', 'home', 'holiday'], ['weekend', 'event', 'thank', 'scholarship', 'support'], [], ['bowl', 'bind'], ['bowl', 'bind'], ['chapter'], ['chapter'], [], [], [], [], [], [], [], ['engineering', 'update', 'season', 'spirit'], [], [], ['weekend', 'event', 'thank', 'scholarship', 'support'], [], [], ['open'], [], ['bowl', 'bind'], ['power'], ['open'], ['event'], [], [], [], ['open'], ['open'], [], [], [], ['open'], ['reminder', 'participate', 'co', 'creation', 'research'], ['chapter'], ['open'], [], [], ['weekend', 'event', 'thank', 'scholarship', 'support'], ['graduate', 'reason', 'save'], ['marcom', 'score'], ['marcom', 'score'], ['special', 'day', 'grad', 'secret', 'word'], [], [], [], ['reminder', 'share', 'thought', 'chance', 'win'], [], ['reward'], ['special', 'day', 'grad', 'secret', 'word'], ['reminder', 'share', 'thought', 'chance', 'win'], [], [], [], ['marcom', 'score'], ['marcom', 'score'], ['marcom', 'score'], ['marcom', 'score'], ['marcom', 'score'], [], [], ['marcom', 'score'], ['marcom', 'score'], ['reminder', 'share', 'thought', 'chance', 'win'], ['new', 'alumnus'], [], ['new', 'alumnus'], [], ['reward'], [], [], [], [], [], [], [], [], ['reminder', 'share', 'thought', 'chance', 'win'], [], ['reward'], [], ['reminder', 'share', 'thought', 'chance', 'win'], ['holiday', 'greeting'], [], ['holiday', 'greeting'], [], [], [], ['reward'], ['holiday', 'greeting'], [], ['reminder', 'share', 'thought', 'chance', 'win'], [], ['perfect', 'gift', 'grad'], ['newsletter'], ['perfect', 'gift', 'grad'], ['pride', 'percent', 'merchandise'], ['perfect', 'gift', 'grad'], ['newsletter'], [], ['newsletter'], ['join'], ['newsletter'], ['miss'], ['newsletter'], ['newsletter'], ['newsletter'], ['pride', 'percent', 'merchandise'], ['pride', 'percent', 'merchandise'], ['perfect', 'gift', 'grad'], [], ['newsletter'], [], ['miss'], ['miss'], ['perfect', 'gift', 'grad'], ['alumnus', 'newsletter'], ['newsletter'], ['newsletter'], [], ['newsletter'], ['newsletter'], ['perfect', 'gift', 'grad'], ['newsletter'], ['newsletter'], ['newsletter'], [], ['perfect', 'gift', 'grad'], ['newsletter'], ['newsletter'], ['newsletter'], ['newsletter'], ['newsletter'], [], [], ['perfect', 'gift', 'grad'], ['newsletter'], ['newsletter'], ['newsletter'], ['newsletter'], ['newsletter'], ['networking'], ['newsletter'], ['newsletter'], ['perfect', 'gift', 'grad'], ['perfect', 'gift', 'grad'], ['pride', 'percent', 'merchandise'], ['networking'], ['chance'], ['chance'], ['chance'], ['networking'], ['career', 'new', 'year'], ['want', 'know', 'entrepreneur'], ['want', 'know', 'entrepreneur'], ['career', 'new', 'year'], ['career', 'new', 'year'], ['career', 'new', 'year'], ['want', 'know', 'entrepreneur'], ['want', 'know', 'entrepreneur'], ['career', 'new', 'year'], ['career', 'new', 'year'], ['postgrad', 'life'], ['discount', 'code'], ['career', 'new', 'year'], ['career', 'new', 'year'], ['reward'], ['want', 'know', 'entrepreneur'], ['postgrad', 'life'], ['discount', 'code'], ['set'], ['set'], ['postgrad', 'life'], ['career', 'new', 'year'], ['set'], ['want', 'know', 'entrepreneur'], [], ['discount', 'code'], ['legacy'], ['set'], ['set'], ['discount', 'code', 'alumnus'], ['want', 'know', 'entrepreneur'], [], ['career', 'new', 'year'], ['career', 'new', 'year'], ['career', 'new', 'year'], ['healthy', 'wealthy', 'new'], ['career', 'new', 'year'], ['career', 'new', 'year'], ['boost', 'brand', 'iq'], [], ['slam', 'dunk', 'want', 'miss'], ['slam', 'dunk', 'want', 'miss'], [], ['career', 'new', 'year'], ['postgrad', 'life'], ['slam', 'dunk', 'want', 'miss'], ['healthy', 'wealthy', 'new'], ['postgrad', 'life'], ['postgrad', 'life'], ['brand', 'iq'], ['career', 'new', 'year'], ['set'], ['boost', 'brand', 'iq'], ['career', 'new', 'year'], ['postgrad', 'life'], [], [], ['set'], ['postgrad', 'life'], ['boost', 'brand', 'iq'], ['welcome', 'postgrad', 'life'], ['postgrad', 'life'], ['double'], ['new', 'boost', 'brand', 'iq'], ['boost', 'brand', 'iq'], ['double'], ['postgrad', 'life'], ['boost', 'brand', 'iq'], ['double'], ['boost', 'brand', 'iq'], ['healthy', 'wealthy', 'new'], ['boost', 'brand', 'iq'], ['boost', 'brand', 'iq'], ['boost', 'brand', 'iq'], ['double'], ['postgrad', 'life'], ['postgrad', 'life'], ['postgrad', 'life'], ['present', 'university', 'vision', 'future'], ['double'], ['double'], ['career', 'new', 'year'], ['news', 'shot', 'ticket'], ['kickstart', 'career', 'new', 'year'], ['career', 'new', 'year'], ['career', 'new', 'year'], ['career', 'new', 'year'], ['double'], ['double'], ['double'], ['day'], ['double'], ['double'], ['double'], [], ['double'], ['double'], ['news'], ['offer'], ['double'], ['th'], ['update', 'join', 'early', 'spring', 'event'], ['chapter', 'activity'], [], [], [], ['reward'], ['merchandise', 'end'], ['merchandise', 'end'], ['reward'], [], ['basketball', 'player', 'head', 'wine', 'care', 'support', 'scholarship'], ['merchandise', 'end'], ['basketball', 'player', 'head', 'wine', 'care', 'support', 'scholarship'], ['alumnus', 'chapter', 'newsletter'], ['chapter', 'activity'], ['join'], [], [], ['level', 'donation'], ['merchandise', 'end'], ['alumnus', 'chapter', 'newsletter'], [], ['join'], ['merchandise', 'end'], ['basketball', 'player', 'head', 'wine', 'care', 'support', 'scholarship'], ['join'], ['day', 'away'], ['merchandise', 'end'], ['chapter', 'activity'], ['graduate', 'policy', 'big', 'discount'], [], ['alumnus', 'chapter', 'newsletter'], [], ['day', 'away'], ['sparky', 'level', 'donation'], ['basketball', 'player', 'head', 'wine', 'care', 'support', 'scholarship'], ['sparky', 'level', 'donation'], [], ['day', 'away'], ['career', 'kickstart', 'summit', 'day', 'away'], ['join'], ['th'], ['th'], [], ['merchandise', 'end'], ['th'], ['update', 'join', 'early', 'spring', 'event'], ['update', 'join', 'early', 'spring', 'event'], [], [], ['basketball', 'player', 'head', 'wine', 'care', 'support', 'scholarship'], ['merchandise', 'end'], ['merchandise', 'end'], ['chapter', 'activity'], ['merchandise', 'end'], [], ['graduate', 'policy', 'big', 'discount'], ['update', 'join', 'early', 'spring', 'event'], [], [], [], ['join'], ['new', 'newsletter', 'template'], [], ['engineering', 'update', 'join', 'early', 'spring', 'event'], ['reward'], ['fun', 'free'], ['fun', 'free'], ['join'], ['fun', 'free'], ['reward'], ['reward'], ['special', 'discussion', 'week'], ['fun', 'free'], ['special', 'discussion', 'week'], ['special', 'discussion', 'week'], ['join'], ['special', 'discussion', 'week'], ['special', 'discussion', 'week'], ['special', 'discussion', 'week'], ['fun', 'free'], ['special', 'discussion', 'week'], ['special', 'discussion', 'week'], ['reward'], ['fun', 'free'], ['fun', 'free'], ['fun', 'free'], ['fun', 'free'], ['fun', 'free'], ['chance', 'want', 'know', 'entrepreneur'], ['faculty', 'staff', 'want', 'pitchfork'], ['news'], ['news'], ['news'], ['join'], ['faculty', 'staff', 'want', 'pitchfork'], ['join'], ['invite', 'event', 'want', 'miss'], ['news'], ['chapter'], ['news'], ['faculty', 'staff', 'want', 'pitchfork'], ['news'], ['faculty', 'staff', 'want', 'pitchfork'], ['news'], ['faculty', 'staff', 'want', 'pitchfork'], ['news'], ['faculty', 'staff', 'want', 'pitchfork'], ['faculty', 'staff', 'want', 'pitchfork'], ['chance', 'merchandise', 'end'], ['online', 'research', 'study'], ['participate', 'online', 'research', 'study'], ['event', 'want', 'miss'], ['reward'], ['participate', 'online', 'research', 'study'], ['online', 'research', 'study'], ['online', 'research', 'study'], ['chance', 'merchandise', 'end'], ['faculty', 'staff', 'want', 'pitchfork'], ['chance', 'merchandise', 'end'], ['line'], ['faculty', 'staff', 'want', 'pitchfork'], [], ['line'], ['chance', 'merchandise', 'end'], ['event', 'want', 'miss'], [], ['line'], ['line'], ['line'], ['line'], [], [], ['line'], ['event', 'want', 'miss'], ['line'], ['line'], ['line'], [], ['event', 'want', 'miss'], ['thought', 'earn', 'tumbler', 'pitchfork'], ['line'], ['line'], ['line'], ['line'], ['chance', 'merchandise', 'end'], ['network', 'inspire'], ['event', 'want', 'miss'], ['network', 'inspire'], ['thought', 'earn', 'tumbler', 'pitchfork'], ['event', 'want', 'miss'], ['event', 'want', 'miss'], ['network', 'inspire'], [], [], [], ['event', 'want', 'miss'], ['participate', 'online', 'research', 'study'], ['congratulation', 'invite', 'day'], ['reminder', 'participate', 'online', 'research', 'study'], ['congratulation', 'invite', 'day'], ['happy'], [], [], ['event', 'want', 'miss'], [], ['network', 'inspire'], ['event', 'want', 'miss'], [], [], [], [], ['run'], [], [], ['day'], [], [], [], [], ['present', 'university', 'vision', 'future'], [], ['chapter', 'gear'], ['reward'], ['chapter', 'gear'], ['chapter', 'gear'], [], ['join'], ['news'], ['chapter', 'gear'], ['ready', 'large', 'leadership', 'role'], ['free'], ['chapter', 'gear'], ['chapter', 'gear'], ['chapter', 'gear'], ['engage', 'network', 'inspire'], ['ready', 'large', 'leadership', 'role'], ['chapter'], ['ready', 'large', 'leadership', 'role'], ['reminder', 'share', 'thought', 'chance', 'win'], ['news'], ['news'], ['chapter'], ['run'], ['ready', 'large', 'leadership', 'role'], ['chapter', 'gear'], ['news'], [], ['ready', 'large', 'leadership', 'role'], ['chapter'], ['news'], [], ['campus'], ['share', 'thought', 'chance', 'win'], ['chapter', 'gear'], ['news'], ['campus'], ['news'], ['news'], [], [], ['join', 'run'], [], ['campus'], ['share', 'thought', 'chance', 'win'], ['ready', 'large', 'leadership', 'role'], [], ['invite', 'kind', 'leadership', 'program'], ['share', 'thought', 'chance', 'win'], ['door', 'ticket'], ['ticket'], ['reward'], ['ticket'], ['graduate', 'policy', 'big', 'discount'], ['campus'], ['door', 'ticket'], ['miss', 'deadline'], ['miss', 'deadline'], ['free', 'campus'], ['miss'], ['miss', 'deadline'], ['share', 'thought', 'chance', 'win'], ['miss'], ['graduate', 'policy', 'big', 'discount'], ['reminder', 'share', 'thought', 'chance', 'win'], ['week', 'story'], ['miss'], ['miss'], ['miss'], ['miss'], [], ['new', 'boost', 'brand', 'iq'], [], ['new', 'boost', 'brand', 'iq'], ['campus'], [], [], ['miss'], ['new', 'boost', 'brand', 'iq'], ['free', 'campus'], ['go', 'game'], ['miss', 'deadline'], ['go', 'game'], ['go', 'game'], ['go', 'game'], ['new', 'boost', 'brand', 'iq'], ['go', 'game'], ['new', 'boost', 'brand', 'iq'], ['go', 'game'], ['join', 'campus'], ['miss'], ['free', 'campus'], ['go', 'game'], ['join', 'campus'], ['go', 'game'], ['miss'], ['go', 'game'], ['miss', 'deadline'], ['story'], ['story'], ['go', 'game'], ['miss', 'deadline'], ['campus'], ['story'], ['free', 'graduation', 'regalia'], [], ['claim', 'complimentary', 'graduation', 'regalia'], ['run', 'time'], ['care', 'month', 'care'], ['go', 'game'], ['go', 'game'], ['free', 'graduation', 'regalia'], ['care', 'month', 'care'], ['mark', 'calendar', 'marketing', 'event', 'summer'], ['claim', 'complimentary', 'graduation', 'regalia'], ['ready', 'large', 'leadership', 'role'], ['watching'], ['story'], ['watching'], ['mark', 'calendar', 'marketing', 'event', 'summer'], ['new', 'boost', 'brand', 'iq'], ['watching'], ['story'], ['mark', 'calendar', 'marketing', 'event', 'summer'], ['mark', 'calendar', 'marketing', 'event', 'summer'], ['want', 'know', 'entrepreneur'], ['mark', 'calendar', 'marketing', 'event', 'summer'], ['care'], ['story'], ['spring', 'engineering', 'opportunity'], ['event', 'want', 'miss'], ['story'], ['new', 'boost', 'brand', 'iq'], ['reward'], ['miss', 'deadline'], ['chapter', 'event'], ['chapter', 'event'], ['mark', 'calendar', 'marketing', 'event', 'summer'], ['care'], ['mark', 'calendar', 'marketing', 'event', 'summer'], ['care'], ['care'], ['claim', 'complimentary', 'graduation', 'regalia'], ['care', 'month', 'care'], ['care', 'month', 'care'], ['care'], ['care', 'month', 'care'], ['care'], ['watching'], ['free', 'graduation', 'regalia'], ['free', 'graduation', 'regalia'], ['new', 'boost', 'brand', 'iq'], ['story'], ['watching'], ['go', 'game'], [], ['network', 'inspire'], ['care', 'month', 'care'], ['miss'], ['chapter', 'event'], ['run', 'time'], [], ['free', 'graduation', 'regalia'], ['free', 'graduation', 'regalia'], ['free', 'graduation', 'regalia'], ['free', 'graduation', 'regalia'], ['chapter', 'event'], ['free', 'graduation', 'regalia'], ['founder', 'day'], ['free', 'graduation', 'regalia'], ['claim', 'free', 'graduation', 'regalia'], ['run', 'time'], ['alumnus', 'news'], ['claim', 'complimentary', 'graduation', 'regalia'], ['claim', 'complimentary', 'graduation', 'regalia'], ['founder', 'day'], ['founder', 'day'], ['alumnus', 'news'], ['care'], ['care'], ['claim', 'complimentary', 'graduation', 'regalia'], ['claim', 'complimentary', 'graduation', 'regalia'], [], ['care'], ['care', 'month', 'care'], ['care'], ['alumnus', 'news'], ['check', 'spring', 'engineering', 'opportunity'], ['join', 'founder', 'day'], ['care', 'watching'], ['chapter', 'event'], ['celebrate', 'day'], ['alumnus', 'news'], ['alumnus', 'news'], ['alumnus', 'news'], ['founder', 'day'], ['alumnus', 'news'], ['alumnus', 'news'], ['news', 'let', 'know'], ['claim', 'complimentary', 'graduation', 'regalia'], ['alumnus', 'news'], ['alumnus', 'news'], ['alumnus', 'news'], ['reminder', 'claim', 'complimentary', 'graduation', 'regalia'], ['discount', 'come'], ['news', 'let', 'know'], ['news', 'let', 'know'], ['news', 'let', 'know'], ['discount', 'come'], ['alumnus', 'news'], ['news', 'let', 'know'], ['alumnus', 'news'], ['reward'], ['news', 'let', 'know'], ['alumnus', 'news'], ['alumnus', 'news'], ['discount', 'come'], ['discount', 'come'], ['news', 'let', 'know'], ['alumnus', 'news'], [], [], ['get', 'news', 'let', 'know'], [], ['alumnus', 'news'], ['alumnus', 'news'], [], ['discount', 'come'], ['mark', 'calendar', 'marketing', 'event', 'summer'], ['discount', 'come'], ['mix', 'mingle', 'land', 'dream', 'job'], ['discount', 'come'], ['mix', 'mingle', 'land', 'dream', 'job'], ['mark', 'calendar', 'marketing', 'event', 'summer'], ['discount', 'come'], ['mark', 'calendar', 'marketing', 'event', 'summer'], ['discount', 'come'], [], ['discount', 'come'], ['alumnus', 'news'], ['discount', 'come'], ['discount', 'come'], ['discount', 'come'], ['discount', 'come'], ['discount', 'come'], ['let'], ['find', 'secret', 'word'], ['mix', 'mingle', 'land', 'dream', 'job'], ['social', 'know', 'hot', 'reward'], ['mix', 'mingle', 'land', 'dream', 'job'], ['easy', 'way', 'reward'], ['easy', 'way', 'reward'], ['earn', 'pitchfork', 'minute'], ['mix', 'mingle', 'land', 'dream', 'job'], ['care'], ['care'], ['mix', 'mingle', 'land', 'dream', 'job'], ['mix', 'mingle', 'land', 'dream', 'job'], ['mix', 'mingle', 'land', 'dream', 'job'], ['pitchfork', 'away'], ['care'], ['find', 'secret', 'word'], ['earn', 'pitchfork', 'minute'], ['pitchfork', 'tip', 'bank'], ['gift', 'change', 'life'], ['inside', 'way', 'earn', 'pitchfork'], ['pitchfork', 'tip', 'bank'], ['free', 'graduation', 'regalia'], [], ['reminder', 'share', 'thought', 'chance', 'win'], [], [], [], ['mix', 'mingle', 'land', 'dream', 'job'], [], [], [], ['gift', 'change', 'life'], ['care', 'watching'], [], ['gift', 'change', 'life'], ['exclusive', 'invite', 'mountain'], ['tasting'], ['get', 'ticket', 'wild'], ['reminder', 'share', 'thought', 'chance', 'win'], [], ['ready', 'large', 'leadership', 'role'], ['reminder', 'share', 'thought', 'chance', 'win'], ['miss', 'deadline'], ['free', 'mindfulness', 'course', 'alum'], ['invite', 'mountain'], ['campus'], ['get', 'ticket', 'wild'], ['get', 'ticket', 'wild'], [], ['watching'], ['ticket'], ['invite', 'mountain'], ['get', 'ticket', 'wild'], [], ['reward'], [], ['get', 'ticket', 'wild'], ['get', 'ticket', 'wild'], ['care'], ['campus'], ['get', 'ticket', 'wild'], ['network', 'inspire'], ['get', 'ticket', 'wild'], ['annual', 'food'], ['tasting'], ['miss'], ['invite', 'mountain'], ['watching'], ['news', 'let', 'know'], ['annual', 'food'], ['miss'], ['annual', 'food'], ['get', 'ticket', 'wild'], ['fun', 'free'], ['tasting'], ['watching'], [], ['register', 'free', 'mindfulness', 'course', 'alum'], [], ['invite', 'mountain'], ['honor', 'alumnus', 'innovator', 'entrepreneur'], [], ['tasting'], [], [], ['reminder', 'share', 'thought', 'chance', 'win'], ['watching'], ['get', 'ticket', 'wild'], [], [], [], [], ['invite', 'mountain'], ['reward'], ['discount'], ['sale'], ['sale'], ['gift', 'change', 'life'], ['gift', 'change', 'life'], ['power', 'network'], ['gift', 'change', 'life'], ['gift', 'change', 'life'], ['honor', 'alumnus', 'innovator', 'entrepreneur'], ['discount'], ['gift', 'change', 'life'], ['discount'], ['power', 'network'], ['power', 'network'], ['discount'], ['discount'], ['discount'], ['share', 'thought', 'chance', 'win'], ['gift', 'change', 'life'], ['power', 'network'], ['power', 'network'], ['reminder', 'share', 'thought', 'chance', 'win'], ['honor', 'alumnus', 'innovator', 'entrepreneur'], ['power', 'network'], [], [], ['harness', 'power', 'network'], ['email'], ['honor', 'alumnus', 'innovator', 'entrepreneur'], ['share', 'thought', 'chance', 'win'], ['end', 'soon'], ['honor', 'alumnus', 'innovator', 'entrepreneur'], ['register', 'celebration'], ['end', 'soon'], ['exclusive', 'offer', 'alumnus'], ['honor', 'alumnus', 'innovator', 'entrepreneur'], ['end', 'soon'], [], [], ['care'], [], ['event'], ['exclusive', 'offer', 'alumnus'], ['event'], [], ['register', 'celebration'], ['end', 'soon'], ['date'], [], ['event'], ['end', 'soon'], [], [], ['area'], [], ['end', 'soon'], ['share', 'thought', 'chance', 'win'], ['care'], ['end', 'soon'], [], ['run'], [], ['reward'], ['involve', 'spring'], ['event'], [], ['give'], ['end', 'soon'], ['register', 'celebration'], ['end', 'soon'], ['event'], ['newsletter'], ['news'], ['give'], ['end', 'soon'], ['care', 'event', 'softball', 'baseball'], [], ['news'], [], ['spring', 'ceremony'], ['join', 'honor', 'alumnus', 'innovator', 'entrepreneur'], ['run'], [], ['exclusive', 'offer', 'alumnus'], ['news'], [], ['share', 'thought', 'chance', 'win'], [], [], ['share', 'thought', 'chance', 'win'], [], ['share', 'thought', 'chance', 'win'], ['difference'], [], [], [], ['difference'], [], [], [], ['area'], ['area'], ['give'], [], ['area'], [], [], [], ['difference'], ['share', 'thought', 'chance', 'win'], ['share', 'thought', 'chance', 'win'], [], ['feature', 'marketing', 'ace'], ['date', 'event'], ['area'], ['join', 'area'], [], [], ['event'], [], ['event'], ['event'], ['date', 'event'], ['newsletter'], ['area'], [], [], ['alumnus', 'news'], ['dinner', 'give'], ['news'], [], ['event'], ['event'], ['date'], ['care'], ['date', 'event'], ['care', 'event', 'softball', 'baseball'], ['care'], ['template'], ['care'], ['feature', 'marketing', 'ace'], [], [], ['date', 'event'], ['involve', 'spring'], ['difference'], ['join', 'spring', 'ceremony'], ['newsletter'], ['newsletter'], ['event'], ['newsletter'], ['activity'], ['care'], ['event'], ['event'], ['feature', 'marketing', 'ace'], ['care'], ['feature', 'marketing', 'ace'], ['time', 'run'], ['feature', 'marketing', 'ace'], ['care'], ['feature', 'marketing', 'ace'], ['news'], ['event'], ['feature', 'marketing', 'ace'], ['find', 'ideal', 'career', 'civilian', 'workforce'], ['event'], ['time', 'run'], ['feature', 'marketing', 'ace'], [], ['join', 'toast'], ['news'], ['feature', 'marketing', 'ace'], ['feature', 'marketing', 'ace'], ['reward'], ['alumnus', 'news'], ['news'], ['toast'], [], ['date', 'event'], ['save', 'date', 'event'], ['event'], ['find', 'ideal', 'career', 'civilian', 'workforce'], ['care'], ['find', 'ideal', 'career', 'civilian', 'workforce'], ['feature', 'marketing', 'ace'], ['feature', 'marketing', 'ace'], [], [], ['feature', 'marketing', 'ace'], ['find', 'ideal', 'career', 'civilian', 'workforce'], ['event'], ['event'], ['alumnus', 'news'], ['toast'], ['find', 'ideal', 'career', 'civilian', 'workforce'], ['alumnus', 'news'], ['alumnus', 'gather', 'cheer', 'hockey'], ['alumnus', 'gather', 'cheer', 'hockey'], ['sign'], ['alumnus', 'gather', 'cheer', 'hockey'], [], ['alumnus', 'news'], ['alumnus', 'news'], ['feature', 'marketing', 'ace'], ['upcoming', 'event'], [], ['feature', 'marketing', 'ace'], ['feature', 'marketing', 'ace'], ['alumnus', 'news'], ['day'], ['day'], ['day'], ['day'], ['day'], ['chance', 'purchase', 'grad', 'regalia', 'online'], ['chance', 'purchase', 'grad', 'regalia', 'online'], [], ['event'], [], ['area'], [], ['tasting'], ['free', 'mindfulness', 'course', 'alum'], [], [], [], ['give'], ['care', 'month', 'care'], ['spring', 'ceremony'], ['set', 'save'], [], [], ['chance', 'purchase', 'grad', 'regalia', 'online'], ['care'], [], [], ['newsletter'], [], ['day'], ['involve', 'spring'], ['annual', 'food'], [], ['set', 'save'], ['reward'], [], ['new', 'custom', 'tee'], ['new', 'custom', 'tee'], ['know', 'reward', 'account'], ['new', 'custom', 'tee'], ['set', 'save'], ['chance', 'purchase', 'grad', 'regalia', 'online'], ['set', 'save'], ['ticket'], ['mix', 'mingle', 'land', 'dream', 'job'], ['new', 'custom', 'tee'], ['difference'], ['care'], ['discount', 'come'], ['set', 'save'], ['day'], ['late', 'register'], ['day'], ['set', 'save'], ['kid'], ['set', 'save'], [], ['discount', 'come'], ['honor', 'alumnus', 'innovator', 'entrepreneur'], ['founder', 'day'], ['register', 'celebration'], ['story'], ['ready', 'set', 'save'], ['invite', 'mountain'], ['find', 'ideal', 'career', 'civilian', 'workforce'], ['free', 'graduation', 'regalia'], ['kid'], ['register', 'celebration'], [], ['gift', 'change', 'life'], ['news', 'let', 'know'], ['announce', 'devil'], ['invite', 'leadership', 'program', 'info', 'session'], ['dig', 'kid'], ['ticket'], ['day'], ['ticket'], ['pick', 'free', 'regalia'], ['update'], [], ['thank', 'day'], ['announce', 'devil'], ['free', 'regalia'], ['share', 'thought', 'chance', 'win'], ['invite', 'leadership', 'program', 'info', 'session'], ['devil', 'update'], ['late', 'register'], ['announce', 'devil'], ['announce', 'devil'], [], [], ['invite', 'leadership', 'program', 'info', 'session'], ['alumnus', 'ticket'], ['sign'], [], ['join', 'area'], ['apology'], [], ['special', 'invitation'], ['digital', 'magazine'], ['graduate', 'reason', 'save'], ['graduate', 'reason', 'save'], ['reward'], ['late', 'register'], ['chance', 'shirt'], ['graduate', 'reason', 'save'], ['share', 'thought', 'chance', 'win'], ['chance', 'miss'], ['late', 'register'], ['chance', 'miss'], ['special', 'invitation'], ['chance', 'shirt'], ['golf'], ['celebration', 'showcase', 'innovation'], ['golf'], ['special', 'invitation'], ['continue'], ['success'], ['celebration', 'showcase', 'innovation'], ['golf'], ['golf'], ['celebration', 'honor'], ['golf'], ['impression', 'region', 'tracking'], ['celebration', 'showcase', 'innovation'], ['continue'], ['continue'], ['learning', 'care', 'career'], ['spring', 'ceremony'], ['continue'], ['learning', 'care', 'career'], ['late', 'register'], ['continue'], ['continue'], ['late', 'register'], ['share', 'thought', 'chance', 'win'], ['continue'], ['continue', 'learn', 'care', 'career'], ['free', 'golf'], ['success'], ['continue'], ['humor', 'insight', 'creativity', 'find'], ['humor', 'insight', 'creativity', 'find'], ['humor', 'insight', 'creativity', 'find'], ['event'], ['pricing', 'extend', 'devil'], ['update', 'attend', 'mixer'], ['event'], ['reward'], ['reward'], ['lifelong', 'learn', 'pilot', 'program'], ['event'], ['share', 'thought', 'chance', 'win'], ['news'], ['event'], ['share', 'thought', 'chance', 'win'], ['thank'], ['event'], ['thought', 'chance', 'win'], ['priority', 'access'], ['lifelong', 'learn', 'pilot', 'program'], ['lifelong', 'learn', 'pilot', 'program'], ['priority', 'access'], [], [], ['lifelong', 'learn', 'pilot', 'program'], [], ['event'], ['news'], ['sign'], ['engineering', 'update', 'attend', 'mixer'], ['share', 'thought', 'chance', 'win'], ['early', 'pricing', 'extend', 'devil'], ['event'], ['share', 'thought', 'chance', 'win'], ['impression', 'region', 'tracking'], ['impression', 'region', 'tracking'], ['career', 'course'], ['impression', 'region', 'tracking'], [], [], [], [], [], ['alumnus', 'news'], ['reward'], ['jump', 'event'], ['alumnus', 'news'], ['event'], ['alumnus', 'news'], ['alumnus', 'news'], ['skill', 'course'], ['alumnus', 'news'], ['success'], ['boost', 'career', 'wait'], ['great', 'success', 'course'], ['need', 'send', 'summer'], ['course', 'forever'], ['success', 'course'], ['need', 'send', 'summer'], ['great', 'success', 'course'], ['chance', 'devil'], ['mean', 'missed', 'opportunity'], ['need', 'send', 'summer'], ['need', 'send', 'summer'], [], ['career', 'course'], [], ['reward'], ['priority', 'access'], ['skill', 'course'], ['career', 'course'], ['launch', 'career', 'course'], ['great', 'success', 'course'], ['hone', 'skill', 'course'], ['great', 'success', 'course'], ['course', 'forever'], ['course', 'boost', 'career', 'wait'], ['realize', 'great', 'success', 'course'], ['success', 'course'], ['secure', 'success', 'course'], ['career', 'course'], ['recap'], ['course', 'forever'], ['miss', 'mean', 'missed', 'opportunity'], ['skill', 'course'], ['set', 'success'], ['boost', 'career', 'wait'], ['great', 'success', 'course'], ['jump', 'event'], ['career', 'course'], ['event'], ['chapter', 'event'], ['golfing', 'event', 'support', 'scholarship'], [], ['devil'], ['event'], ['devil'], ['graduation'], ['need', 'send', 'summer'], ['news'], ['news'], ['host', 'need', 'send', 'summer'], ['chapter', 'event'], ['superpower'], ['chance', 'devil'], ['chapter', 'event'], ['devil'], ['superpower'], [], ['recap'], ['need', 'send', 'summer'], ['superpower'], ['news'], ['jump', 'event'], ['superpower'], ['superpower'], ['superpower'], ['host', 'need', 'send', 'summer'], ['chance', 'devil'], ['superpower'], ['news'], ['chapter', 'event'], ['steak', 'golf', 'mountain', 'support', 'scholarship'], ['special', 'day', 'grad', 'secret', 'word'], ['special', 'day', 'grad', 'secret', 'word'], ['reward'], ['special', 'day', 'grad', 'secret', 'word'], ['special', 'day', 'grad', 'secret', 'word'], ['special', 'day', 'grad', 'secret', 'word'], ['earn', 'pitchfork', 'minute'], [], ['new', 'student', 'family'], ['new', 'student', 'family'], ['new', 'student', 'family'], ['new', 'student', 'family'], ['new', 'student', 'family'], ['new', 'student', 'family'], ['new', 'student', 'family'], ['new', 'student', 'family'], ['new', 'student', 'family'], ['new', 'student', 'family'], [], ['new', 'student', 'family'], [], ['event'], ['international', 'alumnus', 'breakfast'], ['welcome', 'new', 'student', 'family'], ['new', 'student', 'family'], ['chance', 'devil'], ['new', 'student', 'family'], [], ['news'], ['need', 'send', 'summer'], ['recap'], ['need', 'send', 'summer'], ['new', 'student', 'family'], ['jump', 'event'], ['international', 'alumnus', 'breakfast'], ['join', 'international', 'alumnus', 'breakfast'], ['graduate', 'policy', 'big', 'discount'], ['graduate', 'policy', 'big', 'discount'], ['international', 'alumnus', 'breakfast'], [], [], [], [], [], [], [], [], [], [], [], [], [], [], [], [], [], [], [], [], [], [], [], [], [], [], ['happy', 'birthday'], [], [], [], [], ['co', 'creation', 'research'], ['meal', 'campus'], ['meal', 'campus'], ['happy', 'birthday'], ['happy', 'birthday'], ['happy', 'birthday'], ['service'], ['service', 'sorority'], [], ['special', 'interest', 'convocation'], [], ['graduation', 'edition'], ['graduation', 'edition'], ['fall', 'highlight', 'edition'], [], [], ['team', 'make', 'wave', 'desert'], ['team', 'make', 'wave', 'desert'], ['graduation', 'edition'], ['heat'], [], [], [], [], ['join', 'microchippe', 'employee'], [], [], [], [], [], ['student', 'work', 'prevent', 'youth', 'suicide'], ['team', 'make', 'wave', 'desert'], ['team', 'advance', 'pitch', 'competition'], [], ['join', 'microchippe', 'employee'], [], [], ['correction', 'join', 'microchippe', 'employee'], [], ['heat'], ['correction', 'join', 'microchippe', 'employee'], [], ['invite'], [], [], [], [], [], ['grand', 'opening'], [], ['story', 'day'], [], ['change', 'gather', 'innovator'], ['student', 'raise', 'fund', 'scholarship'], ['celebrate'], [], [], ['wait'], [], [], [], [], [], ['participate', 'co', 'creation', 'research'], ['participate', 'co', 'creation', 'research'], ['happy', 'birthday'], [], ['happy', 'birthday'], ['happy', 'birthday'], [], ['dozen', 'marketing', 'dazzle'], ['woman', 'hero'], ['change'], [], [], [], [], [], [], [], [], [], [], [], [], [], ['team', 'make', 'wave', 'desert'], ['heat'], ['heat'], [], ['student', 'pay', 'forward'], [], [], [], [], [], [], [], [], [], ['change', 'gather', 'innovator'], ['outing'], ['involve'], ['event'], ['reward'], ['happen', 'chapter'], ['update', 'meet', 'new', 'class'], [], [], ['student'], [], [], [], ['graduation', 'edition'], [], [], ['school'], [], [], ['happen', 'chapter'], ['graduate', 'policy', 'big', 'discount'], ['happen', 'chapter'], ['happen', 'chapter'], ['school'], ['happen', 'chapter'], ['happen', 'chapter'], ['great', 'success', 'thank'], ['happen', 'chapter'], [], ['legendary', 'champ'], [], ['register', 'outing'], ['invite', 'international', 'alumnus', 'networking', 'event'], ['engineering', 'update', 'meet', 'new', 'class'], ['involved'], ['happen', 'chapter'], ['event'], ['grad', 'exclusive', 'discount', 'product'], ['grad', 'exclusive', 'discount', 'product'], ['grad', 'exclusive', 'discount', 'product'], [], ['grad', 'exclusive', 'discount', 'product'], ['headshot', 'resume', 'review', 'sale'], ['mixer', 'resume', 'review', 'alumnus', 'information', 'special', 'sale', 'product'], ['headshot', 'resume', 'review', 'sale'], ['reward'], ['postgrad', 'life'], ['postgrad', 'life'], ['networking', 'headshot', 'resume', 'review', 'sale'], [], ['headshot', 'resume', 'review', 'sale'], ['headshot', 'resume', 'review', 'sale'], ['mean', 'missed', 'opportunity'], ['postgrad', 'life'], [], [], ['alumnus', 'news'], ['edition'], [], [], ['alumnus', 'news'], ['register', 'marketing', 'event', 'summer'], ['alumnus', 'news'], ['reward'], ['welcome', 'postgrad', 'life'], ['miss'], [], ['welcome', 'postgrad', 'life'], ['miss'], [], ['register', 'marketing', 'event', 'summer'], ['mean', 'missed', 'opportunity'], [], ['alumnus', 'news'], ['alumnus', 'news'], [], [], ['alumnus', 'news'], ['mean', 'missed', 'opportunity'], ['golf'], ['mean', 'missed', 'opportunity'], ['register', 'marketing', 'event', 'summer'], ['alumnus', 'news'], ['alumnus', 'news'], ['alumnus', 'news'], ['mean', 'missed', 'opportunity'], ['invite'], ['mean', 'missed', 'opportunity'], ['mean', 'missed', 'opportunity'], ['mean', 'missed', 'opportunity'], ['miss', 'mean', 'missed', 'opportunity'], [], ['register', 'marketing', 'event', 'summer'], ['miss', 'mean', 'missed', 'opportunity'], ['register', 'marketing', 'event', 'summer'], ['register', 'marketing', 'event', 'summer'], ['register', 'marketing', 'event', 'summer'], [], ['register', 'marketing', 'event', 'summer'], ['register', 'marketing', 'event', 'summer'], [], ['register', 'marketing', 'event', 'summer'], [], ['school'], ['school'], ['alumnus', 'news'], ['reward'], [], ['alumnus', 'news'], ['summer', 'send', 'kid'], ['alumnus', 'news'], [], ['inspire', 'new', 'look', 'charter'], ['inspire', 'new', 'look', 'charter'], ['inspire', 'new', 'look', 'charter'], ['inspire', 'new', 'look', 'charter'], [], ['school'], ['inspire', 'new', 'look', 'charter'], ['inspire', 'new', 'look', 'charter'], ['inspire', 'new', 'look', 'charter'], ['inspire', 'new', 'look', 'charter'], ['inspire', 'new', 'look', 'charter'], ['inspire', 'new', 'look', 'charter'], ['inspire', 'new', 'look', 'charter'], ['inspire', 'new', 'look', 'charter'], [], ['feel', 'inspire', 'new', 'look', 'charter'], ['inspire', 'new', 'look', 'charter'], ['feel', 'inspire', 'new', 'look', 'charter'], [], [], [], [], [], ['ultimate', 'experience', 'ish', 'th'], ['share', 'thought', 'chance', 'win'], [], [], [], ['share', 'thought', 'chance', 'win'], ['worth', 'event', 'alumnus'], [], ['come'], [], [], [], ['share', 'thought', 'chance', 'win'], ['come', 'chapter'], [], ['come', 'chapter'], [], [], ['worth', 'event', 'alumnus'], ['share', 'thought', 'chance', 'win'], ['ultimate', 'experience', 'ish', 'th'], [], [], [], [], [], ['share', 'thought', 'chance', 'win'], ['alum', 'exclusive', 'access', 'day', 'sale', 'product'], ['alum', 'exclusive', 'discount', 'product'], ['alum', 'exclusive', 'access', 'day', 'sale', 'product'], ['worry'], [], ['spot', 'innovation', 'road'], ['alum', 'exclusive', 'discount', 'product'], ['support', 'foster', 'youth', 'success'], ['reward'], ['alum', 'exclusive', 'access', 'day', 'sale', 'product'], ['alum', 'exclusive', 'discount', 'product'], ['spot', 'innovation', 'road'], ['win', 'trip'], [], [], ['spot', 'innovation', 'road'], [], ['win', 'trip'], ['save', 'worry'], ['win', 'trip'], [], ['share', 'thought', 'chance', 'win'], ['invite', 'special', 'celebration'], [], [], ['invite', 'special', 'celebration'], ['invite', 'special', 'celebration'], ['invite', 'special', 'celebration'], [], ['reminder', 'share', 'thought', 'chance', 'win'], ['invite', 'special', 'celebration'], ['invite', 'special', 'celebration'], ['invite', 'special', 'celebration'], ['invite', 'special', 'celebration'], ['invite', 'special', 'celebration'], ['invite', 'special', 'celebration'], ['invite', 'special', 'celebration'], [], ['alum', 'exclusive', 'access', 'day', 'sale', 'product'], ['invite', 'special', 'celebration'], [], ['invite', 'special', 'celebration'], [], [], ['reminder'], [], ['invite', 'special', 'celebration'], [], ['receipt', 'level', 'donation'], [], [], [], [], ['invite', 'special', 'celebration'], ['grad'], ['send', 'new', 'batch', 'devil', 'style'], ['send', 'new', 'batch', 'devil', 'style'], ['grad'], [], [], [], ['send', 'new', 'batch', 'devil', 'style'], [], [], ['reminder', 'share', 'thought', 'chance', 'win'], [], [], ['reward'], [], [], [], ['exclusive', 'offer', 'grad'], [], [], [], ['devil', 'stockyard'], [], [], ['summer', 'event'], ['update', 'meet', 'new', 'class'], ['summer', 'event'], ['devil', 'stockyard'], ['summer', 'event'], ['chapter'], ['love'], ['chapter'], ['love'], [], [], ['join', 'business', 'brew'], [], [], ['summer', 'event'], ['join', 'business', 'brew'], ['brotherly', 'love'], ['engineering', 'update', 'help', 'welcome', 'class'], [], ['join'], ['stockyard'], ['come', 'chapter'], ['join', 'business', 'brew'], [], ['access'], ['summer', 'event'], [], ['chapter'], [], [], [], [], [], ['join', 'business', 'brew'], ['join', 'business', 'brew'], [], [], [], [], [], ['register', 'marketing', 'event', 'summer'], ['reward'], [], ['join', 'business', 'brew'], ['join', 'business', 'brew'], ['join'], ['reminder'], [], ['win'], ['announce', 'summer', 'camp', 'agenda'], ['announce', 'summer', 'camp', 'agenda'], ['announce', 'summer', 'camp', 'agenda'], ['announce', 'summer', 'camp', 'agenda'], ['announce', 'summer', 'camp', 'agenda'], ['announce', 'summer', 'camp', 'agenda'], ['miss', 'summer', 'camp', 'keynote', 'speaker'], [], ['miss', 'summer', 'camp', 'keynote', 'speaker'], ['miss', 'summer', 'camp', 'keynote', 'speaker'], ['announce', 'summer', 'camp', 'agenda'], ['summer', 'event'], ['devil', 'stockyard'], ['come', 'chapter'], [], ['update', 'help', 'welcome', 'class'], ['love'], ['headshot', 'resume', 'review', 'sale'], ['alumnus', 'news'], [], ['new', 'student', 'family'], [], ['worth', 'event', 'alumnus'], [], [], [], [], ['ultimate', 'experience', 'ish', 'th'], [], [], [], [], [], [], [], ['chapter'], ['alumnus', 'news'], ['worry'], [], [], ['alumnus', 'news'], ['alumnus', 'news'], ['alumnus', 'news'], ['alumnus', 'news'], [], ['alumnus', 'news'], ['alumnus', 'news'], ['success', 'course'], ['boost', 'career', 'wait'], ['share', 'thought', 'chance', 'win'], ['mean', 'missed', 'opportunity'], ['mean', 'missed', 'opportunity'], ['continue'], ['mean', 'missed', 'opportunity'], ['great', 'success', 'course'], ['success'], ['career', 'course'], ['course', 'forever'], ['skill', 'course'], ['learning', 'care', 'career'], ['continue'], ['alumnus', 'news'], [], [], [], ['reward'], ['reward'], ['reward'], [], [], ['share', 'thought', 'chance', 'win'], ['wait', 'send'], ['share', 'thought', 'chance', 'win'], [], ['sell'], ['th'], ['spring', 'engineering', 'opportunity'], ['th'], [], ['update', 'join', 'early', 'spring', 'event'], [], ['basketball', 'player', 'head', 'wine', 'care', 'support', 'scholarship'], [], ['chapter', 'event'], [], [], ['chapter', 'activity'], ['watching'], ['care', 'month', 'care'], ['care'], [], ['chapter'], [], ['news'], ['share', 'thought', 'chance', 'win'], ['chapter'], ['wait', 'send'], [], [], [], ['wait', 'send'], [], [], ['sell'], ['sell'], [], [], ['wait', 'send'], [], ['come', 'chapter'], [], [], ['wait', 'send'], ['wait', 'send'], [], [], ['share', 'thought', 'chance', 'win'], [], [], [], [], [], [], ['announce', 'summer', 'camp', 'agenda'], [], ['update', 'help', 'welcome', 'class'], [], ['reward'], ['update', 'help', 'welcome', 'class'], ['reminder', 'share', 'thought', 'chance', 'win'], ['alumnus', 'news'], ['news'], [], ['want', 'feedback'], [], ['join'], ['want', 'feedback'], ['join'], [], [], ['announce', 'star', 'speak', 'event'], [], [], [], [], [], [], [], [], ['peek', 'throwback', 'tee'], ['peek', 'throwback', 'tee'], ['peek', 'throwback', 'tee'], ['share', 'experience', 'incoming', 'freshman', 'area'], [], [], [], ['reminder', 'share', 'thought', 'chance', 'win'], ['want', 'feedback'], ['share', 'experience', 'incoming', 'freshman', 'area'], ['share', 'experience', 'incoming', 'freshman', 'area'], ['reminder', 'share', 'thought', 'chance', 'win'], [], ['lifelong', 'learn', 'pilot', 'program'], ['lifelong', 'learn', 'pilot', 'program'], ['lifelong', 'learn', 'pilot', 'program'], ['lifelong', 'learn', 'pilot', 'program'], ['lifelong', 'learn', 'pilot', 'program'], ['share', 'thought', 'chance', 'win', 'gift', 'card'], ['share', 'thought', 'chance', 'win', 'gift', 'card'], ['share', 'thought', 'chance', 'win', 'gift', 'card'], [], [], [], ['reward'], ['reminder', 'share', 'thought', 'chance', 'win'], [], ['register'], ['fun'], ['downtown'], ['painting', 'twist', 'event'], ['share', 'thought', 'chance', 'win', 'gift', 'card'], ['downtown'], ['mentor'], ['graduate', 'reason', 'save'], ['fun'], ['fun'], ['register'], ['register'], ['register'], ['fun'], [], ['register'], ['provide', 'website', 'feedback', 'gift', 'card'], ['register'], ['graduate', 'reason', 'save'], ['register'], ['register'], ['register'], ['register'], [], ['register'], ['announce', 'new', 'work', 'partner'], ['official', 'app', 'marketing', 'summer', 'camp'], ['register'], [], ['official', 'app', 'marketing', 'summer', 'camp'], ['summer', 'fun'], ['come', 'chapter'], ['register', 'painting', 'twist', 'event'], ['call', 'mentor'], ['downtown'], ['mentor'], ['earn', 'provide', 'feedback', 'website'], [], [], [], [], ['reward'], [], ['weekly'], ['template'], ['marketing', 'summer', 'camp', 'checklist'], [], ['marketing', 'summer', 'camp', 'checklist'], ['template'], ['alumnus', 'template'], [], ['marketing', 'summer', 'camp', 'checklist'], ['marketing', 'summer', 'camp', 'checklist'], ['alumnus', 'news'], [], ['alumnus', 'news'], ['alumnus', 'news'], ['class', 'number'], ['alumnus', 'news'], [], [], [], [], ['register'], ['th'], ['reward'], [], [], ['weekly'], ['summer', 'camp', 'experience'], ['volunteering', 'event'], ['meeting'], ['send'], ['algorithm', 'inspire', 'exoplanet', 'search'], ['news'], ['chapter'], ['reminder', 'register'], ['story', 'day'], ['reminder', 'register'], ['day', 'football', 'season'], ['meeting'], ['lifelong', 'learn', 'pilot', 'program'], ['send'], ['summer', 'camp', 'experience'], ['lifelong', 'learner'], ['th'], ['send'], ['miss', 'join'], [], ['summer', 'camp', 'experience'], ['want', 'lifelong', 'learn', 'pilot', 'program'], ['news'], ['send'], ['news'], [], [], ['day', 'football', 'season'], ['send'], ['send'], ['chapter'], ['news'], ['send'], ['come', 'chapter'], ['news'], ['day', 'football', 'season'], ['chapter'], ['th'], ['chapter'], [], ['join'], ['upcoming', 'meeting'], ['invite', 'enjoy', 'delicious', 'brunch'], [], [], [], ['reward'], ['invite', 'enjoy', 'delicious', 'brunch'], ['miss', 'chance', 'lifelong', 'learning', 'program'], ['invite', 'enjoy', 'delicious', 'brunch'], ['invite', 'enjoy', 'delicious', 'brunch'], ['weekly'], ['invite', 'enjoy', 'delicious', 'brunch'], [], ['miss', 'chance', 'lifelong', 'learning', 'program'], ['want', 'late', 'info'], [], ['follow'], ['way'], [], [], [], [], [], [], [], [], [], [], [], ['invite'], ['invite'], ['lifelong', 'learner', 'pilot', 'group'], ['invite'], ['pilot', 'power'], ['getaway'], [], ['register', 'innovation'], ['lifelong', 'learner', 'pilot', 'group'], [], ['register', 'innovation'], ['thank', 'register', 'innovation'], [], ['help', 'bridge', 'gap', 'civilian', 'soldier'], ['weekly'], [], ['reward'], [], [], ['volunteering', 'event'], ['welcome', 'pilot', 'power'], ['th'], ['want', 'late', 'info'], ['want', 'late', 'info'], ['week', 'kick'], ['want', 'late', 'info'], [], ['th'], ['week', 'kick'], ['volunteering', 'event'], [], ['help', 'log', 'lifelong', 'learner', 'platform'], ['event', 'come'], ['event', 'come'], ['save', 'hundred'], [], ['help', 'log', 'lifelong', 'learner', 'platform'], [], [], [], [], ['help', 'log', 'lifelong', 'learner', 'platform'], ['help', 'log', 'lifelong', 'learner', 'platform'], [], ['save', 'hundred'], [], [], ['school', 'new', 'fall', 'alumnus', 'advantage'], [], ['week', 'kick'], [], [], [], ['nee', 'help', 'log', 'lifelong', 'learner', 'platform'], ['reminder', 'share', 'thought', 'innovation'], ['event', 'come'], ['welcome', 'pilot', 'power'], [], ['come'], ['school', 'new', 'fall', 'alumnus', 'advantage'], ['event', 'come'], [], ['come'], [], ['come'], ['school', 'new', 'fall', 'alumnus', 'advantage'], ['event', 'come'], ['come'], ['school', 'new', 'fall', 'alumnus', 'advantage'], ['come'], ['week', 'kick'], ['th'], ['annual', 'event'], ['join'], [], [], ['devil', 'come'], ['reminder', 'opt', 'info'], ['chance', 'share', 'thought', 'innovation'], [], [], ['reminder', 'time', 'log'], [], ['reward'], ['weekly'], [], [], [], [], [], [], [], [], ['devilishly', 'close', 'kick'], ['devilishly', 'close', 'kick'], ['devilishly', 'close', 'kick'], ['online', 'calendar'], ['online', 'calendar'], [], ['devilishly', 'close', 'kick'], ['class'], [], ['devilishly', 'close', 'kick'], ['welcome', 'postgrad', 'life'], ['want', 'inside', 'info', 'party', 'season'], ['free', 'celebration', 'await'], ['want', 'inside', 'info', 'party', 'season'], ['devilishly', 'close', 'kick'], ['welcome', 'pilot', 'power'], ['chance', 'sign', 'info'], [], [], ['weekly'], [], ['share', 'thought', 'chance', 'win'], [], [], ['reward'], ['reminder', 'opt', 'receive', 'information', 'watch', 'party'], ['credit', 'learning'], ['credit', 'learning'], ['want', 'inside', 'info', 'party', 'season'], ['credit', 'learning'], ['credit', 'learning'], ['want', 'inside', 'info', 'party', 'season'], ['credit', 'learning'], ['join', 'local', 'alumnus', 'chapter'], ['want', 'inside', 'info', 'party', 'season'], ['class'], ['takeaway', 'picture', 'galore'], ['reward'], [], ['takeaway', 'picture', 'galore'], [], [], ['football', 'giveaway'], ['takeaway', 'picture', 'galore'], ['takeaway', 'picture', 'galore'], ['football', 'giveaway'], ['football', 'giveaway'], [], ['takeaway', 'picture', 'galore'], [], [], ['takeaway', 'picture', 'galore'], ['football', 'giveaway'], ['weekly'], ['tool', 'takeaway', 'picture', 'galore'], ['share', 'thought', 'chance', 'win'], ['football', 'giveaway'], ['takeaway', 'picture', 'galore'], ['takeaway', 'picture', 'galore'], [], ['alumnus', 'news'], ['alumnus', 'news'], [], ['alumnus', 'news'], [], ['alumnus', 'news'], ['alumnus', 'news'], ['party'], ['alumnus', 'news'], [], [], [], [], [], [], ['robotic', 'team', 'place', 'country'], ['student', 'service'], ['student', 'service'], ['experience', 'money', 'buy'], ['fun', 'fitness'], [], [], ['fun', 'fitness'], ['innovation', 'year', 'run'], ['fun', 'fitness'], [], [], ['fun', 'fitness'], ['fun', 'fitness'], ['experience', 'money', 'buy'], [], ['experience', 'money', 'buy'], ['fun', 'fitness'], [], ['innovation', 'year', 'run'], ['weekly'], [], ['innovation', 'year', 'run'], ['innovation', 'year', 'run'], ['innovation', 'year', 'run'], ['reward'], ['fun', 'fitness'], ['innovation', 'year', 'run'], ['innovation', 'year', 'run'], [], ['experience', 'money', 'buy'], [], [], ['experience', 'money', 'buy'], ['share', 'thought', 'chance', 'win'], ['innovation', 'year', 'run'], ['chapter', 'event'], ['party'], ['require', 'let', 'know', 'think', 'platform'], [], ['rank', 'innovation', 'fifth', 'straight', 'year'], ['devil', 'come'], ['rank', 'innovation', 'fifth', 'straight', 'year'], ['party'], [], [], [], [], ['want', 'miss', 'networking', 'career', 'development', 'event', 'year'], ['join'], [], [], [], [], ['save', 'date'], ['opt', 'receive', 'information', 'watch', 'party'], ['join', 'upcome', 'event'], [], [], ['signature', 'event'], [], ['ticket', 'success'], ['require', 'let', 'know', 'think', 'platform'], ['ticket', 'success'], ['party'], ['ticket', 'success'], ['party'], [], ['give', 'priority'], ['student', 'service'], [], [], ['weekly'], ['reward'], [], [], ['revise', 'time', 'want', 'miss', 'big', 'career', 'fair'], ['graduate', 'reason', 'save'], [], [], [], [], ['give', 'priority'], [], [], [], [], ['tailgate'], [], [], ['lead', 'hackathon'], [], [], ['reward'], [], ['weekly'], ['escape'], [], ['escape'], ['escape'], [], [], [], [], ['sweepstake', 'come', 'way'], ['tool'], ['tool'], ['tool'], ['register', 'hand', 'brainstorm'], [], ['weekly'], ['register', 'hand', 'brainstorm'], ['register', 'hand', 'brainstorm'], ['register', 'hand', 'brainstorm'], ['register', 'hand', 'brainstorm'], ['register', 'hand', 'brainstorm'], ['tool'], ['reward'], ['register', 'hand', 'brainstorm'], ['tool'], ['online', 'video', 'article', 'innovation'], [], [], [], [], [], ['reminder', 'give', 'priority'], ['success'], [], ['sweepstake', 'come', 'way'], [], ['sweepstake', 'come', 'way'], ['sweepstake', 'come', 'way'], [], ['online', 'video', 'article', 'innovation'], ['online', 'video', 'article', 'innovation'], ['online', 'video', 'article', 'innovation'], ['student', 'resource'], [], ['register', 'hand', 'brainstorm'], ['organization', 'parent', 'student'], [], ['reward'], ['weekly'], [], ['history'], [], [], ['line'], [], [], [], [], [], [], ['special', 'workshop', 'secret', 'word'], [], [], [], [], [], [], [], [], [], [], [], [], [], [], [], [], [], [], [], [], [], [], [], [], [], [], [], [], [], ['invite'], [], [], [], [], [], ['political', 'make'], ['student', 'resource'], [], ['student', 'resource'], ['connected'], ['weekly'], ['register', 'brainstorm'], [], [], ['register', 'brainstorm'], [], [], [], ['register', 'hand', 'brainstorm'], ['reward'], [], ['reward'], ['register', 'hand', 'brainstorm'], [], ['register', 'brainstorm'], ['week', 'leave', 'enter', 'homecoming'], ['weekly'], ['share', 'thought', 'chance', 'win'], ['share', 'thought', 'chance', 'win'], ['register', 'hand', 'brainstorm'], ['register', 'brainstorm'], [], [], [], [], ['register', 'brainstorm'], ['register', 'hand', 'brainstorm'], [], [], [], ['register', 'brainstorm'], ['lead', 'menstrual', 'equity', 'project'], [], ['political', 'make'], [], ['invite'], [], ['student', 'encourage', 'youth', 'college'], ['student', 'encourage', 'youth', 'college'], ['political', 'make'], [], [], [], ['share', 'thought', 'chance', 'win'], ['weekly'], [], ['reward'], ['reward'], [], [], [], [], [], [], ['weekly'], ['learning', 'care', 'career'], ['service'], ['service'], ['service'], ['service'], ['learning', 'care', 'career'], ['learning', 'care', 'career'], ['career', 'level'], ['service'], ['learning', 'care', 'career'], ['learning', 'care', 'career'], ['feedback', 'important'], [], ['feedback', 'important'], ['feedback', 'important'], ['feedback', 'important'], [], ['earn', 'provide', 'feedback', 'website'], ['reward'], [], ['earn', 'provide', 'feedback', 'website'], [], [], [], ['share', 'thought', 'chance', 'win'], [], ['reward'], ['weekly'], ['share', 'thought', 'chance', 'win'], [], ['event'], ['event'], ['event'], ['opportunity'], ['event'], ['event'], [], [], ['earn', 'provide', 'feedback', 'website'], [], [], ['reminder', 'feedback', 'important'], [], [], [], ['final', 'football', 'sweep', 'season'], ['final', 'football', 'sweep', 'season'], [], [], ['leverage', 'come', 'communication', 'channel', 'reach', 'audience'], [], ['weekly'], ['leverage', 'come', 'communication', 'channel', 'reach', 'audience'], ['reward'], ['leverage', 'come', 'communication', 'channel', 'reach', 'audience'], ['leverage', 'come', 'communication', 'channel', 'reach', 'audience'], [], ['leverage', 'come', 'communication', 'channel', 'reach', 'audience'], ['congratulation', 'st', 'scholarship', 'recipient'], ['reminder', 'share', 'thought', 'chance', 'win'], [], ['reminder', 'share', 'thought', 'chance', 'win'], [], ['student', 'club', 'deaf'], ['alpha', 'omega', 'sorority', 'native', 'woman'], ['student', 'club', 'deaf'], [], [], [], ['sure', 'eligible', 'receive', 'reward'], [], ['sure', 'eligible', 'receive', 'reward'], ['sure', 'eligible', 'receive', 'reward'], [], ['sure', 'eligible', 'receive', 'reward'], ['weekly'], ['sure', 'eligible', 'receive', 'reward'], ['reward'], ['sure', 'eligible', 'receive', 'reward'], [], ['sure', 'eligible', 'receive', 'reward'], ['sure', 'eligible', 'receive', 'reward'], ['sure', 'eligible', 'receive', 'reward'], ['sure', 'eligible', 'receive', 'reward'], ['sure', 'eligible', 'receive', 'reward'], [], ['unforgettable'], [], [], [], [], [], [], ['weekly'], ['reward'], ['pitchfork', 'fast'], ['congratulation', 'st', 'scholarship', 'recipient'], [], ['pitchfork', 'fast'], [], [], [], [], ['story', 'ignite', 'change'], [], [], [], [], [], [], [], [], [], [], [], [], [], [], [], ['special', 'day', 'grad', 'secret', 'word'], [], ['special', 'day', 'grad', 'secret', 'word'], [], ['weekly'], ['reward'], ['special', 'day', 'grad', 'secret', 'word'], [], [], [], [], [], [], [], [], [], [], [], [], [], [], [], ['fall', 'graduation', 'edition'], [], [], ['special', 'day', 'grad', 'secret', 'word'], ['get', 'template'], [], [], [], [], [], [], [], ['chance', 'consider', 'donate', 'holiday', 'season'], ['chance', 'consider', 'donate', 'holiday', 'season'], ['fall', 'edition'], [], [], [], [], [], [], [], [], [], [], ['survey', 'chance', 'win'], [], [], ['ready', 'fun', 'fill', 'adventure'], ['ready', 'fun', 'fill', 'adventure'], ['ready', 'fun', 'fill', 'adventure'], ['reward'], [], [], [], [], ['visionary', 'leadership', 'strategy'], [], ['ready', 'fun', 'fill', 'adventure'], ['visionary', 'leadership', 'strategy'], ['support'], [], ['final', 'support'], [], [], ['reward'], ['weekly'], [], [], [], ['launch', 'project'], ['reminder', 'share', 'thought', 'chance', 'win'], ['reminder', 'share', 'thought', 'chance', 'win'], [], [], ['meet', 'international', 'athlete', 'womens', 'basketball'], [], [], [], [], ['reward'], ['weekly'], [], [], ['newsletter'], [], [], ['reminder', 'share', 'thought', 'chance', 'win'], ['new'], ['new'], ['new'], [], [], ['new'], ['new'], ['new'], ['new'], ['reminder', 'share', 'thought', 'chance', 'win'], ['new'], [], [], ['newsletter'], [], [], [], [], [], ['meet', 'international', 'athlete', 'womens', 'basketball'], [], ['weekly'], ['reward'], ['congratulation', 'st', 'scholarship', 'recipient'], ['reminder', 'share', 'thought', 'chance', 'win'], [], ['remember', 'advocate', 'student'], [], ['free', 'celebration', 'await'], [], [], [], [], ['basketball', 'international', 'athlete'], ['basketball', 'international', 'athlete'], [], ['case', 'miss', 'new'], [], [], []]\n"
          ],
          "name": "stdout"
        }
      ]
    },
    {
      "cell_type": "markdown",
      "metadata": {
        "id": "jLxuuFH3g9I_",
        "colab_type": "text"
      },
      "source": [
        "#Dictionary and corpus - **Gensim**"
      ]
    },
    {
      "cell_type": "code",
      "metadata": {
        "id": "nrk1S9sym70-",
        "colab_type": "code",
        "outputId": "06f0a05c-a0fe-4927-8005-da3f3e806ad8",
        "colab": {
          "base_uri": "https://localhost:8080/",
          "height": 1000
        }
      },
      "source": [
        "#term document frequency\n",
        "\n",
        "id2word = corpora.Dictionary(data_words_final)\n",
        "\n",
        "corpus = [id2word.doc2bow(text) for text in data_words_final]\n",
        "corpus"
      ],
      "execution_count": 0,
      "outputs": [
        {
          "output_type": "execute_result",
          "data": {
            "text/plain": [
              "[[(0, 1), (1, 1), (2, 1), (3, 1), (4, 1)],\n",
              " [(5, 1), (6, 1)],\n",
              " [],\n",
              " [(7, 1), (8, 1), (9, 1), (10, 1)],\n",
              " [(7, 1), (9, 1), (10, 1)],\n",
              " [(11, 1), (12, 1)],\n",
              " [(11, 1), (12, 1)],\n",
              " [(11, 1), (12, 1)],\n",
              " [(11, 1), (12, 1)],\n",
              " [(11, 1), (12, 1)],\n",
              " [(11, 1), (12, 1)],\n",
              " [(13, 1)],\n",
              " [],\n",
              " [(14, 1), (15, 1)],\n",
              " [(14, 1), (15, 1)],\n",
              " [(14, 1), (15, 1)],\n",
              " [(14, 1), (15, 1)],\n",
              " [(16, 1), (17, 1), (18, 1)],\n",
              " [(19, 1), (20, 1)],\n",
              " [(19, 1), (20, 1)],\n",
              " [(21, 1), (22, 1), (23, 1)],\n",
              " [(21, 1), (22, 1), (23, 1)],\n",
              " [(21, 1), (22, 1), (23, 1)],\n",
              " [],\n",
              " [(19, 1), (20, 1)],\n",
              " [(19, 1), (20, 1)],\n",
              " [(24, 1), (25, 1), (26, 1), (27, 1)],\n",
              " [(21, 1), (22, 1), (23, 1)],\n",
              " [(28, 1), (29, 1)],\n",
              " [(28, 1), (29, 1)],\n",
              " [],\n",
              " [(21, 1), (22, 1), (23, 1)],\n",
              " [],\n",
              " [(21, 1), (30, 1), (31, 1)],\n",
              " [(21, 1), (30, 1), (31, 1)],\n",
              " [(21, 1), (22, 1), (23, 1)],\n",
              " [(21, 1), (22, 1), (23, 1)],\n",
              " [(17, 1), (32, 1), (33, 1)],\n",
              " [(15, 1), (34, 1)],\n",
              " [(15, 1), (34, 1)],\n",
              " [(35, 1)],\n",
              " [(15, 1), (34, 1)],\n",
              " [(15, 1), (34, 1)],\n",
              " [(14, 1), (36, 1), (37, 1)],\n",
              " [(14, 1), (36, 1), (37, 1)],\n",
              " [(14, 1), (36, 1), (37, 1)],\n",
              " [(15, 1), (34, 1)],\n",
              " [],\n",
              " [(35, 1)],\n",
              " [(14, 1), (36, 1), (37, 1)],\n",
              " [(14, 1), (36, 1), (37, 1)],\n",
              " [(14, 1), (36, 1), (37, 1)],\n",
              " [(14, 1), (36, 1), (37, 1)],\n",
              " [(38, 3)],\n",
              " [(39, 1), (40, 1)],\n",
              " [(14, 1), (36, 1), (37, 1)],\n",
              " [(14, 1), (36, 1), (37, 1)],\n",
              " [(38, 3)],\n",
              " [(21, 1), (22, 1), (23, 1)],\n",
              " [(21, 1), (22, 1), (23, 1)],\n",
              " [(41, 1), (42, 1)],\n",
              " [(41, 1), (42, 1)],\n",
              " [(43, 1)],\n",
              " [],\n",
              " [(44, 1)],\n",
              " [],\n",
              " [(29, 1), (45, 1), (46, 1), (47, 1)],\n",
              " [(48, 1)],\n",
              " [],\n",
              " [],\n",
              " [(49, 1), (50, 1), (51, 1)],\n",
              " [(52, 1)],\n",
              " [(44, 1)],\n",
              " [(52, 1)],\n",
              " [],\n",
              " [],\n",
              " [],\n",
              " [],\n",
              " [(53, 1)],\n",
              " [(54, 1), (55, 1)],\n",
              " [],\n",
              " [],\n",
              " [(54, 1), (55, 1)],\n",
              " [(54, 1), (55, 1)],\n",
              " [],\n",
              " [(54, 1), (55, 1)],\n",
              " [],\n",
              " [(54, 1), (55, 1)],\n",
              " [(54, 1), (55, 1), (56, 1)],\n",
              " [(57, 1)],\n",
              " [(58, 1), (59, 1), (60, 1), (61, 1)],\n",
              " [(58, 1), (59, 1), (60, 1), (61, 1)],\n",
              " [(58, 1), (59, 1), (60, 1), (61, 1)],\n",
              " [],\n",
              " [(53, 1)],\n",
              " [(53, 1)],\n",
              " [],\n",
              " [],\n",
              " [],\n",
              " [(4, 1), (62, 1), (63, 1), (64, 1), (65, 1), (66, 1)],\n",
              " [],\n",
              " [],\n",
              " [(67, 1)],\n",
              " [(67, 1)],\n",
              " [(58, 1), (59, 1), (60, 1), (61, 1)],\n",
              " [],\n",
              " [],\n",
              " [],\n",
              " [],\n",
              " [],\n",
              " [(58, 1), (59, 1), (60, 1), (61, 1)],\n",
              " [(58, 1), (59, 1), (60, 1), (61, 1)],\n",
              " [(53, 1)],\n",
              " [(53, 1)],\n",
              " [(68, 1)],\n",
              " [(68, 1)],\n",
              " [],\n",
              " [],\n",
              " [(69, 1)],\n",
              " [(69, 1)],\n",
              " [(68, 1)],\n",
              " [],\n",
              " [(55, 1), (70, 1)],\n",
              " [(52, 1), (58, 1)],\n",
              " [(26, 1), (71, 1), (72, 1)],\n",
              " [(58, 1), (73, 1)],\n",
              " [(24, 1), (25, 1), (26, 1), (27, 1)],\n",
              " [(74, 1)],\n",
              " [(75, 1), (76, 1)],\n",
              " [(77, 1)],\n",
              " [(77, 1)],\n",
              " [(77, 1)],\n",
              " [(52, 1), (58, 1)],\n",
              " [(24, 1), (25, 1), (26, 1), (27, 1)],\n",
              " [(75, 1), (76, 1)],\n",
              " [(24, 1), (25, 1), (26, 1), (27, 1)],\n",
              " [(24, 1), (25, 1), (26, 1), (27, 1)],\n",
              " [(24, 1), (25, 1), (26, 1), (27, 1)],\n",
              " [(24, 1), (25, 1), (26, 1), (27, 1)],\n",
              " [(24, 1), (25, 1), (26, 1), (27, 1)],\n",
              " [(78, 1)],\n",
              " [],\n",
              " [],\n",
              " [(7, 1), (8, 1), (9, 1), (10, 1)],\n",
              " [],\n",
              " [(0, 1), (1, 1), (2, 1), (3, 1), (4, 1)],\n",
              " [(0, 1), (1, 1), (2, 1), (3, 1), (4, 1)],\n",
              " [(0, 1), (1, 1), (2, 1), (3, 1), (4, 1)],\n",
              " [(13, 1)],\n",
              " [(24, 1), (25, 1), (26, 1), (27, 1)],\n",
              " [(24, 1), (25, 1), (26, 1), (27, 1)],\n",
              " [(7, 1), (9, 1), (10, 1)],\n",
              " [(11, 1), (12, 1)],\n",
              " [(11, 1), (12, 1)],\n",
              " [(11, 1), (12, 1)],\n",
              " [(11, 1), (12, 1)],\n",
              " [],\n",
              " [],\n",
              " [(24, 1), (25, 1), (26, 1), (27, 1)],\n",
              " [(24, 1), (25, 1), (26, 1), (27, 1)],\n",
              " [(21, 1), (22, 1), (23, 1)],\n",
              " [(24, 1), (25, 1), (26, 1), (27, 1)],\n",
              " [],\n",
              " [(21, 1), (22, 1), (23, 1)],\n",
              " [],\n",
              " [(16, 1), (17, 1), (18, 1)],\n",
              " [(16, 1), (17, 1), (18, 1)],\n",
              " [(21, 1), (30, 1), (31, 1)],\n",
              " [(21, 1), (22, 1), (23, 1)],\n",
              " [(79, 1)],\n",
              " [(35, 1)],\n",
              " [(38, 3)],\n",
              " [(38, 3)],\n",
              " [(38, 3)],\n",
              " [(15, 1), (34, 1)],\n",
              " [(15, 1), (34, 1)],\n",
              " [(14, 1), (36, 1), (37, 1)],\n",
              " [(14, 1), (36, 1), (37, 1)],\n",
              " [(14, 1), (36, 1), (37, 1)],\n",
              " [(14, 1), (36, 1), (37, 1)],\n",
              " [(13, 1)],\n",
              " [(15, 1), (34, 1)],\n",
              " [(14, 1), (36, 1), (37, 1)],\n",
              " [(39, 1), (40, 1)],\n",
              " [(15, 1), (34, 1)],\n",
              " [],\n",
              " [(41, 1), (42, 1)],\n",
              " [(43, 1)],\n",
              " [],\n",
              " [(52, 1), (61, 1), (80, 1), (81, 1)],\n",
              " [(52, 1), (61, 1), (80, 1), (81, 1)],\n",
              " [(48, 1)],\n",
              " [(52, 1), (61, 1), (80, 1), (81, 1)],\n",
              " [(82, 1), (83, 1)],\n",
              " [(52, 1), (58, 1), (61, 1), (80, 1), (81, 1)],\n",
              " [(52, 1), (58, 1), (61, 1), (80, 1), (81, 1)],\n",
              " [(82, 1), (83, 1)],\n",
              " [(82, 1), (83, 1)],\n",
              " [],\n",
              " [],\n",
              " [(54, 1), (55, 1)],\n",
              " [(54, 1), (55, 1)],\n",
              " [],\n",
              " [],\n",
              " [(82, 1), (83, 1), (84, 1)],\n",
              " [(82, 1), (83, 1), (84, 1)],\n",
              " [],\n",
              " [],\n",
              " [],\n",
              " [(54, 1), (55, 1)],\n",
              " [(54, 1), (55, 1)],\n",
              " [],\n",
              " [(54, 1), (55, 1), (56, 1)],\n",
              " [],\n",
              " [(53, 1), (85, 1)],\n",
              " [],\n",
              " [],\n",
              " [],\n",
              " [(58, 1), (59, 1), (60, 1), (61, 1)],\n",
              " [(57, 1)],\n",
              " [(58, 1), (59, 1), (60, 1), (61, 1)],\n",
              " [],\n",
              " [(53, 1)],\n",
              " [(53, 1), (85, 1)],\n",
              " [(53, 1), (85, 1), (86, 1)],\n",
              " [(58, 1), (59, 1), (60, 1), (61, 1)],\n",
              " [],\n",
              " [],\n",
              " [],\n",
              " [],\n",
              " [],\n",
              " [],\n",
              " [(58, 1), (59, 1), (60, 1), (61, 1)],\n",
              " [(58, 1), (59, 1), (60, 1), (61, 1)],\n",
              " [(58, 1), (59, 1), (60, 1), (61, 1)],\n",
              " [(58, 1), (59, 1), (60, 1), (61, 1)],\n",
              " [(53, 1), (85, 1), (86, 1)],\n",
              " [],\n",
              " [(58, 1), (59, 1), (60, 1), (61, 1)],\n",
              " [(53, 1)],\n",
              " [(29, 1), (87, 1), (88, 1), (89, 1), (90, 1)],\n",
              " [(29, 1), (87, 1), (88, 1), (89, 1), (90, 1)],\n",
              " [],\n",
              " [(91, 1), (92, 1), (93, 1)],\n",
              " [(53, 1)],\n",
              " [(53, 1)],\n",
              " [(48, 1), (53, 1)],\n",
              " [],\n",
              " [(52, 1), (58, 1)],\n",
              " [(75, 1), (76, 1)],\n",
              " [(77, 1)],\n",
              " [(7, 1), (8, 1), (9, 1), (10, 1)],\n",
              " [(24, 1), (25, 1), (26, 1), (27, 1)],\n",
              " [],\n",
              " [],\n",
              " [],\n",
              " [(7, 1), (8, 1), (9, 1), (10, 1)],\n",
              " [(11, 1), (12, 1)],\n",
              " [(7, 1), (9, 1), (10, 1)],\n",
              " [(21, 1), (30, 1), (31, 1)],\n",
              " [(21, 1), (30, 1), (31, 1)],\n",
              " [(14, 1), (15, 1)],\n",
              " [(14, 1), (15, 1)],\n",
              " [(19, 1), (20, 1)],\n",
              " [],\n",
              " [(21, 1), (22, 1), (23, 1)],\n",
              " [],\n",
              " [(19, 1), (20, 1)],\n",
              " [(19, 1), (20, 1)],\n",
              " [(21, 1), (22, 1), (23, 1)],\n",
              " [(19, 1), (20, 1)],\n",
              " [(24, 1), (25, 1), (26, 1), (27, 1)],\n",
              " [(21, 1), (22, 1), (23, 1)],\n",
              " [],\n",
              " [(16, 1), (17, 1), (18, 1)],\n",
              " [(21, 1), (22, 1), (23, 1)],\n",
              " [(17, 1), (32, 1), (33, 1)],\n",
              " [(75, 1), (76, 1)],\n",
              " [(15, 1), (94, 1)],\n",
              " [(17, 1), (95, 1), (96, 1)],\n",
              " [(53, 1), (85, 1)],\n",
              " [(15, 1), (94, 1)],\n",
              " [],\n",
              " [],\n",
              " [],\n",
              " [(15, 1), (34, 1)],\n",
              " [(38, 3)],\n",
              " [(14, 1), (36, 1), (37, 1)],\n",
              " [(15, 1), (34, 1)],\n",
              " [(15, 1), (34, 1)],\n",
              " [(15, 1), (34, 1)],\n",
              " [(14, 1), (36, 1), (37, 1)],\n",
              " [(39, 1), (40, 1)],\n",
              " [(14, 1), (36, 1), (37, 1)],\n",
              " [(39, 1), (40, 1)],\n",
              " [(38, 3)],\n",
              " [(38, 3)],\n",
              " [(39, 1), (40, 1)],\n",
              " [(38, 3)],\n",
              " [(41, 1), (42, 1)],\n",
              " [(41, 1), (42, 1)],\n",
              " [(13, 1)],\n",
              " [(44, 1)],\n",
              " [(43, 1)],\n",
              " [(48, 1)],\n",
              " [],\n",
              " [(44, 1)],\n",
              " [],\n",
              " [],\n",
              " [(44, 1)],\n",
              " [(44, 1)],\n",
              " [],\n",
              " [(44, 1)],\n",
              " [(48, 1)],\n",
              " [(75, 1), (76, 1), (97, 1)],\n",
              " [(53, 1)],\n",
              " [],\n",
              " [(54, 1), (55, 1)],\n",
              " [],\n",
              " [],\n",
              " [(6, 1), (98, 1)],\n",
              " [],\n",
              " [],\n",
              " [],\n",
              " [],\n",
              " [],\n",
              " [],\n",
              " [],\n",
              " [],\n",
              " [(99, 1), (100, 1)],\n",
              " [],\n",
              " [],\n",
              " [],\n",
              " [],\n",
              " [(54, 1), (55, 1)],\n",
              " [(54, 1), (55, 1)],\n",
              " [],\n",
              " [(100, 1), (101, 1)],\n",
              " [(26, 1), (27, 1), (70, 1)],\n",
              " [(52, 1), (58, 1), (61, 1), (80, 1), (81, 1)],\n",
              " [(58, 1), (59, 1), (60, 1), (61, 1)],\n",
              " [(57, 1)],\n",
              " [],\n",
              " [(58, 1), (59, 1), (60, 1), (61, 1)],\n",
              " [(58, 1), (59, 1), (60, 1), (61, 1)],\n",
              " [],\n",
              " [],\n",
              " [(57, 1)],\n",
              " [(53, 1), (85, 1)],\n",
              " [(53, 1), (85, 1)],\n",
              " [],\n",
              " [(58, 1), (59, 1), (60, 1), (61, 1)],\n",
              " [(58, 1), (59, 1), (60, 1), (61, 1)],\n",
              " [(4, 1), (62, 1), (63, 1), (64, 1), (65, 1), (66, 1)],\n",
              " [],\n",
              " [],\n",
              " [],\n",
              " [],\n",
              " [(58, 1), (59, 1), (60, 1), (61, 1)],\n",
              " [(58, 1), (59, 1), (60, 1), (61, 1)],\n",
              " [(58, 1), (59, 1), (60, 1), (61, 1)],\n",
              " [(58, 1), (59, 1), (60, 1), (61, 1)],\n",
              " [],\n",
              " [(67, 1)],\n",
              " [(58, 1), (59, 1), (60, 1), (61, 1)],\n",
              " [(58, 1), (59, 1), (60, 1), (61, 1)],\n",
              " [],\n",
              " [],\n",
              " [],\n",
              " [(57, 1)],\n",
              " [(68, 1), (102, 1)],\n",
              " [(91, 1), (92, 1), (93, 1)],\n",
              " [(103, 1)],\n",
              " [(88, 1), (90, 1), (92, 1), (104, 1)],\n",
              " [(53, 1)],\n",
              " [(103, 1)],\n",
              " [(64, 1), (87, 1), (88, 1), (89, 1), (90, 1)],\n",
              " [(48, 1), (53, 1)],\n",
              " [(48, 1), (53, 1), (85, 1)],\n",
              " [(48, 1), (53, 1), (85, 1)],\n",
              " [],\n",
              " [(77, 1)],\n",
              " [(77, 1)],\n",
              " [(52, 1), (58, 1)],\n",
              " [(24, 1), (25, 1), (26, 1), (27, 1)],\n",
              " [(24, 1), (25, 1), (26, 1), (27, 1)],\n",
              " [(52, 1), (58, 1)],\n",
              " [(24, 1), (25, 1), (26, 1), (27, 1)],\n",
              " [(26, 1)],\n",
              " [],\n",
              " [],\n",
              " [],\n",
              " [],\n",
              " [],\n",
              " [],\n",
              " [],\n",
              " [],\n",
              " [],\n",
              " [],\n",
              " [],\n",
              " [(105, 1)],\n",
              " [(105, 1)],\n",
              " [(105, 1)],\n",
              " [(17, 1), (33, 1), (88, 1), (94, 1)],\n",
              " [],\n",
              " [(21, 1), (22, 1), (23, 1)],\n",
              " [(15, 1), (94, 1)],\n",
              " [],\n",
              " [],\n",
              " [],\n",
              " [(16, 1), (17, 1), (18, 1), (50, 1)],\n",
              " [(14, 1), (15, 1)],\n",
              " [(28, 1), (64, 1)],\n",
              " [(15, 1), (94, 1)],\n",
              " [(17, 1), (33, 1), (88, 1), (94, 1)],\n",
              " [(17, 1), (33, 1), (88, 1), (94, 1)],\n",
              " [(15, 1), (94, 1)],\n",
              " [(2, 1), (3, 1), (47, 1), (69, 1), (88, 2), (106, 1), (107, 1), (108, 1)],\n",
              " [(15, 1), (94, 1)],\n",
              " [(17, 1), (33, 1), (88, 1), (94, 1)],\n",
              " [(17, 1), (33, 1), (88, 1), (94, 1)],\n",
              " [(15, 1), (109, 1), (110, 1), (111, 1)],\n",
              " [(15, 1), (94, 1)],\n",
              " [(17, 1), (33, 1), (88, 1), (94, 1)],\n",
              " [(17, 1), (33, 1), (88, 1), (94, 1)],\n",
              " [(15, 1), (112, 1)],\n",
              " [(15, 1), (112, 1)],\n",
              " [(15, 1), (112, 1)],\n",
              " [(17, 1), (33, 1), (88, 1), (94, 1)],\n",
              " [(15, 1), (94, 1)],\n",
              " [(17, 1), (33, 1), (88, 1), (94, 1)],\n",
              " [(15, 1), (94, 1)],\n",
              " [(15, 1), (113, 1)],\n",
              " [],\n",
              " [(114, 1)],\n",
              " [(115, 1), (116, 1)],\n",
              " [],\n",
              " [],\n",
              " [(17, 1), (33, 1), (88, 1), (94, 1), (95, 1)],\n",
              " [(15, 1), (24, 1), (94, 1)],\n",
              " [(15, 1), (24, 1), (94, 1)],\n",
              " [(15, 1), (109, 1), (110, 1), (111, 1)],\n",
              " [],\n",
              " [(15, 1), (113, 1)],\n",
              " [(52, 1)],\n",
              " [(52, 1)],\n",
              " [(52, 1)],\n",
              " [(52, 1)],\n",
              " [(52, 1)],\n",
              " [(52, 1)],\n",
              " [(52, 1)],\n",
              " [(52, 1)],\n",
              " [(52, 1)],\n",
              " [(52, 1)],\n",
              " [(2, 1), (117, 1), (118, 1)],\n",
              " [(52, 1)],\n",
              " [(52, 1)],\n",
              " [(2, 1), (117, 1), (118, 1)],\n",
              " [],\n",
              " [],\n",
              " [(52, 1)],\n",
              " [(52, 1)],\n",
              " [(52, 1)],\n",
              " [(52, 1)],\n",
              " [],\n",
              " [],\n",
              " [(52, 1)],\n",
              " [],\n",
              " [],\n",
              " [(52, 1)],\n",
              " [(52, 1)],\n",
              " [],\n",
              " [],\n",
              " [(44, 1)],\n",
              " [],\n",
              " [],\n",
              " [],\n",
              " [],\n",
              " [],\n",
              " [(52, 1)],\n",
              " [],\n",
              " [],\n",
              " [(52, 1)],\n",
              " [],\n",
              " [(52, 1)],\n",
              " [(49, 1), (50, 1), (51, 1)],\n",
              " [(49, 1), (50, 1), (51, 1)],\n",
              " [],\n",
              " [(52, 1)],\n",
              " [],\n",
              " [(75, 1), (76, 1), (97, 1)],\n",
              " [(75, 1), (76, 1), (97, 1)],\n",
              " [(119, 1)],\n",
              " [(67, 1)],\n",
              " [(119, 1), (120, 1)],\n",
              " [(121, 1), (122, 1), (123, 1)],\n",
              " [(122, 1), (124, 1), (125, 1)],\n",
              " [(23, 1), (58, 1), (115, 1)],\n",
              " [],\n",
              " [(70, 1), (126, 1), (127, 1), (128, 1), (129, 1), (130, 1)],\n",
              " [(70, 1), (126, 1), (127, 1), (128, 1), (129, 1), (130, 1)],\n",
              " [(70, 1), (126, 1), (127, 1), (128, 1), (129, 1), (130, 1)],\n",
              " [(70, 1), (126, 1), (127, 1), (128, 1), (129, 1), (130, 1)],\n",
              " [(70, 1), (126, 1), (127, 1), (128, 1), (129, 1), (130, 1)],\n",
              " [(70, 1), (126, 1), (127, 1), (128, 1), (129, 1), (130, 1)],\n",
              " [],\n",
              " [(131, 1)],\n",
              " [],\n",
              " [],\n",
              " [(132, 1)],\n",
              " [(14, 1)],\n",
              " [(75, 1), (76, 1), (97, 1)],\n",
              " [(101, 1), (133, 1), (134, 1), (135, 1)],\n",
              " [(99, 1), (100, 1)],\n",
              " [(82, 1), (136, 1)],\n",
              " [(75, 1), (76, 1), (97, 1)],\n",
              " [(57, 1)],\n",
              " [],\n",
              " [(68, 1)],\n",
              " [(25, 1), (54, 1), (137, 1), (138, 1)],\n",
              " [(7, 1), (8, 1), (9, 1), (10, 1)],\n",
              " [(25, 1), (54, 1), (137, 1), (138, 1)],\n",
              " [],\n",
              " [(53, 1)],\n",
              " [],\n",
              " [(53, 1)],\n",
              " [(29, 1), (139, 1)],\n",
              " [],\n",
              " [(53, 1), (85, 1), (140, 1)],\n",
              " [(141, 1), (142, 1)],\n",
              " [(7, 1), (8, 1), (9, 1), (10, 1)],\n",
              " [(143, 1), (144, 1), (145, 1)],\n",
              " [],\n",
              " [(103, 1), (146, 1)],\n",
              " [(24, 1), (25, 1), (26, 1), (27, 1)],\n",
              " [(24, 1), (25, 1), (26, 1), (27, 1), (147, 1)],\n",
              " [(103, 1)],\n",
              " [(103, 1), (146, 1)],\n",
              " [],\n",
              " [(4, 1), (148, 1)],\n",
              " [(143, 1), (144, 1), (145, 1)],\n",
              " [],\n",
              " [],\n",
              " [(24, 1), (25, 1), (26, 1), (27, 1)],\n",
              " [(26, 1)],\n",
              " [],\n",
              " [],\n",
              " [],\n",
              " [],\n",
              " [],\n",
              " [],\n",
              " [],\n",
              " [(6, 1), (149, 1)],\n",
              " [(105, 1)],\n",
              " [],\n",
              " [(150, 1)],\n",
              " [(64, 1), (118, 1)],\n",
              " [(150, 1)],\n",
              " [],\n",
              " [(17, 1), (33, 1), (88, 1), (94, 1)],\n",
              " [(17, 1), (33, 1), (88, 1), (94, 1)],\n",
              " [(15, 1), (94, 1)],\n",
              " [(17, 1), (33, 1), (88, 1), (94, 1)],\n",
              " [],\n",
              " [],\n",
              " [],\n",
              " [(15, 1), (94, 1)],\n",
              " [(17, 1), (33, 1), (88, 1), (94, 1)],\n",
              " [(15, 1), (109, 1), (110, 1), (111, 1)],\n",
              " [(15, 1), (109, 1), (110, 1), (111, 1)],\n",
              " [(17, 1), (33, 1), (88, 1), (94, 1)],\n",
              " [(17, 1), (33, 1), (88, 1), (94, 1)],\n",
              " [(17, 1), (33, 1), (88, 1), (94, 1)],\n",
              " [],\n",
              " [],\n",
              " [(15, 1), (94, 1)],\n",
              " [(21, 1), (30, 1), (31, 1)],\n",
              " [(15, 1), (112, 1)],\n",
              " [(15, 1), (112, 1)],\n",
              " [(17, 1), (33, 1), (88, 1), (94, 1)],\n",
              " [(15, 1), (94, 1)],\n",
              " [(17, 1), (33, 1), (88, 1), (94, 1)],\n",
              " [(17, 1), (33, 1), (88, 1), (94, 1)],\n",
              " [(17, 1), (33, 1), (88, 1), (94, 1)],\n",
              " [],\n",
              " [(115, 1)],\n",
              " [],\n",
              " [(115, 1)],\n",
              " [(15, 1), (113, 1)],\n",
              " [(15, 1), (113, 1)],\n",
              " [(15, 1), (109, 1), (110, 1), (111, 1)],\n",
              " [(15, 1), (113, 1), (151, 1)],\n",
              " [],\n",
              " [(52, 1)],\n",
              " [(152, 1)],\n",
              " [(52, 1)],\n",
              " [(52, 1)],\n",
              " [(52, 1)],\n",
              " [(2, 1), (117, 1), (118, 1)],\n",
              " [(2, 1), (117, 1), (118, 1)],\n",
              " [(52, 1)],\n",
              " [(43, 1)],\n",
              " [(43, 1)],\n",
              " [(49, 1), (50, 1), (51, 1)],\n",
              " [(49, 1), (50, 1), (51, 1)],\n",
              " [(48, 1)],\n",
              " [],\n",
              " [(49, 1), (50, 1), (51, 1)],\n",
              " [(52, 1)],\n",
              " [(52, 1)],\n",
              " [],\n",
              " [(52, 1)],\n",
              " [(44, 1)],\n",
              " [(52, 1)],\n",
              " [(52, 1)],\n",
              " [(52, 1)],\n",
              " [(52, 1)],\n",
              " [(52, 1)],\n",
              " [(52, 1)],\n",
              " [],\n",
              " [],\n",
              " [(45, 1), (46, 1), (47, 1), (64, 1)],\n",
              " [],\n",
              " [(49, 1), (50, 1), (51, 1)],\n",
              " [(49, 1), (50, 1), (51, 1)],\n",
              " [],\n",
              " [],\n",
              " [],\n",
              " [(52, 1)],\n",
              " [],\n",
              " [(49, 1), (50, 1), (51, 1)],\n",
              " [],\n",
              " [(52, 1)],\n",
              " [],\n",
              " [(52, 1)],\n",
              " [(52, 1)],\n",
              " [(153, 1)],\n",
              " [],\n",
              " [(52, 1)],\n",
              " [],\n",
              " [(119, 1)],\n",
              " [(119, 1)],\n",
              " [(154, 1), (155, 1), (156, 1)],\n",
              " [(101, 1), (133, 1), (134, 1), (135, 1)],\n",
              " [(26, 1), (27, 1), (70, 1)],\n",
              " [(26, 1), (27, 1), (70, 1)],\n",
              " [(26, 1), (27, 1), (70, 1)],\n",
              " [(26, 1), (27, 1), (70, 1)],\n",
              " [(54, 1), (55, 1), (56, 1)],\n",
              " [(52, 1), (58, 1), (61, 1), (80, 1), (81, 1)],\n",
              " [],\n",
              " [],\n",
              " [(23, 1), (115, 1)],\n",
              " [],\n",
              " [],\n",
              " [(70, 1), (126, 1), (127, 1), (128, 1), (129, 1), (130, 1)],\n",
              " [(23, 1), (58, 1), (115, 1)],\n",
              " [(70, 1), (126, 1), (127, 1), (128, 1), (129, 1), (130, 1)],\n",
              " [(70, 1), (126, 1), (127, 1), (128, 1), (129, 1), (130, 1)],\n",
              " [(132, 1)],\n",
              " [],\n",
              " [],\n",
              " [(14, 1)],\n",
              " [(82, 1), (136, 1)],\n",
              " [],\n",
              " [(53, 1)],\n",
              " [(68, 1)],\n",
              " [(157, 1)],\n",
              " [(157, 1)],\n",
              " [],\n",
              " [(57, 1)],\n",
              " [(57, 1)],\n",
              " [(57, 1)],\n",
              " [(48, 1), (58, 1), (158, 1)],\n",
              " [(53, 1), (85, 1), (140, 1)],\n",
              " [(26, 1)],\n",
              " [(26, 1)],\n",
              " [(26, 1)],\n",
              " [(26, 1)],\n",
              " [(24, 1), (25, 1), (26, 1), (27, 1)],\n",
              " [(24, 1), (25, 1), (26, 1), (27, 1)],\n",
              " [(23, 1), (115, 1), (159, 1), (160, 1)],\n",
              " [(103, 1)],\n",
              " [(23, 1), (115, 1), (159, 1), (160, 1)],\n",
              " [(26, 1)],\n",
              " [(26, 1)],\n",
              " [(4, 1), (148, 1)],\n",
              " [(4, 1), (148, 1)],\n",
              " [(23, 1), (115, 1), (159, 1), (160, 1)],\n",
              " [(4, 1), (148, 1)],\n",
              " [],\n",
              " [(84, 1), (103, 1), (146, 1)],\n",
              " [(84, 1), (103, 1), (146, 1)],\n",
              " [(4, 1), (148, 1)],\n",
              " [(103, 1)],\n",
              " [],\n",
              " [(143, 1), (144, 1), (145, 1)],\n",
              " [(69, 1)],\n",
              " [(143, 1), (144, 1), (145, 1)],\n",
              " [(75, 1), (76, 1)],\n",
              " [(24, 1), (25, 1), (26, 1), (27, 1), (147, 1)],\n",
              " [],\n",
              " [],\n",
              " [(161, 1), (162, 1)],\n",
              " [],\n",
              " [(150, 1)],\n",
              " [(64, 1), (118, 1)],\n",
              " [(105, 1)],\n",
              " [(163, 1), (164, 1)],\n",
              " [(15, 1), (94, 1)],\n",
              " [(15, 1), (94, 1)],\n",
              " [(17, 1), (33, 1), (88, 1), (94, 1)],\n",
              " [(17, 1), (33, 1), (88, 1), (94, 1)],\n",
              " [(17, 1), (33, 1), (88, 1), (94, 1)],\n",
              " [(15, 1), (109, 1), (110, 1), (111, 1)],\n",
              " [(15, 1), (109, 1), (110, 1), (111, 1)],\n",
              " [(15, 1), (109, 1), (110, 1), (111, 1)],\n",
              " [],\n",
              " [(15, 1), (94, 1)],\n",
              " [(17, 1), (33, 1), (88, 1), (94, 1)],\n",
              " [(53, 1), (85, 1), (165, 1)],\n",
              " [(15, 1), (112, 1)],\n",
              " [(15, 1), (112, 1)],\n",
              " [(15, 1), (112, 1)],\n",
              " [(15, 1), (94, 1)],\n",
              " [(15, 1), (94, 1)],\n",
              " [(17, 1), (33, 1), (88, 1), (94, 1)],\n",
              " [(17, 1), (33, 1), (88, 1), (94, 1)],\n",
              " [(15, 1), (109, 1), (110, 1), (111, 1)],\n",
              " [(15, 1), (113, 1), (151, 1)],\n",
              " [(15, 1), (112, 1)],\n",
              " [],\n",
              " [],\n",
              " [(50, 1), (57, 1), (166, 1)],\n",
              " [],\n",
              " [(17, 1), (33, 1), (88, 1), (94, 1), (95, 1)],\n",
              " [(15, 1), (112, 1)],\n",
              " [],\n",
              " [(52, 1)],\n",
              " [(52, 1)],\n",
              " [(52, 1)],\n",
              " [(52, 1)],\n",
              " [(52, 1)],\n",
              " [(52, 1)],\n",
              " [(52, 1)],\n",
              " [(52, 1)],\n",
              " [(52, 1)],\n",
              " [(52, 1)],\n",
              " [],\n",
              " [(2, 1), (117, 1), (118, 1)],\n",
              " [],\n",
              " [],\n",
              " [(52, 1)],\n",
              " [(52, 1)],\n",
              " [(152, 1)],\n",
              " [],\n",
              " [],\n",
              " [(52, 1)],\n",
              " [],\n",
              " [(52, 1)],\n",
              " [],\n",
              " [(84, 1)],\n",
              " [],\n",
              " [(52, 1)],\n",
              " [],\n",
              " [(52, 1)],\n",
              " [(49, 1), (50, 1), (51, 1)],\n",
              " [(49, 1), (50, 1), (51, 1)],\n",
              " [(49, 1), (50, 1), (51, 1)],\n",
              " [(49, 1), (50, 1), (51, 1)],\n",
              " [],\n",
              " [],\n",
              " [(52, 1)],\n",
              " [],\n",
              " [],\n",
              " [],\n",
              " [(52, 1)],\n",
              " [(153, 1)],\n",
              " [(52, 1)],\n",
              " [(52, 1)],\n",
              " [],\n",
              " [],\n",
              " [],\n",
              " [],\n",
              " [],\n",
              " [(142, 1), (167, 1)],\n",
              " [(67, 1)],\n",
              " [(67, 1)],\n",
              " [(98, 1)],\n",
              " [(121, 1), (122, 1), (123, 1)],\n",
              " [(121, 1), (122, 1), (123, 1)],\n",
              " [(122, 1), (124, 1), (125, 1)],\n",
              " [(168, 1)],\n",
              " [],\n",
              " [],\n",
              " [(23, 1), (58, 1), (115, 1)],\n",
              " [(70, 1), (126, 1), (127, 1), (128, 1), (129, 1), (130, 1)],\n",
              " [(70, 1), (126, 1), (127, 1), (128, 1), (129, 1), (130, 1)],\n",
              " [(70, 1), (126, 1), (127, 1), (128, 1), (129, 1), (130, 1)],\n",
              " [(70, 1), (126, 1), (127, 1), (128, 1), (129, 1), (130, 1)],\n",
              " [(70, 1), (126, 1), (127, 1), (128, 1), (129, 1), (130, 1)],\n",
              " [(70, 1), (126, 1), (127, 1), (128, 1), (129, 1), (130, 1)],\n",
              " [],\n",
              " [],\n",
              " [(75, 1), (76, 1), (97, 1)],\n",
              " [(131, 1)],\n",
              " [(75, 1), (76, 1), (97, 1)],\n",
              " [],\n",
              " [(83, 1), (169, 1)],\n",
              " [(75, 1), (76, 1), (97, 1)],\n",
              " [(131, 1)],\n",
              " [(84, 1)],\n",
              " [(84, 1)],\n",
              " [],\n",
              " [],\n",
              " [],\n",
              " [],\n",
              " [],\n",
              " [],\n",
              " [(157, 1)],\n",
              " [(157, 1)],\n",
              " [],\n",
              " [(57, 1), (170, 1)],\n",
              " [(157, 1)],\n",
              " [(48, 1), (58, 1), (158, 1)],\n",
              " [(25, 1), (54, 1), (137, 1), (138, 1)],\n",
              " [(58, 1), (59, 1), (60, 1), (61, 1)],\n",
              " [],\n",
              " [],\n",
              " [(29, 1), (139, 1)],\n",
              " [(141, 1), (142, 1)],\n",
              " [],\n",
              " [(25, 1), (41, 1), (54, 1), (137, 1), (138, 1)],\n",
              " [(24, 1), (25, 1), (26, 1), (27, 1)],\n",
              " [(75, 1), (76, 1)],\n",
              " [(23, 1), (115, 1), (159, 1), (160, 1)],\n",
              " [],\n",
              " [(77, 1)],\n",
              " [(103, 1), (146, 1)],\n",
              " [(26, 1)],\n",
              " [(103, 1)],\n",
              " [(23, 1), (115, 1), (159, 1), (160, 1)],\n",
              " [(23, 1), (115, 1), (159, 1), (160, 1)],\n",
              " [(7, 1), (8, 1), (9, 1), (10, 1)],\n",
              " [(103, 1), (146, 1)],\n",
              " [],\n",
              " [],\n",
              " [(26, 1)],\n",
              " [(75, 1), (76, 1)],\n",
              " [(24, 1), (25, 1), (26, 1), (27, 1)],\n",
              " [],\n",
              " [],\n",
              " [],\n",
              " [],\n",
              " [],\n",
              " [],\n",
              " [],\n",
              " [(7, 1), (8, 1), (9, 1), (10, 1)],\n",
              " [(171, 1)],\n",
              " [(75, 1), (76, 1)],\n",
              " [(75, 1), (76, 1)],\n",
              " [(52, 1), (58, 1)],\n",
              " [(52, 1), (58, 1)],\n",
              " [(75, 1), (76, 1)],\n",
              " [(52, 1), (58, 1)],\n",
              " [(52, 1), (58, 1)],\n",
              " [(52, 1), (58, 1)],\n",
              " [(52, 1), (58, 1)],\n",
              " [(52, 1), (58, 1)],\n",
              " [(52, 1)],\n",
              " [(52, 1)],\n",
              " [(52, 1)],\n",
              " [(52, 1)],\n",
              " [(52, 1)],\n",
              " [(2, 1), (117, 1), (118, 1)],\n",
              " [(52, 1)],\n",
              " [],\n",
              " [(152, 1)],\n",
              " [(152, 1)],\n",
              " [],\n",
              " [(89, 1), (172, 1), (173, 1), (174, 1)],\n",
              " [(50, 1), (57, 1), (166, 1)],\n",
              " [(52, 1)],\n",
              " [(50, 1), (57, 1), (166, 1)],\n",
              " [],\n",
              " [],\n",
              " [(119, 1), (120, 1)],\n",
              " [(98, 1)],\n",
              " [(121, 1), (122, 1), (123, 1)],\n",
              " [(122, 1), (124, 1), (125, 1)],\n",
              " [(122, 1), (124, 1), (125, 1)],\n",
              " [(75, 1), (76, 1), (97, 1)],\n",
              " [],\n",
              " [],\n",
              " [(55, 1), (70, 1)],\n",
              " [(82, 1), (136, 1), (169, 1)],\n",
              " [(131, 1)],\n",
              " [],\n",
              " [(132, 1)],\n",
              " [(14, 1)],\n",
              " [(83, 1)],\n",
              " [],\n",
              " [],\n",
              " [],\n",
              " [],\n",
              " [],\n",
              " [(156, 1)],\n",
              " [],\n",
              " [],\n",
              " [(53, 1)],\n",
              " [(53, 1), (167, 1)],\n",
              " [(53, 1), (167, 1)],\n",
              " [(53, 1), (85, 1), (140, 1)],\n",
              " [(23, 1), (84, 1), (175, 1)],\n",
              " [(122, 1), (124, 1), (125, 1)],\n",
              " [(115, 1), (176, 1)],\n",
              " [],\n",
              " [(141, 1)],\n",
              " [],\n",
              " [],\n",
              " [(177, 1), (178, 1), (179, 1)],\n",
              " [(177, 1), (178, 1), (179, 1)],\n",
              " [],\n",
              " [(58, 1)],\n",
              " [(180, 1)],\n",
              " [(180, 1)],\n",
              " [(115, 1), (176, 1)],\n",
              " [(52, 1), (58, 1)],\n",
              " [(24, 1), (58, 1), (78, 1)],\n",
              " [(181, 1)],\n",
              " [(182, 1)],\n",
              " [(183, 1)],\n",
              " [(183, 1)],\n",
              " [(48, 1), (184, 1)],\n",
              " [(183, 1)],\n",
              " [(185, 1)],\n",
              " [(185, 1)],\n",
              " [(179, 1)],\n",
              " [],\n",
              " [],\n",
              " [(48, 1)],\n",
              " [(26, 1), (71, 1), (186, 1)],\n",
              " [(48, 1), (184, 1)],\n",
              " [(183, 1)],\n",
              " [(116, 1)],\n",
              " [(48, 1), (184, 1)],\n",
              " [(48, 1), (184, 1)],\n",
              " [(50, 1)],\n",
              " [(164, 1), (183, 1)],\n",
              " [(84, 1), (185, 1)],\n",
              " [(116, 1)],\n",
              " [(116, 1)],\n",
              " [(48, 1), (184, 1)],\n",
              " [(179, 1)],\n",
              " [(23, 1)],\n",
              " [(50, 1), (187, 1)],\n",
              " [(4, 1), (53, 1)],\n",
              " [],\n",
              " [(53, 1)],\n",
              " [(55, 1), (110, 2), (188, 1)],\n",
              " [(55, 1), (110, 2), (188, 1)],\n",
              " [],\n",
              " [(55, 1), (110, 2), (188, 1)],\n",
              " [(189, 1)],\n",
              " [(190, 1), (191, 1), (192, 1)],\n",
              " [],\n",
              " [(193, 1)],\n",
              " [(193, 1)],\n",
              " [],\n",
              " [(52, 1), (58, 1)],\n",
              " [(64, 1), (88, 1), (194, 1), (195, 1)],\n",
              " [(64, 1), (88, 1), (194, 1), (195, 1)],\n",
              " [(190, 1), (191, 1), (192, 1)],\n",
              " [(53, 1)],\n",
              " [],\n",
              " [(193, 1)],\n",
              " [(193, 1)],\n",
              " [(193, 1)],\n",
              " [(6, 1)],\n",
              " [(114, 1)],\n",
              " [(6, 1)],\n",
              " [(52, 1), (58, 1)],\n",
              " [(52, 1), (58, 1)],\n",
              " [(196, 1)],\n",
              " [(52, 1), (58, 1)],\n",
              " [(52, 1), (58, 1)],\n",
              " [(88, 1), (92, 1), (104, 1)],\n",
              " [(88, 1), (92, 1), (104, 1)],\n",
              " [(78, 1), (111, 1), (197, 1)],\n",
              " [(78, 1), (111, 1), (197, 1)],\n",
              " [(78, 1), (111, 1), (197, 1)],\n",
              " [(198, 1), (199, 1)],\n",
              " [(198, 1), (199, 1)],\n",
              " [(198, 1), (199, 1)],\n",
              " [(198, 1), (199, 1)],\n",
              " [(74, 1)],\n",
              " [(198, 1), (199, 1)],\n",
              " [(74, 1)],\n",
              " [(74, 1)],\n",
              " [(74, 1)],\n",
              " ...]"
            ]
          },
          "metadata": {
            "tags": []
          },
          "execution_count": 24
        }
      ]
    },
    {
      "cell_type": "markdown",
      "metadata": {
        "id": "sV-Cm37mhT6G",
        "colab_type": "text"
      },
      "source": [
        "#Creating LDA Model"
      ]
    },
    {
      "cell_type": "code",
      "metadata": {
        "id": "1BqMPG_EbDb3",
        "colab_type": "code",
        "colab": {}
      },
      "source": [
        "#training the model\n",
        "lda_model = gensim.models.ldamodel.LdaModel(corpus=corpus,\n",
        "                                           id2word=id2word,\n",
        "                                           num_topics = 4,\n",
        "                                           random_state=10,\n",
        "                                           update_every=10,\n",
        "                                           minimum_probability = 0.01,\n",
        "                                           alpha='auto',\n",
        "                                           eta = 'auto',\n",
        "                                           per_word_topics=True)"
      ],
      "execution_count": 0,
      "outputs": []
    },
    {
      "cell_type": "code",
      "metadata": {
        "id": "WBt1h3at60OM",
        "colab_type": "code",
        "colab": {}
      },
      "source": [
        "# Print the Keyword in the 10 topics\n",
        "pprint(lda_model.print_topics())\n",
        "doc_lda = lda_model[corpus]"
      ],
      "execution_count": 0,
      "outputs": []
    },
    {
      "cell_type": "code",
      "metadata": {
        "id": "Pxb0D2go6_e0",
        "colab_type": "code",
        "colab": {}
      },
      "source": [
        "print('\\nPerplexity: ', lda_model.log_perplexity(corpus))  \n",
        "\n",
        "# Compute Coherence Score\n",
        "coherence_model_lda = CoherenceModel(model=lda_model, texts=data_words_final, dictionary=id2word, coherence='c_v')\n",
        "coherence_lda = coherence_model_lda.get_coherence()\n",
        "print('\\nCoherence Score: ', coherence_lda)"
      ],
      "execution_count": 0,
      "outputs": []
    },
    {
      "cell_type": "code",
      "metadata": {
        "id": "3sGHuZUx0Kh5",
        "colab_type": "code",
        "colab": {}
      },
      "source": [
        "#interactive charts\n",
        "pyLDAvis.enable_notebook()\n",
        "vis = pyLDAvis.gensim.prepare(lda_model, corpus, id2word)\n",
        "vis"
      ],
      "execution_count": 0,
      "outputs": []
    },
    {
      "cell_type": "markdown",
      "metadata": {
        "id": "pLHBRKuz_xGy",
        "colab_type": "text"
      },
      "source": [
        "##Find out the optimal number of topics based on the coherence score- Gensim's LDA"
      ]
    },
    {
      "cell_type": "code",
      "metadata": {
        "id": "f6VIt5ePFwVk",
        "colab_type": "code",
        "colab": {}
      },
      "source": [
        "#to find the right number of topic with LdaModel\n",
        "def compute_coherence_values(dictionary, corpus, texts, limit, start=10, step=5):\n",
        "  coherence_values = []\n",
        "  perplexity_values=[]\n",
        "  model_list = []\n",
        "  for num_topics in range(start, limit, step):\n",
        "      model = gensim.models.ldamodel.LdaModel(corpus=corpus, num_topics=num_topics, id2word=id2word,passes=50,minimum_probability=0.03)\n",
        "      model_list.append(model)\n",
        "      coherence_model_lda = CoherenceModel(model=model, texts=data_words_final, dictionary=id2word, coherence='c_v')\n",
        "      coherence_values.append (coherence_model_lda.get_coherence())\n",
        "      perplexity_values.append(model.log_perplexity(corpus))\n",
        "\n",
        "  return model_list, coherence_values, perplexity_values"
      ],
      "execution_count": 0,
      "outputs": []
    },
    {
      "cell_type": "code",
      "metadata": {
        "id": "UusUIr_s98ap",
        "colab_type": "code",
        "colab": {}
      },
      "source": [
        "model_list , coherence_values,perplexity_values = compute_coherence_values(dictionary=id2word,corpus=corpus,texts=data_words_final,limit=20,start=2,step=1)\n",
        "print(model_list)\n",
        "print(coherence_values)\n",
        "print(perplexity_values)\n"
      ],
      "execution_count": 0,
      "outputs": []
    },
    {
      "cell_type": "code",
      "metadata": {
        "id": "qhtWvHbrSe7D",
        "colab_type": "code",
        "colab": {}
      },
      "source": [
        "# Show graph\n",
        "limit=20; start=2; step=1;\n",
        "x = range(start, limit, step)\n",
        "plt.plot(x, coherence_values)\n",
        "plt.xlabel(\"Num Topics\")\n",
        "plt.ylabel(\"coherence_values\")\n",
        "plt.legend((\"coherence_values\"), loc='best')\n",
        "plt.show()"
      ],
      "execution_count": 0,
      "outputs": []
    },
    {
      "cell_type": "code",
      "metadata": {
        "id": "5F_x3OJiln89",
        "colab_type": "code",
        "colab": {}
      },
      "source": [
        "#printing coherence scores\n",
        "\n",
        "for num_topic,score in zip(x,coherence_values):\n",
        "  print(\"Number of topics:\",num_topic,\"has coherence score of:\",round(score,4))"
      ],
      "execution_count": 0,
      "outputs": []
    },
    {
      "cell_type": "markdown",
      "metadata": {
        "id": "PHrz2z9h3eIL",
        "colab_type": "text"
      },
      "source": [
        "##Find out the optimal number of topics based on the coherence score- LDA Mallet\n"
      ]
    },
    {
      "cell_type": "code",
      "metadata": {
        "id": "RzzmBvrRowxx",
        "colab_type": "code",
        "colab": {}
      },
      "source": [
        "#find the right number of topics for the document\n",
        "\n",
        "def compute_coherence_score(dictionary, corpus, texts, limit, start=5, step=2):\n",
        "  \"\"\"Compute Coherence score for different values of num of topics\"\"\"\n",
        "  coherence_values = []\n",
        "\n",
        "  model_list = []\n",
        "  for num_topics in range(start,limit,step):\n",
        "    model = gensim.models.wrappers.LdaMallet(mallet_path, corpus = corpus, num_topics= num_topics,id2word=id2word,random_seed=1301, )\n",
        "    model_list.append(model)\n",
        "    coherencescore = CoherenceModel(model=model, texts=data_words_final, dictionary=dictionary, coherence='c_v')\n",
        "    coherence_values.append(coherencescore.get_coherence())\n",
        "  \n",
        "\n",
        "  return model_list, coherence_values"
      ],
      "execution_count": 0,
      "outputs": []
    },
    {
      "cell_type": "code",
      "metadata": {
        "id": "KZrk4YwwLLSk",
        "colab_type": "code",
        "colab": {}
      },
      "source": [
        "model_list , coherence_values = compute_coherence_score(dictionary=id2word,texts=data_words_final,corpus=corpus,limit=20,start=3,step=1)"
      ],
      "execution_count": 0,
      "outputs": []
    },
    {
      "cell_type": "code",
      "metadata": {
        "id": "ssOQR09YGzfs",
        "colab_type": "code",
        "colab": {}
      },
      "source": [
        "print(model_list)\n",
        "print(coherence_values)"
      ],
      "execution_count": 0,
      "outputs": []
    },
    {
      "cell_type": "code",
      "metadata": {
        "id": "vttwhW66N_c9",
        "colab_type": "code",
        "colab": {}
      },
      "source": [
        "# Show graph\n",
        "limit=20; start=3; step=1;\n",
        "x = range(start, limit, step)\n",
        "plt.plot(x, coherence_values)\n",
        "plt.xlabel(\"Num Topics\")\n",
        "plt.ylabel(\"Coherence score\")\n",
        "plt.legend((\"coherence_values\"), loc='best')\n",
        "plt.show()"
      ],
      "execution_count": 0,
      "outputs": []
    },
    {
      "cell_type": "code",
      "metadata": {
        "id": "QUDWofZ3IKbl",
        "colab_type": "code",
        "colab": {}
      },
      "source": [
        "# find the score by the num of topics\n",
        "\n",
        "for num,score in zip(x,coherence_values):\n",
        "  print(\"For number of topics:\",num,\"the coherence score is:\",score)"
      ],
      "execution_count": 0,
      "outputs": []
    },
    {
      "cell_type": "markdown",
      "metadata": {
        "id": "qHswWWmDjE9T",
        "colab_type": "text"
      },
      "source": [
        "#LDAMallet"
      ]
    },
    {
      "cell_type": "code",
      "metadata": {
        "id": "-0N_vGXvWLRC",
        "colab_type": "code",
        "colab": {}
      },
      "source": [
        "#Use of LDA mallet model\n",
        "num_topics  = 4\n",
        "ldamallet = gensim.models.wrappers.LdaMallet(mallet_path = mallet_path, id2word = id2word, corpus=corpus,num_topics =num_topics)"
      ],
      "execution_count": 0,
      "outputs": []
    },
    {
      "cell_type": "code",
      "metadata": {
        "id": "NGDKfaqOMcTz",
        "colab_type": "code",
        "colab": {}
      },
      "source": [
        "#print the topic with Mallet\n",
        "\n",
        "pprint(ldamallet.show_topics(formatted=False))"
      ],
      "execution_count": 0,
      "outputs": []
    },
    {
      "cell_type": "code",
      "metadata": {
        "id": "LbID2P6om7Hh",
        "colab_type": "code",
        "outputId": "fb797cfc-a131-4805-a5b2-aa0d079a2360",
        "colab": {
          "base_uri": "https://localhost:8080/",
          "height": 34
        }
      },
      "source": [
        "#find the coherence socre\n",
        "\n",
        "coherence_model_mallet = CoherenceModel(model = ldamallet, texts= data_words_final, dictionary= id2word, coherence='c_v')\n",
        "coherence_mallet = coherence_model_mallet.get_coherence()\n",
        "print(\"Coherence with Mallet model is:\", coherence_mallet)"
      ],
      "execution_count": 0,
      "outputs": [
        {
          "output_type": "stream",
          "text": [
            "Coherence with Mallet model is: 0.7007142655421706\n"
          ],
          "name": "stdout"
        }
      ]
    },
    {
      "cell_type": "markdown",
      "metadata": {
        "id": "K4o3hN9DKg-A",
        "colab_type": "text"
      },
      "source": [
        "#Get dominant topic in each email subject line"
      ]
    },
    {
      "cell_type": "code",
      "metadata": {
        "id": "YbZhqbvpFASf",
        "colab_type": "code",
        "colab": {}
      },
      "source": [
        "def get_dominant_topic(ldamodel=ldamallet,corpus=corpus, texts=data_words_final):\n",
        "\n",
        "  subjectline_topic_df = pd.DataFrame()\n",
        "\n",
        "  for i,row in enumerate(ldamodel[corpus]):\n",
        "    # print(row)\n",
        "    row=sorted(row,key=lambda x: x[1],reverse=True)\n",
        "\n",
        "    for j,(t_num,t_prob) in enumerate(row):\n",
        "      # print(j)\n",
        "      if j==0:\n",
        "        tp = ldamodel.show_topic(t_num)\n",
        "        topic_keywords= \",\".join([word for word, prob in tp])\n",
        "        subjectline_topic_df= subjectline_topic_df.append(pd.Series([int(t_num),round(t_prob,4),topic_keywords]),ignore_index=True)\n",
        "      else:\n",
        "        break\n",
        "  subjectline_topic_df.columns= ['Dominant_topic_number','Topic_prob',\"Key_words\"]\n",
        "\n",
        "  original_text = pd.Series(texts)\n",
        "  subjectline_topic_df= pd.concat([subjectline_topic_df,original_text],axis=1)\n",
        "  return(subjectline_topic_df)\n",
        "\n",
        "\n",
        "df_subject_topic = get_dominant_topic(ldamodel=ldamallet,corpus=corpus, texts=data_words_final)\n",
        "\n",
        "df_dominant_topic=df_subject_topic.reset_index()\n",
        "df_dominant_topic.columns =['DocNum','TopicNum','TopicPercentContribution','Keywords','OriginalSubject']\n"
      ],
      "execution_count": 0,
      "outputs": []
    },
    {
      "cell_type": "code",
      "metadata": {
        "id": "QIEdN7Vuavig",
        "colab_type": "code",
        "colab": {}
      },
      "source": [
        "display_all(df_dominant_topic)"
      ],
      "execution_count": 0,
      "outputs": []
    },
    {
      "cell_type": "markdown",
      "metadata": {
        "id": "X9rgPDNbKVnj",
        "colab_type": "text"
      },
      "source": [
        "#Get dominant subject line represented for each topic"
      ]
    },
    {
      "cell_type": "code",
      "metadata": {
        "id": "wqyfhxELXJEh",
        "colab_type": "code",
        "outputId": "0dec4efd-5d43-484b-b5f7-9ade8ac4a0db",
        "colab": {
          "base_uri": "https://localhost:8080/",
          "height": 173
        }
      },
      "source": [
        "#increase the size of the column\n",
        "\n",
        "pd.options.display.max_colwidth = 100\n",
        "\n",
        "subjectline_for_topic_df = pd.DataFrame()\n",
        "\n",
        "subject_topic_grouped = df_subject_topic.groupby('Dominant_topic_number')\n",
        "\n",
        "for i, group in subject_topic_grouped:\n",
        "  # print(group)\n",
        "  subjectline_for_topic_df = pd.concat([subjectline_for_topic_df,group.sort_values(['Topic_prob'],ascending=False).head(1)],axis=0)\n",
        "\n",
        "# subjectline_for_topic_df=subjectline_for_topic_df.copy()\n",
        "subjectline_for_topic_df.reset_index(drop=True,inplace=True)\n",
        "\n",
        "subjectline_for_topic_df.columns=['TopicNum','TopicPercentContribution','TopicKeywords','MostRepresentiveOriginalSubject']\n",
        "\n",
        "subjectline_for_topic_df.head()"
      ],
      "execution_count": 0,
      "outputs": [
        {
          "output_type": "execute_result",
          "data": {
            "text/html": [
              "<div>\n",
              "<style scoped>\n",
              "    .dataframe tbody tr th:only-of-type {\n",
              "        vertical-align: middle;\n",
              "    }\n",
              "\n",
              "    .dataframe tbody tr th {\n",
              "        vertical-align: top;\n",
              "    }\n",
              "\n",
              "    .dataframe thead th {\n",
              "        text-align: right;\n",
              "    }\n",
              "</style>\n",
              "<table border=\"1\" class=\"dataframe\">\n",
              "  <thead>\n",
              "    <tr style=\"text-align: right;\">\n",
              "      <th></th>\n",
              "      <th>TopicNum</th>\n",
              "      <th>TopicPercentContribution</th>\n",
              "      <th>TopicKeywords</th>\n",
              "      <th>MostRepresentiveOriginalSubject</th>\n",
              "    </tr>\n",
              "  </thead>\n",
              "  <tbody>\n",
              "    <tr>\n",
              "      <th>0</th>\n",
              "      <td>0.0</td>\n",
              "      <td>0.3246</td>\n",
              "      <td>news,alumnus,travel,special,graduation,legacy_available,ask_tour,celebration,offer,celebrate</td>\n",
              "      <td>[mixer, resume_review, alumnus, information, special, sale, product]</td>\n",
              "    </tr>\n",
              "    <tr>\n",
              "      <th>1</th>\n",
              "      <td>1.0</td>\n",
              "      <td>0.3304</td>\n",
              "      <td>chance,win,thought,share,chapter,devil,career,newsletter,reminder,student</td>\n",
              "      <td>[alum, inside_scoop, find_dream, job_launch, business_build, network]</td>\n",
              "    </tr>\n",
              "    <tr>\n",
              "      <th>2</th>\n",
              "      <td>2.0</td>\n",
              "      <td>0.3056</td>\n",
              "      <td>event,join,reward,miss,day,season,feedback_website,earn_provide,football,grad</td>\n",
              "      <td>[join, exciting_upcoming, native, event]</td>\n",
              "    </tr>\n",
              "    <tr>\n",
              "      <th>3</th>\n",
              "      <td>3.0</td>\n",
              "      <td>0.3056</td>\n",
              "      <td>invite,tailgate,regalia,ticket,free,summer,care,send,register,discount</td>\n",
              "      <td>[invite, leadership, program, info_session]</td>\n",
              "    </tr>\n",
              "  </tbody>\n",
              "</table>\n",
              "</div>"
            ],
            "text/plain": [
              "   TopicNum  ...                                        MostRepresentiveOriginalSubject\n",
              "0       0.0  ...   [mixer, resume_review, alumnus, information, special, sale, product]\n",
              "1       1.0  ...  [alum, inside_scoop, find_dream, job_launch, business_build, network]\n",
              "2       2.0  ...                               [join, exciting_upcoming, native, event]\n",
              "3       3.0  ...                            [invite, leadership, program, info_session]\n",
              "\n",
              "[4 rows x 4 columns]"
            ]
          },
          "metadata": {
            "tags": []
          },
          "execution_count": 29
        }
      ]
    },
    {
      "cell_type": "markdown",
      "metadata": {
        "id": "GplI0K6GjaVs",
        "colab_type": "text"
      },
      "source": [
        "#Frequency of word counts in Documents"
      ]
    },
    {
      "cell_type": "code",
      "metadata": {
        "id": "pMc6Nn-2rzws",
        "colab_type": "code",
        "outputId": "ae065987-0325-40b1-daf0-a9ecb6ac8e5d",
        "colab": {
          "base_uri": "https://localhost:8080/",
          "height": 521
        }
      },
      "source": [
        "doc_lens = [len(d) for d in df_dominant_topic.OriginalSubject]\n",
        "# print(doc_lens)\n",
        "# Plot\n",
        "\n",
        "plt.figure(figsize=(10,5), dpi=100)\n",
        "fig, ax = plt.subplots(figsize=(5,5),dpi=100)\n",
        "plt.hist(doc_lens, bins = 50, color='navy')\n",
        "plt.text(7,1210, \"Mean   : \" + str(round(np.mean(doc_lens))))\n",
        "plt.text(7,1110, \"Median : \" + str(round(np.median(doc_lens))))\n",
        "plt.text(7, 1010, \"Stdev   : \" + str(round(np.std(doc_lens))))\n",
        "plt.text(7, 910, \"75%ile    : \" + str(round(np.quantile(doc_lens, q=0.75))))\n",
        "plt.text(7, 810, \"99%ile  : \" + str(round(np.quantile(doc_lens, q=0.99))))\n",
        "\n",
        "plt.gca().set(xlim=(0,1), xlabel='Document Word Count')\n",
        "plt.tick_params(size=12)\n",
        "plt.xticks(np.linspace(0,10,10))\n",
        "plt.title('Distribution of Subjecline Word Counts', fontdict=dict(size=12))\n",
        "# plt.yticks(False)\n",
        "\n",
        "\n",
        "for p in ax.patches:\n",
        "        ax.annotate('{:}'.format(p.get_height()), (p.get_x()+0.1, p.get_height()+200),fontsize=9)\n",
        "# Show graphic\n"
      ],
      "execution_count": 0,
      "outputs": [
        {
          "output_type": "display_data",
          "data": {
            "text/plain": [
              "<Figure size 1000x500 with 0 Axes>"
            ]
          },
          "metadata": {
            "tags": []
          }
        },
        {
          "output_type": "display_data",
          "data": {
            "image/png": "[encoded data removed]",
            "text/plain": [
              "<Figure size 500x500 with 1 Axes>"
            ]
          },
          "metadata": {
            "tags": []
          }
        }
      ]
    },
    {
      "cell_type": "markdown",
      "metadata": {
        "id": "qtgTDKpSt0fR",
        "colab_type": "text"
      },
      "source": [
        "#WordClouds for both the Models 1. LDAMallet 2. Gensim's LDA"
      ]
    },
    {
      "cell_type": "code",
      "metadata": {
        "id": "4iGDwwgJ5afp",
        "colab_type": "code",
        "outputId": "12086101-11a8-4a51-a205-dce358399f59",
        "colab": {
          "base_uri": "https://localhost:8080/",
          "height": 376
        }
      },
      "source": [
        "from matplotlib import pyplot as plt\n",
        "from wordcloud import WordCloud, STOPWORDS\n",
        "import matplotlib.colors as mcolors\n",
        "\n",
        "cols = ['#00A3E0','#8C1D40','#FFC627','#78BE20']  # more colors: 'mcolors.XKCD_COLORS'\n",
        "\n",
        "cloud = WordCloud(stopwords=stop_words,\n",
        "                  background_color='white',\n",
        "                  width=1000,\n",
        "                  height=500,\n",
        "                  max_words=10,\n",
        "                  colormap='tab10',\n",
        "                  color_func=lambda *args, **kwargs: cols[i],\n",
        "                  prefer_horizontal=1.0)\n",
        "\n",
        "topics = ldamallet.show_topics(formatted=False)\n",
        "\n",
        "fig, axes = plt.subplots(2,2, figsize=(7,7), sharex=True, sharey=True)\n",
        "\n",
        "for i, ax in enumerate(axes.flatten()):\n",
        "    fig.add_subplot(ax)\n",
        "    topic_words = dict(topics[i][1])\n",
        "    cloud.generate_from_frequencies(topic_words, max_font_size=300)\n",
        "    plt.gca().imshow(cloud)\n",
        "    plt.title(\"Results for LDA Mallet\",fontsize=22)\n",
        "    plt.gca().set_title('Topic ' + str(i), fontdict=dict(size=16))\n",
        "    plt.gca().axis('off')\n",
        "\n",
        "\n",
        "plt.subplots_adjust(wspace=0, hspace=0)\n",
        "plt.axis('off')\n",
        "plt.margins(x=0, y=0)\n",
        "plt.tight_layout()\n",
        "plt.show()"
      ],
      "execution_count": 0,
      "outputs": [
        {
          "output_type": "display_data",
          "data": {
            "image/png": "[encoded data removed]",
            "text/plain": [
              "<Figure size 504x504 with 4 Axes>"
            ]
          },
          "metadata": {
            "tags": []
          }
        }
      ]
    },
    {
      "cell_type": "code",
      "metadata": {
        "id": "zYVcxYw9uISF",
        "colab_type": "code",
        "colab": {}
      },
      "source": [
        "from matplotlib import pyplot as plt\n",
        "from wordcloud import WordCloud, STOPWORDS\n",
        "import matplotlib.colors as mcolors\n",
        "\n",
        "cols = ['#00A3E0','#8C1D40','#FFC627','#78BE20','#00A3E0']  # more colors: 'mcolors.XKCD_COLORS'\n",
        "\n",
        "cloud = WordCloud(stopwords=stop_words,\n",
        "                  background_color='white',\n",
        "                  width=1500,\n",
        "                  height=800,\n",
        "                  max_words=10,\n",
        "                  colormap='tab10',\n",
        "                  color_func=lambda *args, **kwargs: cols[i],\n",
        "                  prefer_horizontal=1.0)\n",
        "\n",
        "topics =lda_model.show_topics(formatted=False)\n",
        "\n",
        "fig, axes = plt.subplots(2,2, figsize=(10,10), sharex=True, sharey=True)\n",
        "\n",
        "for i, ax in enumerate(axes.flatten()):\n",
        "    fig.add_subplot(ax)\n",
        "    topic_words = dict(topics[i][1])\n",
        "    cloud.generate_from_frequencies(topic_words, max_font_size=300)\n",
        "    plt.gca().imshow(cloud)\n",
        "    plt.title(\"Results for LDA Gensim\",fontsize=22)\n",
        "    plt.gca().set_title('Topic ' + str(i), fontdict=dict(size=16))\n",
        "    plt.gca().axis('off')\n",
        "\n",
        "\n",
        "plt.subplots_adjust(wspace=0, hspace=0)\n",
        "plt.axis('off')\n",
        "plt.margins(x=0, y=0)\n",
        "plt.tight_layout()\n",
        "plt.show()"
      ],
      "execution_count": 0,
      "outputs": []
    },
    {
      "cell_type": "markdown",
      "metadata": {
        "id": "Tk6Kd0SmN09N",
        "colab_type": "text"
      },
      "source": [
        "#Import Email Summary Data"
      ]
    },
    {
      "cell_type": "code",
      "metadata": {
        "id": "5PP4HjAhNQht",
        "colab_type": "code",
        "colab": {}
      },
      "source": [
        "summary_df = pd.read_csv(r'/gdrive/My Drive/KAEMH/EmailSpamAnalysis/Email_Send_Summary_Data 2020-02-05.csv')"
      ],
      "execution_count": 0,
      "outputs": []
    },
    {
      "cell_type": "code",
      "metadata": {
        "id": "HlvoREv2RpXr",
        "colab_type": "code",
        "colab": {}
      },
      "source": [
        "display_all(summary_df)"
      ],
      "execution_count": 0,
      "outputs": []
    },
    {
      "cell_type": "markdown",
      "metadata": {
        "id": "uGmGp5rscrr6",
        "colab_type": "text"
      },
      "source": [
        "#Concat Topicnum dataframe with Original subject line dataframe"
      ]
    },
    {
      "cell_type": "code",
      "metadata": {
        "id": "CE5C4EUSRsdn",
        "colab_type": "code",
        "colab": {}
      },
      "source": [
        "#reset index of filter_filter_df & df_dominant_topic\n",
        "reset_filter_df=filter_filter_df.reset_index()\n",
        "reset_dominant_topic=df_dominant_topic.reset_index()\n",
        "\n",
        "concat_df=pd.concat([reset_filter_df,reset_dominant_topic],axis=1)\n",
        "concat_df.head()"
      ],
      "execution_count": 0,
      "outputs": []
    },
    {
      "cell_type": "code",
      "metadata": {
        "id": "LzZmmvxvfBKs",
        "colab_type": "code",
        "colab": {}
      },
      "source": [
        "#cleaning datacolumns\n",
        "concat_df.drop('level_0',axis=1,inplace=True)\n",
        "concat_df"
      ],
      "execution_count": 0,
      "outputs": []
    },
    {
      "cell_type": "markdown",
      "metadata": {
        "id": "qvwQA_zT0ZDH",
        "colab_type": "text"
      },
      "source": [
        "#Merge derived topics with email summary stats"
      ]
    },
    {
      "cell_type": "code",
      "metadata": {
        "id": "T0USOdeEg-2n",
        "colab_type": "code",
        "colab": {}
      },
      "source": [
        "#merge\n",
        "summary_topic_df = pd.merge(concat_df,summary_df,on=['DimCampaignId','DimBusinessUnitId'])\n",
        "summary_topic_df"
      ],
      "execution_count": 0,
      "outputs": []
    },
    {
      "cell_type": "markdown",
      "metadata": {
        "id": "P5E0QQcP0iQv",
        "colab_type": "text"
      },
      "source": [
        "#Naming the topics and adding to the dataframe"
      ]
    },
    {
      "cell_type": "code",
      "metadata": {
        "id": "uYG2Qs4KsmQI",
        "colab_type": "code",
        "colab": {}
      },
      "source": [
        "#Creating names for each topic and adding a seperate column for the same\n",
        "conditions = [summary_topic_df['TopicNum']==0.0,summary_topic_df['TopicNum']==1.0,summary_topic_df['TopicNum']==2.0,summary_topic_df['TopicNum']==3.0]\n",
        "\n",
        "values =['News_Alumnus','Join_Event','Offers_Share','Rewards_Tailgate']\n",
        "\n",
        "summary_topic_df['TopicName']=np.select(conditions,values,'TopicNum')\n",
        "summary_topic_df.head()"
      ],
      "execution_count": 0,
      "outputs": []
    },
    {
      "cell_type": "code",
      "metadata": {
        "id": "KxxwlNrppzuv",
        "colab_type": "code",
        "colab": {}
      },
      "source": [
        "summary_topic_df.to_csv('/gdrive/My Drive/KAEMH/EmailSpamAnalysis/Summary_Email_Topics_updated.csv')"
      ],
      "execution_count": 0,
      "outputs": []
    }
  ]
}